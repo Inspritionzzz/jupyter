{
 "cells": [
  {
   "cell_type": "code",
   "execution_count": 1,
   "id": "0c394c78-3576-4bc0-b9ca-eb8923255def",
   "metadata": {},
   "outputs": [],
   "source": [
    "import numpy as np\n",
    "import pandas as pd\n",
    "import seaborn as sns\n",
    "from matplotlib import pyplot as plt"
   ]
  },
  {
   "cell_type": "code",
   "execution_count": 2,
   "id": "bc0b5158-284c-4566-9a19-ee5d39f55d9f",
   "metadata": {},
   "outputs": [],
   "source": [
    "pd.set_option('display.max_columns', None)\n",
    "pd.set_option('display.max_rows', None)\n",
    "pd.set_option('display.float_format', lambda x: '%.3f' % x)\n",
    "pd.set_option('display.width', 500)\n",
    "\n",
    "import warnings\n",
    "warnings.filterwarnings(\"ignore\")"
   ]
  },
  {
   "cell_type": "code",
   "execution_count": 3,
   "id": "29f37bb4-b6d6-441e-afc3-3b36ff3d715d",
   "metadata": {},
   "outputs": [
    {
     "name": "stdout",
     "output_type": "stream",
     "text": [
      "<class 'pandas.core.frame.DataFrame'>\n",
      "RangeIndex: 24141 entries, 0 to 24140\n",
      "Data columns (total 44 columns):\n",
      " #   Column     Non-Null Count  Dtype  \n",
      "---  ------     --------------  -----  \n",
      " 0   客户状态       24141 non-null  object \n",
      " 1   员工编号       24141 non-null  object \n",
      " 2   员工姓名       24141 non-null  object \n",
      " 3   性别         24141 non-null  object \n",
      " 4   用工性质中文描述   24141 non-null  object \n",
      " 5   四级机构中文描述   24141 non-null  object \n",
      " 6   工作城市中文描述   24141 non-null  object \n",
      " 7   二级机构中文描述   24141 non-null  object \n",
      " 8   一级机构中文描述   24141 non-null  object \n",
      " 9   三级机构中文描述   24141 non-null  object \n",
      " 10  人员性质中文描述   24141 non-null  object \n",
      " 11  岗位中文描述     24141 non-null  object \n",
      " 12  职级中文描述     24137 non-null  object \n",
      " 13  入职日期       24141 non-null  object \n",
      " 14  职级中文描述.1   24137 non-null  object \n",
      " 15  参加工作日期     23902 non-null  object \n",
      " 16  转正日期       24138 non-null  object \n",
      " 17  招聘来源       24100 non-null  object \n",
      " 18  最高职称       23996 non-null  object \n",
      " 19  移动电话       24093 non-null  object \n",
      " 20  民族         23729 non-null  object \n",
      " 21  最高学历中文描述   24141 non-null  object \n",
      " 22  身份证号码      24141 non-null  object \n",
      " 23  出生日期       24141 non-null  object \n",
      " 24  户口所在地      23665 non-null  object \n",
      " 25  离职日期       0 non-null      float64\n",
      " 26  公司电话       9241 non-null   object \n",
      " 27  政治面貌       14147 non-null  object \n",
      " 28  经济工作日期     23630 non-null  object \n",
      " 29  证券工作日期     23600 non-null  object \n",
      " 30  汇报关系       14132 non-null  object \n",
      " 31  最高学位       23975 non-null  object \n",
      " 32  薪酬档次中文描述   24135 non-null  object \n",
      " 33  岗位类别中文描述   24141 non-null  object \n",
      " 34  保荐代表人资格    1054 non-null   object \n",
      " 35  新人培养       9151 non-null   object \n",
      " 36  年龄         24141 non-null  float64\n",
      " 37  工龄         23902 non-null  float64\n",
      " 38  司龄         24141 non-null  float64\n",
      " 39  是否备案人员     479 non-null    object \n",
      " 40  业务部_业务组    261 non-null    object \n",
      " 41  业务部_业务组.1  0 non-null      float64\n",
      " 42  金融工作日期     23635 non-null  object \n",
      " 43  recdate    24141 non-null  int64  \n",
      "dtypes: float64(5), int64(1), object(38)\n",
      "memory usage: 8.1+ MB\n"
     ]
    }
   ],
   "source": [
    "df = pd.read_csv(\"./datasets/hr信息导入和数据清洗.csv\")\n",
    "df.info()"
   ]
  },
  {
   "cell_type": "code",
   "execution_count": null,
   "id": "b0360b17-36ae-4195-af28-f980858bac25",
   "metadata": {},
   "outputs": [],
   "source": []
  },
  {
   "cell_type": "code",
   "execution_count": null,
   "id": "cb8dcacf-261a-4cf0-bbac-67e6350af82e",
   "metadata": {},
   "outputs": [],
   "source": []
  }
 ],
 "metadata": {
  "kernelspec": {
   "display_name": "Python [conda env:base] *",
   "language": "python",
   "name": "conda-base-py"
  },
  "language_info": {
   "codemirror_mode": {
    "name": "ipython",
    "version": 3
   },
   "file_extension": ".py",
   "mimetype": "text/x-python",
   "name": "python",
   "nbconvert_exporter": "python",
   "pygments_lexer": "ipython3",
   "version": "3.12.7"
  }
 },
 "nbformat": 4,
 "nbformat_minor": 5
}
