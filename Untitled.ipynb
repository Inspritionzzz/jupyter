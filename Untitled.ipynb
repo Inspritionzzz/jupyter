{
 "cells": [
  {
   "cell_type": "code",
   "execution_count": 1,
   "id": "7f53c1f4",
   "metadata": {},
   "outputs": [],
   "source": [
    "import numpy as np\n",
    "import pandas as pd\n",
    "import seaborn as sns\n",
    "from matplotlib import pyplot as plt\n",
    "from sklearn.metrics import accuracy_score\n",
    "from sklearn.model_selection import train_test_split\n",
    "from sklearn.preprocessing import RobustScaler\n",
    "from sklearn.neighbors import LocalOutlierFactor"
   ]
  },
  {
   "cell_type": "code",
   "execution_count": 2,
   "id": "6e7f7b3c",
   "metadata": {},
   "outputs": [],
   "source": [
    "pd.set_option('display.max_columns', None)\n",
    "pd.set_option('display.max_rows', None)\n",
    "pd.set_option('display.float_format', lambda x: '%.3f' % x)\n",
    "pd.set_option('display.width', 500)\n",
    "\n",
    "import warnings\n",
    "warnings.filterwarnings(\"ignore\")"
   ]
  },
  {
   "cell_type": "code",
   "execution_count": 3,
   "id": "459dd150",
   "metadata": {},
   "outputs": [
    {
     "data": {
      "text/html": [
       "<div>\n",
       "<style scoped>\n",
       "    .dataframe tbody tr th:only-of-type {\n",
       "        vertical-align: middle;\n",
       "    }\n",
       "\n",
       "    .dataframe tbody tr th {\n",
       "        vertical-align: top;\n",
       "    }\n",
       "\n",
       "    .dataframe thead th {\n",
       "        text-align: right;\n",
       "    }\n",
       "</style>\n",
       "<table border=\"1\" class=\"dataframe\">\n",
       "  <thead>\n",
       "    <tr style=\"text-align: right;\">\n",
       "      <th></th>\n",
       "      <th>1</th>\n",
       "      <th>15634602</th>\n",
       "      <th>Hargrave</th>\n",
       "      <th>619</th>\n",
       "      <th>France</th>\n",
       "      <th>Female</th>\n",
       "      <th>42</th>\n",
       "      <th>2</th>\n",
       "      <th>0</th>\n",
       "      <th>1.1</th>\n",
       "      <th>1.2</th>\n",
       "      <th>1.3</th>\n",
       "      <th>101348.88</th>\n",
       "      <th>1.4</th>\n",
       "    </tr>\n",
       "  </thead>\n",
       "  <tbody>\n",
       "    <tr>\n",
       "      <th>0</th>\n",
       "      <td>2</td>\n",
       "      <td>15647311</td>\n",
       "      <td>Hill</td>\n",
       "      <td>608</td>\n",
       "      <td>Spain</td>\n",
       "      <td>Female</td>\n",
       "      <td>41</td>\n",
       "      <td>1</td>\n",
       "      <td>83807.860</td>\n",
       "      <td>1</td>\n",
       "      <td>0</td>\n",
       "      <td>1</td>\n",
       "      <td>112542.580</td>\n",
       "      <td>0</td>\n",
       "    </tr>\n",
       "    <tr>\n",
       "      <th>1</th>\n",
       "      <td>3</td>\n",
       "      <td>15619304</td>\n",
       "      <td>Onio</td>\n",
       "      <td>502</td>\n",
       "      <td>France</td>\n",
       "      <td>Female</td>\n",
       "      <td>42</td>\n",
       "      <td>8</td>\n",
       "      <td>159660.800</td>\n",
       "      <td>3</td>\n",
       "      <td>1</td>\n",
       "      <td>0</td>\n",
       "      <td>113931.570</td>\n",
       "      <td>1</td>\n",
       "    </tr>\n",
       "    <tr>\n",
       "      <th>2</th>\n",
       "      <td>4</td>\n",
       "      <td>15701354</td>\n",
       "      <td>Boni</td>\n",
       "      <td>699</td>\n",
       "      <td>France</td>\n",
       "      <td>Female</td>\n",
       "      <td>39</td>\n",
       "      <td>1</td>\n",
       "      <td>0.000</td>\n",
       "      <td>2</td>\n",
       "      <td>0</td>\n",
       "      <td>0</td>\n",
       "      <td>93826.630</td>\n",
       "      <td>0</td>\n",
       "    </tr>\n",
       "    <tr>\n",
       "      <th>3</th>\n",
       "      <td>5</td>\n",
       "      <td>15737888</td>\n",
       "      <td>Mitchell</td>\n",
       "      <td>850</td>\n",
       "      <td>Spain</td>\n",
       "      <td>Female</td>\n",
       "      <td>43</td>\n",
       "      <td>2</td>\n",
       "      <td>125510.820</td>\n",
       "      <td>1</td>\n",
       "      <td>1</td>\n",
       "      <td>1</td>\n",
       "      <td>79084.100</td>\n",
       "      <td>0</td>\n",
       "    </tr>\n",
       "    <tr>\n",
       "      <th>4</th>\n",
       "      <td>6</td>\n",
       "      <td>15574012</td>\n",
       "      <td>Chu</td>\n",
       "      <td>645</td>\n",
       "      <td>Spain</td>\n",
       "      <td>Male</td>\n",
       "      <td>44</td>\n",
       "      <td>8</td>\n",
       "      <td>113755.780</td>\n",
       "      <td>2</td>\n",
       "      <td>1</td>\n",
       "      <td>0</td>\n",
       "      <td>149756.710</td>\n",
       "      <td>1</td>\n",
       "    </tr>\n",
       "  </tbody>\n",
       "</table>\n",
       "</div>"
      ],
      "text/plain": [
       "   1  15634602  Hargrave  619  France  Female  42  2          0  1.1  1.2  1.3  101348.88  1.4\n",
       "0  2  15647311      Hill  608   Spain  Female  41  1  83807.860    1    0    1 112542.580    0\n",
       "1  3  15619304      Onio  502  France  Female  42  8 159660.800    3    1    0 113931.570    1\n",
       "2  4  15701354      Boni  699  France  Female  39  1      0.000    2    0    0  93826.630    0\n",
       "3  5  15737888  Mitchell  850   Spain  Female  43  2 125510.820    1    1    1  79084.100    0\n",
       "4  6  15574012       Chu  645   Spain    Male  44  8 113755.780    2    1    0 149756.710    1"
      ]
     },
     "execution_count": 3,
     "metadata": {},
     "output_type": "execute_result"
    }
   ],
   "source": [
    "df = pd.read_csv(\"./archive/Churn Modeling.csv\")\n",
    "df.head()"
   ]
  },
  {
   "cell_type": "code",
   "execution_count": 6,
   "id": "b68c1990",
   "metadata": {},
   "outputs": [
    {
     "name": "stdout",
     "output_type": "stream",
     "text": [
      "##################### Shape #####################\n",
      "(10000, 14)\n",
      "##################### Types #####################\n",
      "RowNumber            int64\n",
      "CustomerId           int64\n",
      "Surname             object\n",
      "CreditScore          int64\n",
      "Geography           object\n",
      "Gender              object\n",
      "Age                  int64\n",
      "Tenure               int64\n",
      "Balance            float64\n",
      "NumOfProducts        int64\n",
      "HasCrCard            int64\n",
      "IsActiveMember       int64\n",
      "EstimatedSalary    float64\n",
      "Exited               int64\n",
      "dtype: object\n",
      "##################### Head #####################\n",
      "   RowNumber  CustomerId   Surname  CreditScore Geography  Gender  Age  Tenure    Balance  NumOfProducts  HasCrCard  IsActiveMember  EstimatedSalary  Exited\n",
      "0          1    15634602  Hargrave          619    France  Female   42       2      0.000              1          1               1       101348.880       1\n",
      "1          2    15647311      Hill          608     Spain  Female   41       1  83807.860              1          0               1       112542.580       0\n",
      "2          3    15619304      Onio          502    France  Female   42       8 159660.800              3          1               0       113931.570       1\n",
      "3          4    15701354      Boni          699    France  Female   39       1      0.000              2          0               0        93826.630       0\n",
      "4          5    15737888  Mitchell          850     Spain  Female   43       2 125510.820              1          1               1        79084.100       0\n",
      "##################### Tail #####################\n",
      "      RowNumber  CustomerId    Surname  CreditScore Geography  Gender  Age  Tenure    Balance  NumOfProducts  HasCrCard  IsActiveMember  EstimatedSalary  Exited\n",
      "9995       9996    15606229   Obijiaku          771    France    Male   39       5      0.000              2          1               0        96270.640       0\n",
      "9996       9997    15569892  Johnstone          516    France    Male   35      10  57369.610              1          1               1       101699.770       0\n",
      "9997       9998    15584532        Liu          709    France  Female   36       7      0.000              1          0               1        42085.580       1\n",
      "9998       9999    15682355  Sabbatini          772   Germany    Male   42       3  75075.310              2          1               0        92888.520       1\n",
      "9999      10000    15628319     Walker          792    France  Female   28       4 130142.790              1          1               0        38190.780       0\n",
      "##################### NA #####################\n",
      "RowNumber          0\n",
      "CustomerId         0\n",
      "Surname            0\n",
      "CreditScore        0\n",
      "Geography          0\n",
      "Gender             0\n",
      "Age                0\n",
      "Tenure             0\n",
      "Balance            0\n",
      "NumOfProducts      0\n",
      "HasCrCard          0\n",
      "IsActiveMember     0\n",
      "EstimatedSalary    0\n",
      "Exited             0\n",
      "dtype: int64\n",
      "##################### Describe #####################\n",
      "                    count         mean       std          min          25%          50%          75%          max\n",
      "RowNumber       10000.000     5000.500  2886.896        1.000     2500.750     5000.500     7500.250    10000.000\n",
      "CustomerId      10000.000 15690940.569 71936.186 15565701.000 15628528.250 15690738.000 15753233.750 15815690.000\n",
      "CreditScore     10000.000      650.529    96.653      350.000      584.000      652.000      718.000      850.000\n",
      "Age             10000.000       38.922    10.488       18.000       32.000       37.000       44.000       92.000\n",
      "Tenure          10000.000        5.013     2.892        0.000        3.000        5.000        7.000       10.000\n",
      "Balance         10000.000    76485.889 62397.405        0.000        0.000    97198.540   127644.240   250898.090\n",
      "NumOfProducts   10000.000        1.530     0.582        1.000        1.000        1.000        2.000        4.000\n",
      "HasCrCard       10000.000        0.706     0.456        0.000        0.000        1.000        1.000        1.000\n",
      "IsActiveMember  10000.000        0.515     0.500        0.000        0.000        1.000        1.000        1.000\n",
      "EstimatedSalary 10000.000   100090.240 57510.493       11.580    51002.110   100193.915   149388.247   199992.480\n",
      "Exited          10000.000        0.204     0.403        0.000        0.000        0.000        0.000        1.000\n",
      "##################### Quantiles #####################\n",
      "                       0.000        0.050        0.500        0.950        0.990        1.000\n",
      "RowNumber              1.000      500.950     5000.500     9500.050     9900.010    10000.000\n",
      "CustomerId      15565701.000 15578824.200 15690738.000 15803034.300 15813113.190 15815690.000\n",
      "CreditScore          350.000      489.000      652.000      812.000      850.000      850.000\n",
      "Age                   18.000       25.000       37.000       60.000       72.000       92.000\n",
      "Tenure                 0.000        1.000        5.000        9.000       10.000       10.000\n",
      "Balance                0.000        0.000    97198.540   162711.669   185967.985   250898.090\n",
      "NumOfProducts          1.000        1.000        1.000        2.000        3.000        4.000\n",
      "HasCrCard              0.000        0.000        1.000        1.000        1.000        1.000\n",
      "IsActiveMember         0.000        0.000        1.000        1.000        1.000        1.000\n",
      "EstimatedSalary       11.580     9851.819   100193.915   190155.375   198069.734   199992.480\n",
      "Exited                 0.000        0.000        0.000        1.000        1.000        1.000\n"
     ]
    }
   ],
   "source": [
    "def check_df(dataframe, head=5):\n",
    "    print(\"##################### Shape #####################\")\n",
    "    print(dataframe.shape)\n",
    "\n",
    "    print(\"##################### Types #####################\")\n",
    "    print(dataframe.dtypes)\n",
    "\n",
    "    print(\"##################### Head #####################\")\n",
    "    print(dataframe.head(head))\n",
    "\n",
    "    print(\"##################### Tail #####################\")\n",
    "    print(dataframe.tail(head))\n",
    "\n",
    "    print(\"##################### NA #####################\")\n",
    "    print(dataframe.isnull().sum())\n",
    "\n",
    "    print(\"##################### Describe #####################\")\n",
    "    print(dataframe.describe().T)\n",
    "\n",
    "    print(\"##################### Quantiles #####################\")\n",
    "    print(dataframe.quantile([0, 0.05, 0.50, 0.95, 0.99, 1]).T)\n",
    "\n",
    "check_df(df)"
   ]
  },
  {
   "cell_type": "code",
   "execution_count": 7,
   "id": "3a1d30dd",
   "metadata": {},
   "outputs": [],
   "source": [
    "del df[\"RowNumber\"]"
   ]
  },
  {
   "cell_type": "code",
   "execution_count": 8,
   "id": "e8323840",
   "metadata": {},
   "outputs": [
    {
     "name": "stdout",
     "output_type": "stream",
     "text": [
      "Observations: 10000\n",
      "Variables: 13\n",
      "cat_cols: 6\n",
      "num_cols: 6\n",
      "cat_but_car: 1\n",
      "num_but_cat: 4\n"
     ]
    }
   ],
   "source": [
    "def grab_col_names(dataframe, cat_th=10, car_th=20): #cat_th ve car_th değerleri projeye göre değişebilir.\n",
    "    \n",
    "    # cat_cols, cat_but_car\n",
    "    cat_cols = [col for col in dataframe.columns if dataframe[col].dtypes == \"O\"]\n",
    "    num_but_cat = [col for col in dataframe.columns if dataframe[col].nunique() < cat_th and\n",
    "                   dataframe[col].dtypes != \"O\"]\n",
    "    cat_but_car = [col for col in dataframe.columns if dataframe[col].nunique() > car_th and\n",
    "                   dataframe[col].dtypes == \"O\"]\n",
    "    cat_cols = cat_cols + num_but_cat\n",
    "    cat_cols = [col for col in cat_cols if col not in cat_but_car]\n",
    "\n",
    "    # num_cols\n",
    "    num_cols = [col for col in dataframe.columns if dataframe[col].dtypes != \"O\"]\n",
    "    num_cols = [col for col in num_cols if col not in num_but_cat]\n",
    "\n",
    "    print(f\"Observations: {dataframe.shape[0]}\")\n",
    "    print(f\"Variables: {dataframe.shape[1]}\")\n",
    "    print(f'cat_cols: {len(cat_cols)}')\n",
    "    print(f'num_cols: {len(num_cols)}')\n",
    "    print(f'cat_but_car: {len(cat_but_car)}')\n",
    "    print(f'num_but_cat: {len(num_but_cat)}')\n",
    "    return cat_cols, num_cols, cat_but_car\n",
    "\n",
    "cat_cols, num_cols, cat_but_car = grab_col_names(df)"
   ]
  },
  {
   "cell_type": "code",
   "execution_count": 9,
   "id": "94465204",
   "metadata": {},
   "outputs": [
    {
     "data": {
      "text/plain": [
       "['CustomerId', 'CreditScore', 'Age', 'Tenure', 'Balance', 'EstimatedSalary']"
      ]
     },
     "execution_count": 9,
     "metadata": {},
     "output_type": "execute_result"
    }
   ],
   "source": [
    "num_cols"
   ]
  },
  {
   "cell_type": "code",
   "execution_count": 10,
   "id": "c1909667",
   "metadata": {},
   "outputs": [],
   "source": [
    "cat_but_car = cat_but_car + [\"CustomerId\"]\n",
    "num_cols.remove(\"CustomerId\")"
   ]
  },
  {
   "cell_type": "code",
   "execution_count": 11,
   "id": "20ca60e8",
   "metadata": {},
   "outputs": [
    {
     "name": "stdout",
     "output_type": "stream",
     "text": [
      "         Geography  Ratio\n",
      "France        5014 50.140\n",
      "Germany       2509 25.090\n",
      "Spain         2477 24.770\n",
      "##########################################\n"
     ]
    },
    {
     "data": {
      "image/png": "[encoded data removed]",
      "text/plain": [
       "<Figure size 432x288 with 1 Axes>"
      ]
     },
     "metadata": {
      "needs_background": "light"
     },
     "output_type": "display_data"
    },
    {
     "name": "stdout",
     "output_type": "stream",
     "text": [
      "        Gender  Ratio\n",
      "Male      5457 54.570\n",
      "Female    4543 45.430\n",
      "##########################################\n"
     ]
    },
    {
     "data": {
      "image/png": "[encoded data removed]",
      "text/plain": [
       "<Figure size 432x288 with 1 Axes>"
      ]
     },
     "metadata": {
      "needs_background": "light"
     },
     "output_type": "display_data"
    },
    {
     "name": "stdout",
     "output_type": "stream",
     "text": [
      "   NumOfProducts  Ratio\n",
      "1           5084 50.840\n",
      "2           4590 45.900\n",
      "3            266  2.660\n",
      "4             60  0.600\n",
      "##########################################\n"
     ]
    },
    {
     "data": {
      "image/png": "[encoded data removed]",
      "text/plain": [
       "<Figure size 432x288 with 1 Axes>"
      ]
     },
     "metadata": {
      "needs_background": "light"
     },
     "output_type": "display_data"
    },
    {
     "name": "stdout",
     "output_type": "stream",
     "text": [
      "   HasCrCard  Ratio\n",
      "1       7055 70.550\n",
      "0       2945 29.450\n",
      "##########################################\n"
     ]
    },
    {
     "data": {
      "image/png": "[encoded data removed]",
      "text/plain": [
       "<Figure size 432x288 with 1 Axes>"
      ]
     },
     "metadata": {
      "needs_background": "light"
     },
     "output_type": "display_data"
    },
    {
     "name": "stdout",
     "output_type": "stream",
     "text": [
      "   IsActiveMember  Ratio\n",
      "1            5151 51.510\n",
      "0            4849 48.490\n",
      "##########################################\n"
     ]
    },
    {
     "data": {
      "image/png": "[encoded data removed]",
      "text/plain": [
       "<Figure size 432x288 with 1 Axes>"
      ]
     },
     "metadata": {
      "needs_background": "light"
     },
     "output_type": "display_data"
    },
    {
     "name": "stdout",
     "output_type": "stream",
     "text": [
      "   Exited  Ratio\n",
      "0    7963 79.630\n",
      "1    2037 20.370\n",
      "##########################################\n"
     ]
    },
    {
     "data": {
      "image/png": "[encoded data removed]",
      "text/plain": [
       "<Figure size 432x288 with 1 Axes>"
      ]
     },
     "metadata": {
      "needs_background": "light"
     },
     "output_type": "display_data"
    }
   ],
   "source": [
    "def cat_summary(dataframe, col_name, plot=False):\n",
    "    print(pd.DataFrame({col_name: dataframe[col_name].value_counts(),\n",
    "                        \"Ratio\": 100 * dataframe[col_name].value_counts() / len(dataframe)}))\n",
    "    print(\"##########################################\")\n",
    "    if plot:\n",
    "        sns.countplot(x=dataframe[col_name], data=dataframe)\n",
    "        plt.show()\n",
    "\n",
    "\n",
    "for col in cat_cols:\n",
    "    cat_summary(df, col, plot=True)"
   ]
  },
  {
   "cell_type": "code",
   "execution_count": 12,
   "id": "3e1bf64a",
   "metadata": {},
   "outputs": [
    {
     "name": "stdout",
     "output_type": "stream",
     "text": [
      "        CreditScore\n",
      "Exited             \n",
      "0           651.853\n",
      "1           645.351\n",
      "          Age\n",
      "Exited       \n",
      "0      37.408\n",
      "1      44.838\n",
      "        Tenure\n",
      "Exited        \n",
      "0        5.033\n",
      "1        4.933\n",
      "         Balance\n",
      "Exited          \n",
      "0      72745.297\n",
      "1      91108.539\n",
      "        EstimatedSalary\n",
      "Exited                 \n",
      "0             99738.392\n",
      "1            101465.678\n"
     ]
    }
   ],
   "source": [
    "for col in num_cols:\n",
    "    print(df.groupby(\"Exited\").agg({col: \"mean\"}))"
   ]
  },
  {
   "cell_type": "code",
   "execution_count": 13,
   "id": "f03ca169",
   "metadata": {},
   "outputs": [
    {
     "name": "stdout",
     "output_type": "stream",
     "text": [
      "CreditScore - True\n",
      "Age - False\n",
      "Tenure - False\n",
      "Balance - False\n",
      "EstimatedSalary - False\n"
     ]
    }
   ],
   "source": [
    "def outlier_thresholds(dataframe, col_name, q1=0.5, q3=0.95):\n",
    "    quartile1 = dataframe[col_name].quantile(q1)\n",
    "    quartile3 = dataframe[col_name].quantile(q3)\n",
    "    interquantile_range = quartile3 - quartile1\n",
    "    up_limit = quartile3 + 1.5 * interquantile_range\n",
    "    low_limit = quartile1 - 1.5 * interquantile_range\n",
    "    return low_limit, up_limit\n",
    "\n",
    "\n",
    "def check_outlier(dataframe, col_name):\n",
    "    low_limit, up_limit = outlier_thresholds(dataframe, col_name)\n",
    "    if dataframe[(dataframe[col_name] > up_limit) | (dataframe[col_name] < low_limit)].any(axis=None):\n",
    "        return True\n",
    "    else:\n",
    "        return False\n",
    "\n",
    "\n",
    "for col in num_cols:\n",
    "    print(col, \"-\", check_outlier(df, col))"
   ]
  },
  {
   "cell_type": "code",
   "execution_count": 14,
   "id": "3b58a4d1",
   "metadata": {},
   "outputs": [
    {
     "data": {
      "image/png": "[encoded data removed]",
      "text/plain": [
       "<Figure size 432x288 with 1 Axes>"
      ]
     },
     "metadata": {
      "needs_background": "light"
     },
     "output_type": "display_data"
    },
    {
     "data": {
      "image/png": "[encoded data removed]",
      "text/plain": [
       "<Figure size 432x288 with 1 Axes>"
      ]
     },
     "metadata": {
      "needs_background": "light"
     },
     "output_type": "display_data"
    },
    {
     "data": {
      "image/png": "[encoded data removed]",
      "text/plain": [
       "<Figure size 432x288 with 1 Axes>"
      ]
     },
     "metadata": {
      "needs_background": "light"
     },
     "output_type": "display_data"
    },
    {
     "data": {
      "image/png": "[encoded data removed]",
      "text/plain": [
       "<Figure size 432x288 with 1 Axes>"
      ]
     },
     "metadata": {
      "needs_background": "light"
     },
     "output_type": "display_data"
    },
    {
     "data": {
      "image/png": "[encoded data removed]",
      "text/plain": [
       "<Figure size 432x288 with 1 Axes>"
      ]
     },
     "metadata": {
      "needs_background": "light"
     },
     "output_type": "display_data"
    }
   ],
   "source": [
    "for col in num_cols:\n",
    "    sns.boxplot(x=df[col])\n",
    "    plt.show()"
   ]
  },
  {
   "cell_type": "code",
   "execution_count": 15,
   "id": "41d542f5",
   "metadata": {},
   "outputs": [
    {
     "data": {
      "text/plain": [
       "7       376\n",
       "29      411\n",
       "942     376\n",
       "1193    363\n",
       "1201    399\n",
       "1405    359\n",
       "1631    350\n",
       "1838    350\n",
       "1962    358\n",
       "2115    404\n",
       "2473    351\n",
       "2579    365\n",
       "2748    401\n",
       "3242    411\n",
       "3531    408\n",
       "4659    410\n",
       "4840    411\n",
       "4911    407\n",
       "5285    386\n",
       "5357    405\n",
       "5488    410\n",
       "5494    383\n",
       "6253    395\n",
       "7671    405\n",
       "8137    410\n",
       "8154    367\n",
       "8723    350\n",
       "8762    350\n",
       "8971    408\n",
       "9171    411\n",
       "9210    382\n",
       "9356    373\n",
       "9624    350\n",
       "Name: CreditScore, dtype: int64"
      ]
     },
     "execution_count": 15,
     "metadata": {},
     "output_type": "execute_result"
    }
   ],
   "source": [
    "low_th, up_th = outlier_thresholds(df,\"CreditScore\")\n",
    "df.loc[(df[\"CreditScore\"]<low_th) | (df[\"CreditScore\"]>up_th),\"CreditScore\"]"
   ]
  },
  {
   "cell_type": "code",
   "execution_count": 16,
   "id": "4ce3fca5",
   "metadata": {},
   "outputs": [],
   "source": [
    "def replace_with_thresholds(dataframe, variable):\n",
    "    low_limit, up_limit = outlier_thresholds(dataframe, variable)\n",
    "    dataframe.loc[(dataframe[variable] < low_limit), variable] = low_limit\n",
    "    dataframe.loc[(dataframe[variable] > up_limit), variable] = up_limit\n",
    "\n",
    "replace_with_thresholds(df,\"CreditScore\")"
   ]
  },
  {
   "cell_type": "code",
   "execution_count": 17,
   "id": "75153113",
   "metadata": {},
   "outputs": [
    {
     "data": {
      "image/png": "[encoded data removed]",
      "text/plain": [
       "<Figure size 432x288 with 1 Axes>"
      ]
     },
     "metadata": {
      "needs_background": "light"
     },
     "output_type": "display_data"
    }
   ],
   "source": [
    "clf = LocalOutlierFactor(n_neighbors=5)\n",
    "clf.fit_predict(df[num_cols])\n",
    "df_scores = clf.negative_outlier_factor_\n",
    "np.sort(df_scores)[0:5]\n",
    "scores = pd.DataFrame(np.sort(df_scores))\n",
    "scores.plot(stacked=True, xlim=[0, 50], style='.-')\n",
    "plt.show()"
   ]
  },
  {
   "cell_type": "code",
   "execution_count": 18,
   "id": "6087c5a7",
   "metadata": {},
   "outputs": [],
   "source": [
    "th = np.sort(df_scores)[4]\n",
    "df[df_scores < th]\n",
    "df.drop(df[df_scores < th].index, inplace=True)"
   ]
  },
  {
   "cell_type": "code",
   "execution_count": 19,
   "id": "6cf55894",
   "metadata": {},
   "outputs": [
    {
     "name": "stdout",
     "output_type": "stream",
     "text": [
      "Empty DataFrame\n",
      "Columns: [n_miss, ratio]\n",
      "Index: []\n"
     ]
    }
   ],
   "source": [
    "def missing_values_table(dataframe, na_name=False):\n",
    "    na_columns = [col for col in dataframe.columns if dataframe[col].isnull().sum() > 0]\n",
    "\n",
    "    n_miss = dataframe[na_columns].isnull().sum().sort_values(ascending=False)\n",
    "    ratio = (dataframe[na_columns].isnull().sum() / dataframe.shape[0] * 100).sort_values(ascending=False)\n",
    "    missing_df = pd.concat([n_miss, np.round(ratio, 2)], axis=1, keys=['n_miss', 'ratio'])\n",
    "    print(missing_df, end=\"\\n\")\n",
    "\n",
    "    if na_name:\n",
    "        return na_columns\n",
    "\n",
    "\n",
    "missing_values_table(df)"
   ]
  },
  {
   "cell_type": "code",
   "execution_count": 20,
   "id": "adebe3a1",
   "metadata": {},
   "outputs": [
    {
     "data": {
      "image/png": "[encoded data removed]",
      "text/plain": [
       "<Figure size 432x288 with 2 Axes>"
      ]
     },
     "metadata": {
      "needs_background": "light"
     },
     "output_type": "display_data"
    }
   ],
   "source": [
    "corr = df.corr()\n",
    "\n",
    "sns.heatmap(corr,\n",
    "        xticklabels=corr.columns,\n",
    "        yticklabels=corr.columns)\n",
    "plt.show()"
   ]
  },
  {
   "cell_type": "code",
   "execution_count": 21,
   "id": "6253f173",
   "metadata": {},
   "outputs": [
    {
     "data": {
      "text/plain": [
       "count   9996.000\n",
       "mean      38.921\n",
       "std       10.490\n",
       "min       18.000\n",
       "25%       32.000\n",
       "50%       37.000\n",
       "75%       44.000\n",
       "max       92.000\n",
       "Name: Age, dtype: float64"
      ]
     },
     "execution_count": 21,
     "metadata": {},
     "output_type": "execute_result"
    }
   ],
   "source": [
    "df[\"Age\"].describe()"
   ]
  },
  {
   "cell_type": "code",
   "execution_count": 22,
   "id": "e64c5973",
   "metadata": {},
   "outputs": [
    {
     "data": {
      "text/plain": [
       "Millennials    5337\n",
       "X              3551\n",
       "Boomers         882\n",
       "Z               226\n",
       "Name: NEW_AGE_CAT, dtype: int64"
      ]
     },
     "execution_count": 22,
     "metadata": {},
     "output_type": "execute_result"
    }
   ],
   "source": [
    "df.loc[(df['Age'] <= 22 ), 'NEW_AGE_CAT'] = 'Z'\n",
    "df.loc[(df['Age'] >= 23) & (df['Age'] <= 38), 'NEW_AGE_CAT'] = 'Millennials'\n",
    "df.loc[(df['Age'] >= 39) & (df['Age'] <= 54), 'NEW_AGE_CAT'] = 'X'\n",
    "df.loc[(df['Age'] >= 55), 'NEW_AGE_CAT'] = 'Boomers'\n",
    "df[\"NEW_AGE_CAT\"].value_counts()"
   ]
  },
  {
   "cell_type": "code",
   "execution_count": 23,
   "id": "0929e20b",
   "metadata": {},
   "outputs": [],
   "source": [
    "df[\"NEW_SALARY_SCALA\"] = pd.qcut(df[\"EstimatedSalary\"], 5, labels=[1,2,3,4,5])"
   ]
  },
  {
   "cell_type": "code",
   "execution_count": 24,
   "id": "951f8d8d",
   "metadata": {},
   "outputs": [],
   "source": [
    "df.loc[(df[\"IsActiveMember\"]==0), \"NEW_CUSTOMER_SEGMENT\"] = \"InActive\"\n",
    "df.loc[(df[\"HasCrCard\"]==0) & (df[\"NumOfProducts\"]<=1) & (df[\"IsActiveMember\"]==1), \"NEW_CUSTOMER_SEGMENT\"] = \"Active_limited_usage1\"\n",
    "df.loc[(df[\"HasCrCard\"]==0) & (df[\"NumOfProducts\"]>1) & (df[\"IsActiveMember\"]==1), \"NEW_CUSTOMER_SEGMENT\"] = \"Active_limited_usage2\"\n",
    "df.loc[(df[\"HasCrCard\"]==1) & (df[\"NumOfProducts\"]<=1) & (df[\"IsActiveMember\"]==1), \"NEW_CUSTOMER_SEGMENT\"] = \"Active_limited_usage3\"\n",
    "df.loc[(df[\"HasCrCard\"]==1) & (df[\"NumOfProducts\"] == 2) & (df[\"IsActiveMember\"]==1), \"NEW_CUSTOMER_SEGMENT\"] = \"Active_constantly_usage\"\n",
    "df.loc[(df[\"HasCrCard\"]==1) & (df[\"NumOfProducts\"]>=3) & (df[\"IsActiveMember\"]==1), \"NEW_CUSTOMER_SEGMENT\"] = \"Active_loyal\""
   ]
  },
  {
   "cell_type": "code",
   "execution_count": 25,
   "id": "db67bece",
   "metadata": {},
   "outputs": [],
   "source": [
    "df[\"NEW_CREDITSCORE_AGE\"] = df[\"CreditScore\"] / df[\"Age\"]\n",
    "df[\"NEW_BALANCE_TENURE\"] = df.apply(lambda x: x[\"Balance\"] / x[\"Tenure\"] if x[\"Tenure\"] != 0 else 0, axis = 1)\n",
    "df[\"NEW_ESALARY_BALANCE\"] = df.apply(lambda x: x[\"EstimatedSalary\"] / x[\"Balance\"] if x[\"Balance\"] != 0 else 0, axis = 1)"
   ]
  },
  {
   "cell_type": "code",
   "execution_count": 26,
   "id": "2ff64632",
   "metadata": {},
   "outputs": [
    {
     "name": "stdout",
     "output_type": "stream",
     "text": [
      "Observations: 9996\n",
      "Variables: 19\n",
      "cat_cols: 9\n",
      "num_cols: 9\n",
      "cat_but_car: 1\n",
      "num_but_cat: 5\n"
     ]
    }
   ],
   "source": [
    "cat_cols, num_cols, cat_but_car = grab_col_names(df)\n",
    "cat_but_car = cat_but_car + [\"CustomerId\"]\n",
    "num_cols.remove(\"CustomerId\")"
   ]
  },
  {
   "cell_type": "code",
   "execution_count": 27,
   "id": "507389d4",
   "metadata": {},
   "outputs": [
    {
     "data": {
      "text/html": [
       "<div>\n",
       "<style scoped>\n",
       "    .dataframe tbody tr th:only-of-type {\n",
       "        vertical-align: middle;\n",
       "    }\n",
       "\n",
       "    .dataframe tbody tr th {\n",
       "        vertical-align: top;\n",
       "    }\n",
       "\n",
       "    .dataframe thead th {\n",
       "        text-align: right;\n",
       "    }\n",
       "</style>\n",
       "<table border=\"1\" class=\"dataframe\">\n",
       "  <thead>\n",
       "    <tr style=\"text-align: right;\">\n",
       "      <th></th>\n",
       "      <th>CustomerId</th>\n",
       "      <th>Surname</th>\n",
       "      <th>CreditScore</th>\n",
       "      <th>Age</th>\n",
       "      <th>Tenure</th>\n",
       "      <th>Balance</th>\n",
       "      <th>EstimatedSalary</th>\n",
       "      <th>NEW_CREDITSCORE_AGE</th>\n",
       "      <th>NEW_BALANCE_TENURE</th>\n",
       "      <th>NEW_ESALARY_BALANCE</th>\n",
       "      <th>Geography_Germany</th>\n",
       "      <th>Geography_Spain</th>\n",
       "      <th>Gender_Male</th>\n",
       "      <th>NEW_AGE_CAT_Millennials</th>\n",
       "      <th>NEW_AGE_CAT_X</th>\n",
       "      <th>NEW_AGE_CAT_Z</th>\n",
       "      <th>NEW_CUSTOMER_SEGMENT_Active_limited_usage1</th>\n",
       "      <th>NEW_CUSTOMER_SEGMENT_Active_limited_usage2</th>\n",
       "      <th>NEW_CUSTOMER_SEGMENT_Active_limited_usage3</th>\n",
       "      <th>NEW_CUSTOMER_SEGMENT_Active_loyal</th>\n",
       "      <th>NEW_CUSTOMER_SEGMENT_InActive</th>\n",
       "      <th>NumOfProducts_2</th>\n",
       "      <th>NumOfProducts_3</th>\n",
       "      <th>NumOfProducts_4</th>\n",
       "      <th>HasCrCard_1</th>\n",
       "      <th>IsActiveMember_1</th>\n",
       "      <th>Exited_1</th>\n",
       "      <th>NEW_SALARY_SCALA_2</th>\n",
       "      <th>NEW_SALARY_SCALA_3</th>\n",
       "      <th>NEW_SALARY_SCALA_4</th>\n",
       "      <th>NEW_SALARY_SCALA_5</th>\n",
       "    </tr>\n",
       "  </thead>\n",
       "  <tbody>\n",
       "    <tr>\n",
       "      <th>0</th>\n",
       "      <td>15634602</td>\n",
       "      <td>Hargrave</td>\n",
       "      <td>619</td>\n",
       "      <td>42</td>\n",
       "      <td>2</td>\n",
       "      <td>0.000</td>\n",
       "      <td>101348.880</td>\n",
       "      <td>14.738</td>\n",
       "      <td>0.000</td>\n",
       "      <td>0.000</td>\n",
       "      <td>0</td>\n",
       "      <td>0</td>\n",
       "      <td>0</td>\n",
       "      <td>0</td>\n",
       "      <td>1</td>\n",
       "      <td>0</td>\n",
       "      <td>0</td>\n",
       "      <td>0</td>\n",
       "      <td>1</td>\n",
       "      <td>0</td>\n",
       "      <td>0</td>\n",
       "      <td>0</td>\n",
       "      <td>0</td>\n",
       "      <td>0</td>\n",
       "      <td>1</td>\n",
       "      <td>1</td>\n",
       "      <td>1</td>\n",
       "      <td>0</td>\n",
       "      <td>1</td>\n",
       "      <td>0</td>\n",
       "      <td>0</td>\n",
       "    </tr>\n",
       "    <tr>\n",
       "      <th>1</th>\n",
       "      <td>15647311</td>\n",
       "      <td>Hill</td>\n",
       "      <td>608</td>\n",
       "      <td>41</td>\n",
       "      <td>1</td>\n",
       "      <td>83807.860</td>\n",
       "      <td>112542.580</td>\n",
       "      <td>14.829</td>\n",
       "      <td>83807.860</td>\n",
       "      <td>1.343</td>\n",
       "      <td>0</td>\n",
       "      <td>1</td>\n",
       "      <td>0</td>\n",
       "      <td>0</td>\n",
       "      <td>1</td>\n",
       "      <td>0</td>\n",
       "      <td>1</td>\n",
       "      <td>0</td>\n",
       "      <td>0</td>\n",
       "      <td>0</td>\n",
       "      <td>0</td>\n",
       "      <td>0</td>\n",
       "      <td>0</td>\n",
       "      <td>0</td>\n",
       "      <td>0</td>\n",
       "      <td>1</td>\n",
       "      <td>0</td>\n",
       "      <td>0</td>\n",
       "      <td>1</td>\n",
       "      <td>0</td>\n",
       "      <td>0</td>\n",
       "    </tr>\n",
       "    <tr>\n",
       "      <th>2</th>\n",
       "      <td>15619304</td>\n",
       "      <td>Onio</td>\n",
       "      <td>502</td>\n",
       "      <td>42</td>\n",
       "      <td>8</td>\n",
       "      <td>159660.800</td>\n",
       "      <td>113931.570</td>\n",
       "      <td>11.952</td>\n",
       "      <td>19957.600</td>\n",
       "      <td>0.714</td>\n",
       "      <td>0</td>\n",
       "      <td>0</td>\n",
       "      <td>0</td>\n",
       "      <td>0</td>\n",
       "      <td>1</td>\n",
       "      <td>0</td>\n",
       "      <td>0</td>\n",
       "      <td>0</td>\n",
       "      <td>0</td>\n",
       "      <td>0</td>\n",
       "      <td>1</td>\n",
       "      <td>0</td>\n",
       "      <td>1</td>\n",
       "      <td>0</td>\n",
       "      <td>1</td>\n",
       "      <td>0</td>\n",
       "      <td>1</td>\n",
       "      <td>0</td>\n",
       "      <td>1</td>\n",
       "      <td>0</td>\n",
       "      <td>0</td>\n",
       "    </tr>\n",
       "    <tr>\n",
       "      <th>3</th>\n",
       "      <td>15701354</td>\n",
       "      <td>Boni</td>\n",
       "      <td>699</td>\n",
       "      <td>39</td>\n",
       "      <td>1</td>\n",
       "      <td>0.000</td>\n",
       "      <td>93826.630</td>\n",
       "      <td>17.923</td>\n",
       "      <td>0.000</td>\n",
       "      <td>0.000</td>\n",
       "      <td>0</td>\n",
       "      <td>0</td>\n",
       "      <td>0</td>\n",
       "      <td>0</td>\n",
       "      <td>1</td>\n",
       "      <td>0</td>\n",
       "      <td>0</td>\n",
       "      <td>0</td>\n",
       "      <td>0</td>\n",
       "      <td>0</td>\n",
       "      <td>1</td>\n",
       "      <td>1</td>\n",
       "      <td>0</td>\n",
       "      <td>0</td>\n",
       "      <td>0</td>\n",
       "      <td>0</td>\n",
       "      <td>0</td>\n",
       "      <td>0</td>\n",
       "      <td>1</td>\n",
       "      <td>0</td>\n",
       "      <td>0</td>\n",
       "    </tr>\n",
       "    <tr>\n",
       "      <th>4</th>\n",
       "      <td>15737888</td>\n",
       "      <td>Mitchell</td>\n",
       "      <td>850</td>\n",
       "      <td>43</td>\n",
       "      <td>2</td>\n",
       "      <td>125510.820</td>\n",
       "      <td>79084.100</td>\n",
       "      <td>19.767</td>\n",
       "      <td>62755.410</td>\n",
       "      <td>0.630</td>\n",
       "      <td>0</td>\n",
       "      <td>1</td>\n",
       "      <td>0</td>\n",
       "      <td>0</td>\n",
       "      <td>1</td>\n",
       "      <td>0</td>\n",
       "      <td>0</td>\n",
       "      <td>0</td>\n",
       "      <td>1</td>\n",
       "      <td>0</td>\n",
       "      <td>0</td>\n",
       "      <td>0</td>\n",
       "      <td>0</td>\n",
       "      <td>0</td>\n",
       "      <td>1</td>\n",
       "      <td>1</td>\n",
       "      <td>0</td>\n",
       "      <td>1</td>\n",
       "      <td>0</td>\n",
       "      <td>0</td>\n",
       "      <td>0</td>\n",
       "    </tr>\n",
       "  </tbody>\n",
       "</table>\n",
       "</div>"
      ],
      "text/plain": [
       "   CustomerId   Surname  CreditScore  Age  Tenure    Balance  EstimatedSalary  NEW_CREDITSCORE_AGE  NEW_BALANCE_TENURE  NEW_ESALARY_BALANCE  Geography_Germany  Geography_Spain  Gender_Male  NEW_AGE_CAT_Millennials  NEW_AGE_CAT_X  NEW_AGE_CAT_Z  NEW_CUSTOMER_SEGMENT_Active_limited_usage1  NEW_CUSTOMER_SEGMENT_Active_limited_usage2  NEW_CUSTOMER_SEGMENT_Active_limited_usage3  NEW_CUSTOMER_SEGMENT_Active_loyal  NEW_CUSTOMER_SEGMENT_InActive  NumOfProducts_2  NumOfProducts_3  NumOfProducts_4  \\\n",
       "0    15634602  Hargrave          619   42       2      0.000       101348.880               14.738               0.000                0.000                  0                0            0                        0              1              0                                           0                                           0                                           1                                  0                              0                0                0                0   \n",
       "1    15647311      Hill          608   41       1  83807.860       112542.580               14.829           83807.860                1.343                  0                1            0                        0              1              0                                           1                                           0                                           0                                  0                              0                0                0                0   \n",
       "2    15619304      Onio          502   42       8 159660.800       113931.570               11.952           19957.600                0.714                  0                0            0                        0              1              0                                           0                                           0                                           0                                  0                              1                0                1                0   \n",
       "3    15701354      Boni          699   39       1      0.000        93826.630               17.923               0.000                0.000                  0                0            0                        0              1              0                                           0                                           0                                           0                                  0                              1                1                0                0   \n",
       "4    15737888  Mitchell          850   43       2 125510.820        79084.100               19.767           62755.410                0.630                  0                1            0                        0              1              0                                           0                                           0                                           1                                  0                              0                0                0                0   \n",
       "\n",
       "   HasCrCard_1  IsActiveMember_1  Exited_1  NEW_SALARY_SCALA_2  NEW_SALARY_SCALA_3  NEW_SALARY_SCALA_4  NEW_SALARY_SCALA_5  \n",
       "0            1                 1         1                   0                   1                   0                   0  \n",
       "1            0                 1         0                   0                   1                   0                   0  \n",
       "2            1                 0         1                   0                   1                   0                   0  \n",
       "3            0                 0         0                   0                   1                   0                   0  \n",
       "4            1                 1         0                   1                   0                   0                   0  "
      ]
     },
     "execution_count": 27,
     "metadata": {},
     "output_type": "execute_result"
    }
   ],
   "source": [
    "for col in cat_cols:\n",
    "      df = pd.get_dummies(df, columns=[col], drop_first=True)\n",
    "\n",
    "df.head()"
   ]
  },
  {
   "cell_type": "code",
   "execution_count": 28,
   "id": "871a1e87",
   "metadata": {},
   "outputs": [
    {
     "name": "stdout",
     "output_type": "stream",
     "text": [
      "Observations: 9996\n",
      "Variables: 31\n",
      "cat_cols: 21\n",
      "num_cols: 9\n",
      "cat_but_car: 1\n",
      "num_but_cat: 21\n"
     ]
    }
   ],
   "source": [
    "cat_cols, num_cols, cat_but_car = grab_col_names(df)\n",
    "cat_but_car = cat_but_car + [\"CustomerId\"]\n",
    "num_cols.remove(\"CustomerId\")"
   ]
  },
  {
   "cell_type": "code",
   "execution_count": 29,
   "id": "77a0072b",
   "metadata": {},
   "outputs": [
    {
     "data": {
      "text/html": [
       "<div>\n",
       "<style scoped>\n",
       "    .dataframe tbody tr th:only-of-type {\n",
       "        vertical-align: middle;\n",
       "    }\n",
       "\n",
       "    .dataframe tbody tr th {\n",
       "        vertical-align: top;\n",
       "    }\n",
       "\n",
       "    .dataframe thead th {\n",
       "        text-align: right;\n",
       "    }\n",
       "</style>\n",
       "<table border=\"1\" class=\"dataframe\">\n",
       "  <thead>\n",
       "    <tr style=\"text-align: right;\">\n",
       "      <th></th>\n",
       "      <th>CustomerId</th>\n",
       "      <th>Surname</th>\n",
       "      <th>CreditScore</th>\n",
       "      <th>Age</th>\n",
       "      <th>Tenure</th>\n",
       "      <th>Balance</th>\n",
       "      <th>EstimatedSalary</th>\n",
       "      <th>NEW_CREDITSCORE_AGE</th>\n",
       "      <th>NEW_BALANCE_TENURE</th>\n",
       "      <th>NEW_ESALARY_BALANCE</th>\n",
       "      <th>Geography_Germany</th>\n",
       "      <th>Geography_Spain</th>\n",
       "      <th>Gender_Male</th>\n",
       "      <th>NEW_AGE_CAT_Millennials</th>\n",
       "      <th>NEW_AGE_CAT_X</th>\n",
       "      <th>NEW_AGE_CAT_Z</th>\n",
       "      <th>NEW_CUSTOMER_SEGMENT_Active_limited_usage1</th>\n",
       "      <th>NEW_CUSTOMER_SEGMENT_Active_limited_usage2</th>\n",
       "      <th>NEW_CUSTOMER_SEGMENT_Active_limited_usage3</th>\n",
       "      <th>NEW_CUSTOMER_SEGMENT_Active_loyal</th>\n",
       "      <th>NEW_CUSTOMER_SEGMENT_InActive</th>\n",
       "      <th>NumOfProducts_2</th>\n",
       "      <th>NumOfProducts_3</th>\n",
       "      <th>NumOfProducts_4</th>\n",
       "      <th>HasCrCard_1</th>\n",
       "      <th>IsActiveMember_1</th>\n",
       "      <th>Exited_1</th>\n",
       "      <th>NEW_SALARY_SCALA_2</th>\n",
       "      <th>NEW_SALARY_SCALA_3</th>\n",
       "      <th>NEW_SALARY_SCALA_4</th>\n",
       "      <th>NEW_SALARY_SCALA_5</th>\n",
       "    </tr>\n",
       "  </thead>\n",
       "  <tbody>\n",
       "    <tr>\n",
       "      <th>0</th>\n",
       "      <td>15634602</td>\n",
       "      <td>Hargrave</td>\n",
       "      <td>-0.246</td>\n",
       "      <td>0.417</td>\n",
       "      <td>-0.750</td>\n",
       "      <td>-0.762</td>\n",
       "      <td>0.012</td>\n",
       "      <td>-0.371</td>\n",
       "      <td>-0.502</td>\n",
       "      <td>-0.363</td>\n",
       "      <td>0</td>\n",
       "      <td>0</td>\n",
       "      <td>0</td>\n",
       "      <td>0</td>\n",
       "      <td>1</td>\n",
       "      <td>0</td>\n",
       "      <td>0</td>\n",
       "      <td>0</td>\n",
       "      <td>1</td>\n",
       "      <td>0</td>\n",
       "      <td>0</td>\n",
       "      <td>0</td>\n",
       "      <td>0</td>\n",
       "      <td>0</td>\n",
       "      <td>1</td>\n",
       "      <td>1</td>\n",
       "      <td>1</td>\n",
       "      <td>0</td>\n",
       "      <td>1</td>\n",
       "      <td>0</td>\n",
       "      <td>0</td>\n",
       "    </tr>\n",
       "    <tr>\n",
       "      <th>1</th>\n",
       "      <td>15647311</td>\n",
       "      <td>Hill</td>\n",
       "      <td>-0.328</td>\n",
       "      <td>0.333</td>\n",
       "      <td>-1.000</td>\n",
       "      <td>-0.105</td>\n",
       "      <td>0.125</td>\n",
       "      <td>-0.357</td>\n",
       "      <td>2.501</td>\n",
       "      <td>0.947</td>\n",
       "      <td>0</td>\n",
       "      <td>1</td>\n",
       "      <td>0</td>\n",
       "      <td>0</td>\n",
       "      <td>1</td>\n",
       "      <td>0</td>\n",
       "      <td>1</td>\n",
       "      <td>0</td>\n",
       "      <td>0</td>\n",
       "      <td>0</td>\n",
       "      <td>0</td>\n",
       "      <td>0</td>\n",
       "      <td>0</td>\n",
       "      <td>0</td>\n",
       "      <td>0</td>\n",
       "      <td>1</td>\n",
       "      <td>0</td>\n",
       "      <td>0</td>\n",
       "      <td>1</td>\n",
       "      <td>0</td>\n",
       "      <td>0</td>\n",
       "    </tr>\n",
       "    <tr>\n",
       "      <th>2</th>\n",
       "      <td>15619304</td>\n",
       "      <td>Onio</td>\n",
       "      <td>-1.119</td>\n",
       "      <td>0.417</td>\n",
       "      <td>0.750</td>\n",
       "      <td>0.489</td>\n",
       "      <td>0.140</td>\n",
       "      <td>-0.776</td>\n",
       "      <td>0.213</td>\n",
       "      <td>0.333</td>\n",
       "      <td>0</td>\n",
       "      <td>0</td>\n",
       "      <td>0</td>\n",
       "      <td>0</td>\n",
       "      <td>1</td>\n",
       "      <td>0</td>\n",
       "      <td>0</td>\n",
       "      <td>0</td>\n",
       "      <td>0</td>\n",
       "      <td>0</td>\n",
       "      <td>1</td>\n",
       "      <td>0</td>\n",
       "      <td>1</td>\n",
       "      <td>0</td>\n",
       "      <td>1</td>\n",
       "      <td>0</td>\n",
       "      <td>1</td>\n",
       "      <td>0</td>\n",
       "      <td>1</td>\n",
       "      <td>0</td>\n",
       "      <td>0</td>\n",
       "    </tr>\n",
       "    <tr>\n",
       "      <th>3</th>\n",
       "      <td>15701354</td>\n",
       "      <td>Boni</td>\n",
       "      <td>0.351</td>\n",
       "      <td>0.167</td>\n",
       "      <td>-1.000</td>\n",
       "      <td>-0.762</td>\n",
       "      <td>-0.065</td>\n",
       "      <td>0.093</td>\n",
       "      <td>-0.502</td>\n",
       "      <td>-0.363</td>\n",
       "      <td>0</td>\n",
       "      <td>0</td>\n",
       "      <td>0</td>\n",
       "      <td>0</td>\n",
       "      <td>1</td>\n",
       "      <td>0</td>\n",
       "      <td>0</td>\n",
       "      <td>0</td>\n",
       "      <td>0</td>\n",
       "      <td>0</td>\n",
       "      <td>1</td>\n",
       "      <td>1</td>\n",
       "      <td>0</td>\n",
       "      <td>0</td>\n",
       "      <td>0</td>\n",
       "      <td>0</td>\n",
       "      <td>0</td>\n",
       "      <td>0</td>\n",
       "      <td>1</td>\n",
       "      <td>0</td>\n",
       "      <td>0</td>\n",
       "    </tr>\n",
       "    <tr>\n",
       "      <th>4</th>\n",
       "      <td>15737888</td>\n",
       "      <td>Mitchell</td>\n",
       "      <td>1.478</td>\n",
       "      <td>0.500</td>\n",
       "      <td>-0.750</td>\n",
       "      <td>0.221</td>\n",
       "      <td>-0.215</td>\n",
       "      <td>0.361</td>\n",
       "      <td>1.747</td>\n",
       "      <td>0.252</td>\n",
       "      <td>0</td>\n",
       "      <td>1</td>\n",
       "      <td>0</td>\n",
       "      <td>0</td>\n",
       "      <td>1</td>\n",
       "      <td>0</td>\n",
       "      <td>0</td>\n",
       "      <td>0</td>\n",
       "      <td>1</td>\n",
       "      <td>0</td>\n",
       "      <td>0</td>\n",
       "      <td>0</td>\n",
       "      <td>0</td>\n",
       "      <td>0</td>\n",
       "      <td>1</td>\n",
       "      <td>1</td>\n",
       "      <td>0</td>\n",
       "      <td>1</td>\n",
       "      <td>0</td>\n",
       "      <td>0</td>\n",
       "      <td>0</td>\n",
       "    </tr>\n",
       "  </tbody>\n",
       "</table>\n",
       "</div>"
      ],
      "text/plain": [
       "   CustomerId   Surname  CreditScore   Age  Tenure  Balance  EstimatedSalary  NEW_CREDITSCORE_AGE  NEW_BALANCE_TENURE  NEW_ESALARY_BALANCE  Geography_Germany  Geography_Spain  Gender_Male  NEW_AGE_CAT_Millennials  NEW_AGE_CAT_X  NEW_AGE_CAT_Z  NEW_CUSTOMER_SEGMENT_Active_limited_usage1  NEW_CUSTOMER_SEGMENT_Active_limited_usage2  NEW_CUSTOMER_SEGMENT_Active_limited_usage3  NEW_CUSTOMER_SEGMENT_Active_loyal  NEW_CUSTOMER_SEGMENT_InActive  NumOfProducts_2  NumOfProducts_3  NumOfProducts_4  \\\n",
       "0    15634602  Hargrave       -0.246 0.417  -0.750   -0.762            0.012               -0.371              -0.502               -0.363                  0                0            0                        0              1              0                                           0                                           0                                           1                                  0                              0                0                0                0   \n",
       "1    15647311      Hill       -0.328 0.333  -1.000   -0.105            0.125               -0.357               2.501                0.947                  0                1            0                        0              1              0                                           1                                           0                                           0                                  0                              0                0                0                0   \n",
       "2    15619304      Onio       -1.119 0.417   0.750    0.489            0.140               -0.776               0.213                0.333                  0                0            0                        0              1              0                                           0                                           0                                           0                                  0                              1                0                1                0   \n",
       "3    15701354      Boni        0.351 0.167  -1.000   -0.762           -0.065                0.093              -0.502               -0.363                  0                0            0                        0              1              0                                           0                                           0                                           0                                  0                              1                1                0                0   \n",
       "4    15737888  Mitchell        1.478 0.500  -0.750    0.221           -0.215                0.361               1.747                0.252                  0                1            0                        0              1              0                                           0                                           0                                           1                                  0                              0                0                0                0   \n",
       "\n",
       "   HasCrCard_1  IsActiveMember_1  Exited_1  NEW_SALARY_SCALA_2  NEW_SALARY_SCALA_3  NEW_SALARY_SCALA_4  NEW_SALARY_SCALA_5  \n",
       "0            1                 1         1                   0                   1                   0                   0  \n",
       "1            0                 1         0                   0                   1                   0                   0  \n",
       "2            1                 0         1                   0                   1                   0                   0  \n",
       "3            0                 0         0                   0                   1                   0                   0  \n",
       "4            1                 1         0                   1                   0                   0                   0  "
      ]
     },
     "execution_count": 29,
     "metadata": {},
     "output_type": "execute_result"
    }
   ],
   "source": [
    "scaler = RobustScaler()\n",
    "df[num_cols] = scaler.fit_transform(df[num_cols])\n",
    "df.head()"
   ]
  },
  {
   "cell_type": "code",
   "execution_count": 30,
   "id": "9ee445bc",
   "metadata": {},
   "outputs": [],
   "source": [
    "y = df[\"Exited_1\"] # Dependent Variable\n",
    "X = df.drop([\"Exited_1\",\"CustomerId\",\"Surname\"], axis=1) # Independent Variable\n",
    "\n",
    "X_train, X_test, y_train, y_test = train_test_split(X, y, test_size=0.20, random_state=17)"
   ]
  },
  {
   "cell_type": "code",
   "execution_count": 31,
   "id": "616f0f58",
   "metadata": {},
   "outputs": [
    {
     "data": {
      "text/plain": [
       "0.8415"
      ]
     },
     "execution_count": 31,
     "metadata": {},
     "output_type": "execute_result"
    }
   ],
   "source": [
    "# Random Forest:\n",
    "from sklearn.ensemble import RandomForestClassifier\n",
    "rf_model = RandomForestClassifier(random_state=20).fit(X_train, y_train)\n",
    "y_pred = rf_model.predict(X_test)\n",
    "accuracy_score(y_pred, y_test)"
   ]
  },
  {
   "cell_type": "code",
   "execution_count": 32,
   "id": "1746aecf",
   "metadata": {},
   "outputs": [
    {
     "data": {
      "text/plain": [
       "0.848"
      ]
     },
     "execution_count": 32,
     "metadata": {},
     "output_type": "execute_result"
    }
   ],
   "source": [
    "# Artificial Neural Network\n",
    "from sklearn.neural_network import MLPClassifier\n",
    "mlpc_model = MLPClassifier(random_state=20).fit(X_train, y_train)\n",
    "y_pred = mlpc_model.predict(X_test)\n",
    "accuracy_score(y_pred, y_test)"
   ]
  },
  {
   "cell_type": "code",
   "execution_count": 33,
   "id": "bd4a5dbe",
   "metadata": {},
   "outputs": [
    {
     "data": {
      "text/plain": [
       "0.85"
      ]
     },
     "execution_count": 33,
     "metadata": {},
     "output_type": "execute_result"
    }
   ],
   "source": [
    "# Gradient Boosting Machines\n",
    "from sklearn.ensemble import GradientBoostingClassifier\n",
    "gbm_model = GradientBoostingClassifier(random_state=20).fit(X_train, y_train)\n",
    "y_pred = gbm_model.predict(X_test)\n",
    "accuracy_score(y_pred, y_test)"
   ]
  },
  {
   "cell_type": "code",
   "execution_count": 41,
   "id": "7d49a69a",
   "metadata": {},
   "outputs": [
    {
     "data": {
      "text/plain": [
       "0.8385"
      ]
     },
     "execution_count": 41,
     "metadata": {},
     "output_type": "execute_result"
    }
   ],
   "source": [
    "# XGBoost\n",
    "from xgboost import XGBClassifier\n",
    "xgb_model = XGBClassifier(random_state=20, eval_metric='mlogloss').fit(X_train, y_train)\n",
    "y_pred = xgb_model.predict(X_test)\n",
    "accuracy_score(y_pred, y_test)"
   ]
  },
  {
   "cell_type": "code",
   "execution_count": 38,
   "id": "466bb4f6",
   "metadata": {},
   "outputs": [
    {
     "data": {
      "text/plain": [
       "0.8505"
      ]
     },
     "execution_count": 38,
     "metadata": {},
     "output_type": "execute_result"
    }
   ],
   "source": [
    "# LightGBM\n",
    "from lightgbm import LGBMClassifier\n",
    "lgbm_model = LGBMClassifier(random_state=20).fit(X_train, y_train)\n",
    "y_pred = lgbm_model.predict(X_test)\n",
    "accuracy_score(y_pred, y_test) "
   ]
  },
  {
   "cell_type": "code",
   "execution_count": 39,
   "id": "96876ff2",
   "metadata": {},
   "outputs": [
    {
     "data": {
      "image/png": "[encoded data removed]",
      "text/plain": [
       "<Figure size 720x720 with 1 Axes>"
      ]
     },
     "metadata": {
      "needs_background": "light"
     },
     "output_type": "display_data"
    }
   ],
   "source": [
    "def plot_importance(model, features, num=len(X), save=False):\n",
    "    feature_imp = pd.DataFrame({'Value': model.feature_importances_, 'Feature': features.columns})\n",
    "    plt.figure(figsize=(10, 10))\n",
    "    sns.set(font_scale=1)\n",
    "    sns.barplot(x=\"Value\", y=\"Feature\", data=feature_imp.sort_values(by=\"Value\",\n",
    "                                                                      ascending=False)[0:num])\n",
    "    plt.title('Features')\n",
    "    plt.tight_layout()\n",
    "    plt.show()\n",
    "    if save:\n",
    "        plt.savefig('importances.png')\n",
    "\n",
    "plot_importance(lgbm_model, X_train)"
   ]
  },
  {
   "cell_type": "code",
   "execution_count": null,
   "id": "82d2cccb",
   "metadata": {},
   "outputs": [],
   "source": []
  }
 ],
 "metadata": {
  "kernelspec": {
   "display_name": "Python 3 (ipykernel)",
   "language": "python",
   "name": "python3"
  },
  "language_info": {
   "codemirror_mode": {
    "name": "ipython",
    "version": 3
   },
   "file_extension": ".py",
   "mimetype": "text/x-python",
   "name": "python",
   "nbconvert_exporter": "python",
   "pygments_lexer": "ipython3",
   "version": "3.10.9"
  }
 },
 "nbformat": 4,
 "nbformat_minor": 5
}
