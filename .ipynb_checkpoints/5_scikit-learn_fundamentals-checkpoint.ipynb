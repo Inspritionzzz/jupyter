{
 "cells": [
  {
   "cell_type": "code",
   "execution_count": 2,
   "id": "c7f3e980-0342-4ac0-ada2-6d5bd36b83ff",
   "metadata": {},
   "outputs": [
    {
     "name": "stdout",
     "output_type": "stream",
     "text": [
      "[[ 0.  0.  5. 13.  9.  1.  0.  0.]\n",
      " [ 0.  0. 13. 15. 10. 15.  5.  0.]\n",
      " [ 0.  3. 15.  2.  0. 11.  8.  0.]\n",
      " [ 0.  4. 12.  0.  0.  8.  8.  0.]\n",
      " [ 0.  5.  8.  0.  0.  9.  8.  0.]\n",
      " [ 0.  4. 11.  0.  1. 12.  7.  0.]\n",
      " [ 0.  2. 14.  5. 10. 12.  0.  0.]\n",
      " [ 0.  0.  6. 13. 10.  0.  0.  0.]]\n",
      "\n",
      "手写数字为： 0\n"
     ]
    },
    {
     "data": {
      "image/png": "[encoded data removed]",
      "text/plain": [
       "<Figure size 432x288 with 1 Axes>"
      ]
     },
     "metadata": {
      "needs_background": "light"
     },
     "output_type": "display_data"
    }
   ],
   "source": [
    "import matplotlib.pyplot as plt\n",
    "from sklearn import datasets\n",
    "\n",
    "# 导入数据集合\n",
    "digits = datasets.load_digits()\n",
    "digital = digits.images[0]\n",
    "label = digits.target[0]\n",
    "\n",
    "#显示数字的矩阵形式\n",
    "print(digital)\n",
    "#显示数字的图片形式\n",
    "print(\"\\n手写数字为：\", label)\n",
    "plt.axis('off')\n",
    "plt.imshow(digital, cmap = plt.get_cmap('gray_r'))\n",
    "plt.show() "
   ]
  },
  {
   "cell_type": "code",
   "execution_count": null,
   "id": "0ef13e60-ccae-40e2-b2e7-8122ab2df167",
   "metadata": {},
   "outputs": [],
   "source": [
    "# 机器学习算法分类\n",
    "# 1. 监督学习：所有的监督学习基本都是分类的代名词\n",
    "# 2. 非监督学习：本质上是聚类的近义词,比如K均值据类(K-Means Clustering),c层次聚类,主成分分析(PCA)等\n",
    "# 3. 半监督学习：以标签化的分类信息,通过据类思想将未知事物归类为已知事物,如半监督支持向量机,半监督聚类等"
   ]
  },
  {
   "cell_type": "code",
   "execution_count": 3,
   "id": "a1964e9f-36db-4af7-8161-3136d69e1fa8",
   "metadata": {},
   "outputs": [],
   "source": [
    "# 性能评估\n",
    "# 1.过拟合和欠拟合\n",
    "# 2.二分类的混淆矩阵：TP FP TN FN 查全率(R) = TP / TP + FN    查准率(P) = TP / TP + FP\n",
    "# 3.F1分数：F1 = 2 * (P * R) / (P + R) \n",
    "# 4.P-R曲线：平衡点(BEP)\n",
    "# 5.ROC曲线: FPR = FP / N    TPR = TP / P\n",
    "# 6.AUC:沿ROC曲线的横轴做积分,通常取值0.5-1,AUC越大表明分类器性能越好"
   ]
  },
  {
   "cell_type": "code",
   "execution_count": 4,
   "id": "18bf9445-7065-4809-a575-a7bae121e461",
   "metadata": {},
   "outputs": [],
   "source": [
    "# sklearn\n",
    "# 1.流程\n",
    "# 1.1数据处理,如归一化,标准化,正则化,属性缩放,特征编码,插补缺失值,生成多项式特征\n",
    "# 1.2分割数据,训练集 验证集(可选),测试集\n",
    "# 1.3训练模型,选取特征构建模型\n",
    "# 1.4验证模型\n",
    "# 1.5测试模型\n",
    "# 1.6使用模型\n",
    "# 1.7模型调优\n",
    "\n",
    "# 2. 功能分类：\n",
    "# 2.1分类(定性输出)：SVM,Logistic回归,随机森林,决策树,多层感知器(MLP)等 \n",
    "# 2.2回归(定量输出)：线性回归,SVR,Lasso回归,贝叶斯回归等\n",
    "# 2.3聚类：k均值聚类,谱聚类,均值飘移等 \n",
    "# 2.4数据降维：PCA,特征选择,非矩阵分解等\n",
    "# 2.5模型选择：模型度量(metrics),网格搜索(grid search),交叉验证(cross validation) \n",
    "# 2.6数据预处理：数据预处理(preprocessing),特征抽取(feature extraction)"
   ]
  },
  {
   "cell_type": "code",
   "execution_count": 6,
   "id": "57a98907-b254-4622-8ec1-ba3371734a89",
   "metadata": {},
   "outputs": [
    {
     "data": {
      "text/plain": [
       "'1.0.2'"
      ]
     },
     "execution_count": 6,
     "metadata": {},
     "output_type": "execute_result"
    }
   ],
   "source": [
    "# 1. 线性回归\n",
    "import sklearn\n",
    "sklearn.__version__"
   ]
  }
 ],
 "metadata": {
  "kernelspec": {
   "display_name": "Python 3 (ipykernel)",
   "language": "python",
   "name": "python3"
  },
  "language_info": {
   "codemirror_mode": {
    "name": "ipython",
    "version": 3
   },
   "file_extension": ".py",
   "mimetype": "text/x-python",
   "name": "python",
   "nbconvert_exporter": "python",
   "pygments_lexer": "ipython3",
   "version": "3.9.12"
  }
 },
 "nbformat": 4,
 "nbformat_minor": 5
}
