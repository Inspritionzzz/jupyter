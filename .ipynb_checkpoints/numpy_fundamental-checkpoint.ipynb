{
 "cells": [
  {
   "cell_type": "code",
   "execution_count": 1,
   "id": "5593bb8a-50c9-49e6-9fdf-b53485f7c872",
   "metadata": {},
   "outputs": [],
   "source": [
    "import numpy as np"
   ]
  },
  {
   "cell_type": "code",
   "execution_count": 2,
   "id": "e543d75e-7a71-4b27-a159-06c4491e234d",
   "metadata": {},
   "outputs": [
    {
     "name": "stdout",
     "output_type": "stream",
     "text": [
      "1.21.5\n"
     ]
    }
   ],
   "source": [
    "print(np.__version__)"
   ]
  },
  {
   "cell_type": "code",
   "execution_count": 3,
   "id": "54ba9a5a-f4d0-45b4-bda4-8b63c4050568",
   "metadata": {},
   "outputs": [
    {
     "data": {
      "text/plain": [
       "array([1. , 3. , 3.6, 0. , 9. ])"
      ]
     },
     "execution_count": 3,
     "metadata": {},
     "output_type": "execute_result"
    }
   ],
   "source": [
    "# 1. numpy数组创建\n",
    "data1 = [1, 3, 3.6, 0, 9]\n",
    "arr1 = np.array(data1)\n",
    "arr1"
   ]
  },
  {
   "cell_type": "code",
   "execution_count": 4,
   "id": "0ccfed28-5a79-478c-8133-d49ae654429a",
   "metadata": {},
   "outputs": [
    {
     "data": {
      "text/plain": [
       "dtype('float64')"
      ]
     },
     "execution_count": 4,
     "metadata": {},
     "output_type": "execute_result"
    }
   ],
   "source": [
    "arr1.dtype"
   ]
  },
  {
   "cell_type": "code",
   "execution_count": 5,
   "id": "035f2c90-0b00-4625-8f6c-49e7e9d2d0bf",
   "metadata": {},
   "outputs": [
    {
     "data": {
      "text/plain": [
       "array([1, 3, 3, 0, 9])"
      ]
     },
     "execution_count": 5,
     "metadata": {},
     "output_type": "execute_result"
    }
   ],
   "source": [
    "arr1 = arr1.astype(np.int32)\n",
    "arr1"
   ]
  },
  {
   "cell_type": "code",
   "execution_count": 6,
   "id": "4f4b7b90-6fc1-4a9e-9c37-fca886ec4fe0",
   "metadata": {},
   "outputs": [
    {
     "data": {
      "text/plain": [
       "array([[1, 2, 3, 4],\n",
       "       [5, 6, 7, 8]])"
      ]
     },
     "execution_count": 6,
     "metadata": {},
     "output_type": "execute_result"
    }
   ],
   "source": [
    "data2 = [[1, 2, 3, 4], [5, 6, 7, 8]]\n",
    "arr2 = np.array(data2)\n",
    "arr2"
   ]
  },
  {
   "cell_type": "code",
   "execution_count": 7,
   "id": "a2138065-32ab-4688-a29b-6f7eb020d063",
   "metadata": {},
   "outputs": [
    {
     "name": "stdout",
     "output_type": "stream",
     "text": [
      "[0 1 2 3 4 5 6 7 8 9]\n",
      "[0.  0.5 1.  1.5 2.  2.5 3.  3.5 4.  4.5 5.  5.5 6.  6.5 7.  7.5 8.  8.5\n",
      " 9.  9.5]\n"
     ]
    }
   ],
   "source": [
    "arr3 = np.arange(10) \n",
    "print(arr3)\n",
    "print(np.arange(0, 10, .5))  # np.arange()可以将步长设置为任意实数,左闭右开;"
   ]
  },
  {
   "cell_type": "code",
   "execution_count": 8,
   "id": "bce37096-9364-43cc-a8ee-d40ec4d7bdfc",
   "metadata": {},
   "outputs": [
    {
     "name": "stdout",
     "output_type": "stream",
     "text": [
      "range(0, 10)\n",
      "<class 'range'>\n"
     ]
    }
   ],
   "source": [
    "arr4 = range(10)  # range()无法将步长设置为浮点数;\n",
    "print(arr4)  # range()返回的是一个可迭代对象,即迭代器;\n",
    "print(type(arr4))"
   ]
  },
  {
   "cell_type": "code",
   "execution_count": 9,
   "id": "d84fa134-4542-4122-82cc-a5f50db4f209",
   "metadata": {},
   "outputs": [
    {
     "name": "stdout",
     "output_type": "stream",
     "text": [
      "[ 1  2  3  4  5  6  7  8  9 10]\n",
      "<class 'numpy.ndarray'>\n"
     ]
    }
   ],
   "source": [
    "arr3 = arr3 + 1\n",
    "print(arr3)\n",
    "print(type(arr3))"
   ]
  },
  {
   "cell_type": "code",
   "execution_count": 10,
   "id": "d53d1962-3954-4710-8033-83f8ec6d5c06",
   "metadata": {},
   "outputs": [
    {
     "name": "stdout",
     "output_type": "stream",
     "text": [
      "[ 1.          1.47368421  1.94736842  2.42105263  2.89473684  3.36842105\n",
      "  3.84210526  4.31578947  4.78947368  5.26315789  5.73684211  6.21052632\n",
      "  6.68421053  7.15789474  7.63157895  8.10526316  8.57894737  9.05263158\n",
      "  9.52631579 10.        ]\n",
      "[1.   1.45 1.9  2.35 2.8  3.25 3.7  4.15 4.6  5.05 5.5  5.95 6.4  6.85\n",
      " 7.3  7.75 8.2  8.65 9.1  9.55]\n"
     ]
    }
   ],
   "source": [
    "print(np.linspace(1, 10, 20))  # 生成指定个数的数组,闭区间;\n",
    "print(np.linspace(1, 10, 20, endpoint=False))  # 指定为左闭右开;"
   ]
  },
  {
   "cell_type": "code",
   "execution_count": 11,
   "id": "300f1dfa-5f9f-457c-b0f8-5c7b54a58f23",
   "metadata": {},
   "outputs": [
    {
     "name": "stdout",
     "output_type": "stream",
     "text": [
      "[[0. 0. 0. 0.]\n",
      " [0. 0. 0. 0.]\n",
      " [0. 0. 0. 0.]]\n",
      "[[0. 0. 0. 0.]\n",
      " [0. 0. 0. 0.]\n",
      " [0. 0. 0. 0.]]\n",
      "[[0. 0. 0. 0.]\n",
      " [0. 0. 0. 0.]\n",
      " [0. 0. 0. 0.]]\n",
      "[[1. 1. 1. 1.]\n",
      " [1. 1. 1. 1.]\n",
      " [1. 1. 1. 1.]]\n",
      "[[0 0 0 0]\n",
      " [0 0 0 0]]\n",
      "[[1 1 1]\n",
      " [1 1 1]]\n"
     ]
    }
   ],
   "source": [
    "print(np.zeros((3, 4)))\n",
    "print(np.zeros(shape = [3, 4]))\n",
    "print(np.zeros(shape = (3, 4)))\n",
    "print(np.ones(shape = [3, 4], dtype = float))\n",
    "print(np.zeros_like(arr2))  # 借用arr2的类型和尺寸;\n",
    "data5 = np.arange(6)\n",
    "arr5 = data5.reshape((2, 3))\n",
    "print(np.ones_like(arr5))"
   ]
  },
  {
   "cell_type": "code",
   "execution_count": 12,
   "id": "441a4542-ee84-42bc-b744-73d54ddd12ae",
   "metadata": {},
   "outputs": [
    {
     "name": "stdout",
     "output_type": "stream",
     "text": [
      "1\n",
      "(9,)\n",
      "[ 0  1  2  3  4  5  6  7  8  9 10 11 12 13 14]\n",
      "[[ 0  1  2  3  4]\n",
      " [ 5  6  7  8  9]\n",
      " [10 11 12 13 14]]\n",
      "2\n",
      "(2, 3)\n",
      "6\n",
      "[[[ 0  1  2  3  4]\n",
      "  [ 5  6  7  8  9]\n",
      "  [10 11 12 13 14]]\n",
      "\n",
      " [[15 16 17 18 19]\n",
      "  [20 21 22 23 24]\n",
      "  [25 26 27 28 29]]]\n"
     ]
    }
   ],
   "source": [
    "arr6 = np.arange(1, 10)\n",
    "print(arr6.ndim)\n",
    "print(arr6.shape)\n",
    "arr7 = np.arange(15)\n",
    "print(arr7)\n",
    "arr7_shape = arr7.reshape(3, 5)\n",
    "print(arr7_shape)\n",
    "print(arr5.ndim)\n",
    "print(arr5.shape)  # 二维数组\n",
    "print(arr5.size)\n",
    "print(np.arange(30).reshape(2, 3, 5))  # 三维数组"
   ]
  },
  {
   "cell_type": "code",
   "execution_count": 13,
   "id": "1218eed8-b056-4772-8e05-2f2193299607",
   "metadata": {},
   "outputs": [
    {
     "name": "stdout",
     "output_type": "stream",
     "text": [
      "[12, 14, 16, 18, 20, 22, 24, 26, 28, 30]\n",
      "[12 14 16 18 20 22 24 26 28 30]\n",
      "[0 1 2 3 4 5 6 7 8 9]\n",
      "[ 1.  2.  3.  4.  5.  6.  7.  8.  9. 10.]\n",
      "[ 1.  3.  5.  7.  9. 11. 13. 15. 17. 19.]\n",
      "[-1. -1. -1. -1. -1. -1. -1. -1. -1. -1.]\n",
      "[ 0.  2.  6. 12. 20. 30. 42. 56. 72. 90.]\n",
      "[0.         0.5        0.66666667 0.75       0.8        0.83333333\n",
      " 0.85714286 0.875      0.88888889 0.9       ]\n",
      "[0. 1. 2. 3. 4. 5. 6. 7. 8. 9.]\n",
      "[ 0  1  4  9 16 25 36 49 64 81]\n"
     ]
    }
   ],
   "source": [
    "# 2. nupy数组运算\n",
    "# 2.1 numpy基本运算\n",
    "list1 = [1, 2, 3, 4, 5, 6, 7, 8, 9, 10]\n",
    "list2 = [11, 12, 13, 14, 15, 16, 17, 18, 19, 20]\n",
    "list3 = [item1 + item2 for item1, item2 in zip(list1, list2)]\n",
    "print(list3)\n",
    "list1_arr = np.array(list1)\n",
    "list2_arr = np.array(list2)\n",
    "list_sum = list1_arr + list2_arr\n",
    "print(list_sum)\n",
    "arr1 = np.arange(10)\n",
    "arr2 = np.linspace(1, 10, 10)\n",
    "print(arr1)\n",
    "print(arr2)\n",
    "print(arr1 + arr2)\n",
    "print(arr1 - arr2)\n",
    "print(arr1 * arr2)\n",
    "print(arr1 / arr2)\n",
    "print(arr1 % arr2)\n",
    "print(arr1 ** 2)"
   ]
  },
  {
   "cell_type": "code",
   "execution_count": 14,
   "id": "64477abe-f328-4818-bdf2-9bae795a2e42",
   "metadata": {},
   "outputs": [
    {
     "name": "stdout",
     "output_type": "stream",
     "text": [
      "[[1 2]\n",
      " [3 4]]\n",
      "[[1. 1.]\n",
      " [1. 1.]]\n",
      "[[2. 3.]\n",
      " [4. 5.]]\n",
      "[[1. 2.]\n",
      " [3. 4.]]\n",
      "[[1. 2.]\n",
      " [3. 4.]]\n",
      "[[0 1 2]\n",
      " [3 4 5]\n",
      " [6 7 8]]\n",
      "[[1. 1.]\n",
      " [1. 1.]\n",
      " [1. 1.]]\n",
      "[[ 3.  3.]\n",
      " [12. 12.]\n",
      " [21. 21.]]\n",
      "[[ 3.  3.]\n",
      " [12. 12.]\n",
      " [21. 21.]]\n",
      "[[0.9607466  0.21824594 0.86550154]\n",
      " [0.26457496 0.86599081 0.17405854]\n",
      " [0.74964315 0.39398643 0.95534711]]\n",
      "[[ 3.28996583  0.57450755 -3.08523302]\n",
      " [-0.53020988  1.16652722  0.26781203]\n",
      " [-2.36291587 -0.9318828   3.35721902]]\n",
      "[[0.9607466  0.26457496 0.74964315]\n",
      " [0.21824594 0.86599081 0.39398643]\n",
      " [0.86550154 0.17405854 0.95534711]]\n",
      "[[0.9607466  0.21824594 0.86550154]\n",
      " [0.26457496 0.86599081 0.17405854]\n",
      " [0.74964315 0.39398643 0.95534711]]\n"
     ]
    }
   ],
   "source": [
    "# 2.2 numpy逐元素运算与张量点乘运算\n",
    "arr3 = np.array([[1, 2], [3, 4]])\n",
    "print(arr3)\n",
    "arr4 = np.ones((2, 2))\n",
    "print(arr4)\n",
    "print(arr3 + arr4)\n",
    "print(arr3 * arr4)\n",
    "print(np.multiply(arr3, arr4))\n",
    "arr5 = np.arange(9).reshape(3, 3)\n",
    "arr6 = np.ones(shape = (3, 2))\n",
    "print(arr5)\n",
    "print(arr6)\n",
    "print(np.dot(arr5, arr6))  # 使用数组模拟矩阵乘法\n",
    "arr7 = np.mat(arr5)  # 将数组转化成矩阵\n",
    "arr8 = np.mat(arr6)\n",
    "print(arr7 * arr8)\n",
    "arr9 = np.mat(np.random.random((3, 3)))  # 生成3*3的随机数矩阵\n",
    "print(arr9)\n",
    "print(arr9.I)  # 逆矩阵\n",
    "print(arr9.T)  # 转置矩阵\n",
    "print(arr9.A)  # 矩阵对应的二维数组\n",
    "# print(np.ee())  # 生成单位矩阵\n",
    "# print(np.dia())  # 生成对角线元素矩阵"
   ]
  },
  {
   "cell_type": "code",
   "execution_count": 15,
   "id": "e3d461e4-4719-402d-83ea-4bebf853440a",
   "metadata": {},
   "outputs": [
    {
     "name": "stdout",
     "output_type": "stream",
     "text": [
      "[0 1 2 3 4 5 6 7 8 9]\n",
      "45\n",
      "[[ 0  1  2  3  4]\n",
      " [ 5  6  7  8  9]\n",
      " [10 11 12 13 14]\n",
      " [15 16 17 18 19]]\n",
      "[30 34 38 42 46]\n",
      "[10 35 60 85]\n",
      "[[ 2  3  1]\n",
      " [ 4  6  2]\n",
      " [10 15  5]]\n",
      "[[ 2  3  1]\n",
      " [ 4  6  2]\n",
      " [10 15  5]]\n",
      "[[1. 2.]\n",
      " [3. 4.]]\n",
      "5\n",
      "[[1 3]\n",
      " [2 4]]\n"
     ]
    }
   ],
   "source": [
    "# 2.3 爱因斯坦求和约定(einsum)\n",
    "arr10 = np.arange(10)\n",
    "print(arr10)\n",
    "print(np.einsum('i->', arr10))\n",
    "arr11 = np.arange(20).reshape(4, 5)\n",
    "print(arr11)\n",
    "print(np.einsum('ij->j', arr11))  # i表示行,j表示列,这里表示按列求和;\n",
    "print(np.einsum('ab->a', arr11))\n",
    "arr12 = np.array([[1, 1, 1], [2, 2, 2], [5, 5, 5]])\n",
    "arr13 = np.array([[0, 1, 0], [1, 1, 0], [1, 1, 1]])\n",
    "print(arr12 @ arr13)  # 等价于np.dot(arr12, arr13)\n",
    "print(np.einsum('ij, jk->ik', arr12, arr13))\n",
    "arr14 = np.array([[1, 2], [3, 4]])\n",
    "arr15 = np.ones(shape = (2, 2))\n",
    "print(np.einsum('ij, ij->ij', arr14, arr15))\n",
    "print(np.einsum('ii->', arr14))  # 对角线求和\n",
    "print(np.einsum('ij->ji', arr14))  # 求转置矩阵"
   ]
  },
  {
   "cell_type": "code",
   "execution_count": 16,
   "id": "548e92e4-d487-4183-91f3-699da2672a45",
   "metadata": {},
   "outputs": [
    {
     "name": "stdout",
     "output_type": "stream",
     "text": [
      "[[1. 1. 1.]\n",
      " [1. 1. 1.]]\n",
      "6.0\n",
      "[2. 2. 2.]\n",
      "[3. 3.]\n",
      "[[[1 1 1]\n",
      "  [2 2 2]]\n",
      "\n",
      " [[3 3 3]\n",
      "  [4 4 4]]]\n",
      "[[4 4 4]\n",
      " [6 6 6]]\n",
      "[[3 3 3]\n",
      " [7 7 7]]\n",
      "[[ 3  6]\n",
      " [ 9 12]]\n",
      "2\n",
      "[[1. 2. 3.]\n",
      " [4. 5. 6.]\n",
      " [7. 8. 9.]]\n",
      "[7. 8. 9.] [3. 6. 9.] 9.0\n"
     ]
    }
   ],
   "source": [
    "# 2.4 numpy中的轴方向\n",
    "arr15 = np.ones((2, 3))\n",
    "print(arr15)\n",
    "print(arr15.sum())  # axis=None默认全维度约减\n",
    "print(arr15.sum(axis = 0))  # 垂直方向约减\n",
    "print(arr15.sum(axis = 1))  # 水平方向约减\n",
    "arr16 = np.array([[[1, 1, 1], [2, 2, 2]], [[3, 3, 3], [4, 4, 4]]])  # 有三层括号,维度由外到内分别为[0, 1, 2]\n",
    "print(arr16)\n",
    "print(arr16.sum(axis = 0))\n",
    "print(arr16.sum(axis = 1))\n",
    "print(arr16.sum(axis = 2))\n",
    "print(arr16.sum(axis = 2).ndim)  # 查看约减后的维度\n",
    "arr17 = np.linspace(1, 9, 9).reshape(3, 3)\n",
    "print(arr17)\n",
    "print(arr17.max(0), arr17.max(1), arr17.max())"
   ]
  },
  {
   "cell_type": "code",
   "execution_count": 17,
   "id": "66d1b7b4-4fd3-4457-b84f-231839f8a834",
   "metadata": {},
   "outputs": [
    {
     "name": "stdout",
     "output_type": "stream",
     "text": [
      "[-0.5 -0.4 -0.3 -0.2 -0.1  0.   0.1  0.2  0.3  0.4  0.5  0.6]\n",
      "-0.5 0.6\n",
      "1.0\n",
      "3 3\n",
      "100\n"
     ]
    }
   ],
   "source": [
    "# 2.5 操作数组\n",
    "arr18 = np.linspace(-0.5, 0.6, 12)\n",
    "print(arr18)\n",
    "print(arr18[0], arr18[-1])\n",
    "arr18[0] = 1\n",
    "print(arr18[0])\n",
    "arr19 = np.array([[1, 2, 3], [4, 5, 6], [7, 8, 9]])\n",
    "print(arr19[0][2], arr19[0, 2])  # 访问第0行第2列的元素\n",
    "arr19[0, 2] = 100\n",
    "print(arr19[0, 2])"
   ]
  },
  {
   "cell_type": "code",
   "execution_count": 18,
   "id": "0a055f00-90b3-4366-ad9f-17d64a499edf",
   "metadata": {},
   "outputs": [
    {
     "name": "stdout",
     "output_type": "stream",
     "text": [
      "[0 1 2 3 4 5 6 7 8 9]\n",
      "[0 2 4 6 8]\n",
      "[0 2 4 6 8]\n",
      "[0 1 2 3 4 5 6 7 8 9]\n",
      "[2 3 4 5 6 7 8 9]\n",
      "[2 3 4 5 6 7]\n",
      "[9 8 7 6 5 4 3 2 1 0]\n",
      "[[1 1 1]\n",
      " [2 2 2]\n",
      " [5 5 5]]\n",
      "[[1 2 5]\n",
      " [1 2 5]\n",
      " [1 2 5]]\n",
      "[1 1 1 2 2 2 5 5 5]\n",
      "[1 1 1 2 2 2 5 5 5]\n",
      "[[1 1 1 2 2 2 5 5 5]]\n"
     ]
    }
   ],
   "source": [
    "# 2.6 numpy中的切片访问\n",
    "arr20 = np.arange(10)\n",
    "s = slice(0, 9, 2)  # 创建切片对象\n",
    "arr20_slice = arr20[s]  # 按照切片规则提取数据\n",
    "print(arr20)  # 原始数组的值不受影响\n",
    "print(arr20_slice)\n",
    "print(arr20[0: 9: 2])\n",
    "print(arr20)  # 原始数组的值不受影响\n",
    "print(arr20[2:])\n",
    "print(arr20[2:-2])\n",
    "print(arr20[::-1])  # 逆序输出\n",
    "arr21 = np.array([[1, 1, 1], [2, 2, 2], [5, 5, 5]])\n",
    "print(arr21)\n",
    "print(arr21.transpose())  # 转置\n",
    "print(arr21.ravel())  # 二维数组展平\n",
    "print(arr21.flatten())  # 二维数组展平(深拷贝)\n",
    "arr21.shape = (1, -1)  # 1表示一行,-1表示让系统自动推断剩余维度\n",
    "print(arr21)  "
   ]
  },
  {
   "cell_type": "code",
   "execution_count": 19,
   "id": "d0690ca9-9992-487c-8a0a-32c187f32d8e",
   "metadata": {},
   "outputs": [
    {
     "name": "stdout",
     "output_type": "stream",
     "text": [
      "(3,)\n",
      "[5 6 7]\n",
      "[[1. 1. 1.]\n",
      " [1. 1. 1.]\n",
      " [1. 1. 1.]]\n",
      "[0 1 2]\n",
      "[[1. 2. 3.]\n",
      " [1. 2. 3.]\n",
      " [1. 2. 3.]]\n",
      "(3, 1)\n",
      "[[0]\n",
      " [1]\n",
      " [2]]\n",
      "(3,)\n",
      "[0 1 2]\n",
      "[[0 1 2]\n",
      " [1 2 3]\n",
      " [2 3 4]]\n"
     ]
    }
   ],
   "source": [
    "# 2.7 numpy中的广播机制\n",
    "arr22 = np.arange(3)\n",
    "print(arr22.shape)\n",
    "print(arr22 + 5)  # 长度为3的1D张量和0D张量(标量)相加,标量将被拉伸成为一个尺寸为(3,)的张量\n",
    "arr23 = np.ones((3, 3))\n",
    "arr24 = np.arange(3)\n",
    "print(arr23)\n",
    "print(arr24)\n",
    "print(arr23 + arr24)\n",
    "arr25 = np.arange(3).reshape((3, 1))\n",
    "print(arr25.shape)\n",
    "arr26 = np.arange(3)\n",
    "print(arr25)\n",
    "print(arr26.shape)\n",
    "print(arr26)\n",
    "print(arr25 + arr26)"
   ]
  },
  {
   "cell_type": "code",
   "execution_count": 34,
   "id": "5e67a271-470f-48cd-8dc4-4a35e86b11c7",
   "metadata": {},
   "outputs": [
    {
     "name": "stdout",
     "output_type": "stream",
     "text": [
      "[32 56 23]\n",
      "[32 56 23]\n",
      "[[ 0  1  2  3  4]\n",
      " [ 5  6  7  8  9]\n",
      " [10 11 12 13 14]\n",
      " [15 16 17 18 19]]\n",
      "[[ 0  1  2  3  4]\n",
      " [10 11 12 13 14]\n",
      " [ 5  6  7  8  9]\n",
      " [ 0  1  2  3  4]]\n",
      "[[ 0  1  2  3  4]\n",
      " [10 11 12 13 14]\n",
      " [ 5  6  7  8  9]\n",
      " [ 0  1  2  3  4]]\n",
      "[[ 0  2  1  0]\n",
      " [ 5  7  6  5]\n",
      " [10 12 11 10]\n",
      " [15 17 16 15]]\n",
      "[11 12 13]\n",
      "[ 0  6 15 11]\n",
      "[[ 0  2  4]\n",
      " [10 12 14]\n",
      " [ 5  7  9]]\n"
     ]
    }
   ],
   "source": [
    "# 2.8 花式索引\n",
    "arr27 = np.array([21, 32, 35, 56, 23, 23, 35, 57, 76, 87])\n",
    "print(arr27[[1, 3, 4]])\n",
    "index = [1, 3, 4]\n",
    "print(arr27[index])\n",
    "arr28 = np.arange(20).reshape(4, 5)\n",
    "print(arr28)\n",
    "print(arr28[[0, 2, 1, 0]])\n",
    "index = [0, 2, 1, 0]\n",
    "print(arr28[index])  # 花式索引访问行\n",
    "print(arr28[:, index]) # 花式索引访问列\n",
    "print(arr28[2, [1, 2, 3]])  # 第2行的1,2,3列\n",
    "row_index = [0, 1, 3, 2]\n",
    "col_index = [0, 1, 0, 1]\n",
    "print(arr28[row_index, col_index])  # 构建[0,0],[1,1],[3,0],[2,0]四个元素,返回的原始数组的视图\n",
    "row_index = np.array([0, 2, 1])  # 定义花式访问的行\n",
    "col_mask = np.array([1, 0, 1, 0, 1], dtype=bool)  # 定义列访问掩码,第0,2,4列数据有效;\n",
    "col_index = [0, 1, 0, 1]\n",
    "print(arr28[row_index[:, np.newaxis], col_mask])"
   ]
  },
  {
   "cell_type": "code",
   "execution_count": 40,
   "id": "1373b349-8d7d-4dd1-9cf5-c6ef14a752f4",
   "metadata": {},
   "outputs": [
    {
     "name": "stdout",
     "output_type": "stream",
     "text": [
      "[[0 1 2 3 4]\n",
      " [5 6 7 8 9]]\n",
      "[6 7 8 9]\n",
      "[[False False False False False]\n",
      " [False  True  True  True  True]]\n",
      "[[ True False  True False  True]\n",
      " [False  True False  True False]]\n"
     ]
    }
   ],
   "source": [
    "# 2.9 布尔索引\n",
    "arr29 = np.arange(10).reshape(2, 5)\n",
    "print(arr29)\n",
    "print(arr29[arr29 > 5])\n",
    "print(arr29 > 5)\n",
    "print(arr29 % 2 == 0)"
   ]
  },
  {
   "cell_type": "code",
   "execution_count": 59,
   "id": "b90a09fa-08dd-4c4c-8893-45a752e8f900",
   "metadata": {},
   "outputs": [
    {
     "name": "stdout",
     "output_type": "stream",
     "text": [
      "[[0 0 1 1 1]\n",
      " [0 0 1 1 1]]\n",
      "[[0 0 1 1 1]\n",
      " [0 0 1 1 1]]\n",
      "[[0 0 0]\n",
      " [0 0 0]\n",
      " [1 1 1]\n",
      " [1 1 1]\n",
      " [1 1 1]]\n",
      "[[0 0 0]\n",
      " [0 0 0]\n",
      " [1 1 1]\n",
      " [1 1 1]\n",
      " [1 1 1]]\n",
      "[[[ 0  9 18]\n",
      "  [ 1 10 19]\n",
      "  [ 2 11 20]\n",
      "  [ 3 12 21]\n",
      "  [ 4 13 22]\n",
      "  [ 5 14 23]\n",
      "  [ 6 15 24]\n",
      "  [ 7 16 25]\n",
      "  [ 8 17 26]]]\n",
      "[[[ 0  9 18]\n",
      "  [ 1 10 19]\n",
      "  [ 2 11 20]]\n",
      "\n",
      " [[ 3 12 21]\n",
      "  [ 4 13 22]\n",
      "  [ 5 14 23]]\n",
      "\n",
      " [[ 6 15 24]\n",
      "  [ 7 16 25]\n",
      "  [ 8 17 26]]]\n"
     ]
    },
    {
     "name": "stderr",
     "output_type": "stream",
     "text": [
      "C:\\Users\\zhangcy4\\AppData\\Local\\Temp\\ipykernel_31064\\1988017781.py:2: DeprecationWarning: `np.int` is a deprecated alias for the builtin `int`. To silence this warning, use `int` by itself. Doing this will not modify any behavior and is safe. When replacing `np.int`, you may wish to use e.g. `np.int64` or `np.int32` to specify the precision. If you wish to review your current use, check the release note link for additional information.\n",
      "Deprecated in NumPy 1.20; for more details and guidance: https://numpy.org/devdocs/release/1.20.0-notes.html#deprecations\n",
      "  arr30 = np.zeros(shape = (2, 2), dtype = np.int)\n",
      "C:\\Users\\zhangcy4\\AppData\\Local\\Temp\\ipykernel_31064\\1988017781.py:3: DeprecationWarning: `np.int` is a deprecated alias for the builtin `int`. To silence this warning, use `int` by itself. Doing this will not modify any behavior and is safe. When replacing `np.int`, you may wish to use e.g. `np.int64` or `np.int32` to specify the precision. If you wish to review your current use, check the release note link for additional information.\n",
      "Deprecated in NumPy 1.20; for more details and guidance: https://numpy.org/devdocs/release/1.20.0-notes.html#deprecations\n",
      "  arr31 = np.ones(shape = (2, 3), dtype = np.int)\n",
      "C:\\Users\\zhangcy4\\AppData\\Local\\Temp\\ipykernel_31064\\1988017781.py:6: DeprecationWarning: `np.int` is a deprecated alias for the builtin `int`. To silence this warning, use `int` by itself. Doing this will not modify any behavior and is safe. When replacing `np.int`, you may wish to use e.g. `np.int64` or `np.int32` to specify the precision. If you wish to review your current use, check the release note link for additional information.\n",
      "Deprecated in NumPy 1.20; for more details and guidance: https://numpy.org/devdocs/release/1.20.0-notes.html#deprecations\n",
      "  arr32 = np.zeros(shape = (2, 3), dtype = np.int)\n",
      "C:\\Users\\zhangcy4\\AppData\\Local\\Temp\\ipykernel_31064\\1988017781.py:7: DeprecationWarning: `np.int` is a deprecated alias for the builtin `int`. To silence this warning, use `int` by itself. Doing this will not modify any behavior and is safe. When replacing `np.int`, you may wish to use e.g. `np.int64` or `np.int32` to specify the precision. If you wish to review your current use, check the release note link for additional information.\n",
      "Deprecated in NumPy 1.20; for more details and guidance: https://numpy.org/devdocs/release/1.20.0-notes.html#deprecations\n",
      "  arr33 = np.ones(shape = (3, 3), dtype = np.int)\n"
     ]
    }
   ],
   "source": [
    "# 2.10 数组堆叠操作\n",
    "arr30 = np.zeros(shape = (2, 2), dtype = np.int)\n",
    "arr31 = np.ones(shape = (2, 3), dtype = np.int)\n",
    "print(np.hstack((arr30, arr31)))  # 水平方向堆叠,要求行尺寸相同\n",
    "print(np.concatenate((arr30, arr31), axis = 1))  # 使用concatenate()能够达到一样的效果\n",
    "arr32 = np.zeros(shape = (2, 3), dtype = np.int)\n",
    "arr33 = np.ones(shape = (3, 3), dtype = np.int)\n",
    "print(np.vstack((arr32, arr33)))\n",
    "print(np.concatenate((arr32, arr33), axis = 0))  # 使用concatenate()\n",
    "arr34 = np.arange(0, 9)\n",
    "arr35 = np.arange(9, 18)\n",
    "arr36 = np.arange(18, 27)\n",
    "print(np.dstack((arr34, arr35, arr36)))  # 深度方向堆叠\n",
    "arr37 = np.arange(0, 9).reshape(3, 3)\n",
    "arr38 = np.arange(9, 18).reshape(3, 3)\n",
    "arr39 = np.arange(18, 27).reshape(3, 3)\n",
    "print(np.dstack((arr37, arr38, arr39)))"
   ]
  },
  {
   "cell_type": "code",
   "execution_count": 69,
   "id": "94d70d1e-b73a-47a2-aa0d-7306fceaa561",
   "metadata": {},
   "outputs": [
    {
     "name": "stdout",
     "output_type": "stream",
     "text": [
      "[[0 0]\n",
      " [1 2]\n",
      " [2 4]]\n",
      "[[ 0  1  2  0  2  4]\n",
      " [ 3  4  5  6  8 10]\n",
      " [ 6  7  8 12 14 16]]\n",
      "[[ True  True  True  True  True  True]\n",
      " [ True  True  True  True  True  True]\n",
      " [ True  True  True  True  True  True]]\n",
      "[[ 0  1  2]\n",
      " [ 3  4  5]\n",
      " [ 6  7  8]\n",
      " [ 0  2  4]\n",
      " [ 6  8 10]\n",
      " [12 14 16]]\n",
      "[[ True  True  True]\n",
      " [ True  True  True]\n",
      " [ True  True  True]\n",
      " [ True  True  True]\n",
      " [ True  True  True]\n",
      " [ True  True  True]]\n"
     ]
    }
   ],
   "source": [
    "# 2.11 列堆叠和行堆叠\n",
    "arr40 = np.arange(3)\n",
    "arr41 = arr40 * 2\n",
    "print(np.column_stack((arr40, arr41)))  # 列方向堆叠;\n",
    "arr42 = np.arange(9).reshape(3, 3)\n",
    "arr43 = arr42 * 2\n",
    "print(np.column_stack((arr42, arr43)))\n",
    "print(np.column_stack((arr42, arr43)) == np.hstack((arr42, arr43)))  # 和hstack()等价;\n",
    "print(np.row_stack((arr42, arr43)))  # 行方向堆叠;\n",
    "print(np.row_stack((arr42, arr43)) == np.vstack((arr42, arr43)))  # 和vstack()等价;"
   ]
  },
  {
   "cell_type": "code",
   "execution_count": 89,
   "id": "33620573-395b-442d-9448-dce2152d9677",
   "metadata": {},
   "outputs": [
    {
     "name": "stdout",
     "output_type": "stream",
     "text": [
      "[[ 0.  1.  2.  3.]\n",
      " [ 4.  5.  6.  7.]\n",
      " [ 8.  9. 10. 11.]\n",
      " [12. 13. 14. 15.]]\n",
      "[array([[ 0.,  1.],\n",
      "       [ 4.,  5.],\n",
      "       [ 8.,  9.],\n",
      "       [12., 13.]]), array([[ 2.,  3.],\n",
      "       [ 6.,  7.],\n",
      "       [10., 11.],\n",
      "       [14., 15.]])]\n",
      "[[ 0.  1.]\n",
      " [ 4.  5.]\n",
      " [ 8.  9.]\n",
      " [12. 13.]]\n",
      "<class 'list'> 2\n",
      "[[ 0.  1.  2.  3.  4.  5.  6.  7.]\n",
      " [ 8.  9. 10. 11. 12. 13. 14. 15.]]\n",
      "[array([[0., 1.],\n",
      "       [8., 9.]]), array([[ 2.,  3.],\n",
      "       [10., 11.]]), array([[ 4.,  5.],\n",
      "       [12., 13.]]), array([[ 6.,  7.],\n",
      "       [14., 15.]])]\n",
      "[array([[0., 1., 2., 3., 4., 5., 6., 7.]]), array([[ 8.,  9., 10., 11., 12., 13., 14., 15.]])]\n",
      "[array([[0., 1., 2., 3., 4., 5., 6., 7.]]), array([[ 8.,  9., 10., 11., 12., 13., 14., 15.]])]\n",
      "[[[ 0.  1.  2.  3.]\n",
      "  [ 4.  5.  6.  7.]]\n",
      "\n",
      " [[ 8.  9. 10. 11.]\n",
      "  [12. 13. 14. 15.]]]\n",
      "[array([[[ 0.,  1.],\n",
      "        [ 4.,  5.]],\n",
      "\n",
      "       [[ 8.,  9.],\n",
      "        [12., 13.]]]), array([[[ 2.,  3.],\n",
      "        [ 6.,  7.]],\n",
      "\n",
      "       [[10., 11.],\n",
      "        [14., 15.]]])]\n",
      "[array([[[ 0.],\n",
      "        [ 4.]],\n",
      "\n",
      "       [[ 8.],\n",
      "        [12.]]]), array([[[ 1.,  2.,  3.],\n",
      "        [ 5.,  6.,  7.]],\n",
      "\n",
      "       [[ 9., 10., 11.],\n",
      "        [13., 14., 15.]]])]\n"
     ]
    }
   ],
   "source": [
    "# 2.12 数组的分割操作(hslpit(),vsplit(),dsplit())\n",
    "arr44 = np.arange(16.0).reshape(4, 4)\n",
    "print(arr44)\n",
    "print(np.hsplit(arr44, 2))  # 列方向分割,相当于axis=1\n",
    "print(np.hsplit(arr44, 2)[0])\n",
    "print(type(np.hsplit(arr44, 2)), len(np.hsplit(arr44, 2)))\n",
    "arr45 = np.arange(16.0).reshape(2, 8)\n",
    "print(arr45)\n",
    "print(np.hsplit(arr45, [2, 4, 6]))  # 等价于设置axis=1\n",
    "print(np.vsplit(arr45, 2))  # 水平方向分割\n",
    "print(np.split(arr45, 2, axis = 0))  # split()配合axis=0实现\n",
    "arr46 = np.arange(16.0).reshape(2, 2, 4) # 两个2*4矩阵\n",
    "print(arr46)\n",
    "print(np.dsplit(arr46, 2))\n",
    "print(np.split(arr46, [1,], axis = 2)) # 设置axis=2等价于dsplit()"
   ]
  },
  {
   "cell_type": "code",
   "execution_count": 96,
   "id": "356f0df2-60a6-4121-a39f-1d35221394a3",
   "metadata": {},
   "outputs": [
    {
     "name": "stdout",
     "output_type": "stream",
     "text": [
      "rand(d0, d1,...,dn):生成标准均匀分布的随机数\n",
      " [[0.23675601 0.59353868 0.74897519]\n",
      " [0.66065819 0.8813292  0.93499822]]\n",
      "rand(d0, d1,...,dn):生成标准正态分布的随机数\n",
      " [[0.03835945 0.87038464 0.84036223]\n",
      " [0.89930338 0.16414639 0.18839459]]\n",
      "randint(low, high, size, dtype):生成随机整数\n",
      " [[5 6 9]\n",
      " [4 9 9]]\n",
      "randint(size):在[0, 1)内生成随机数\n",
      " [[0.79630321 0.24302916 0.80162383]\n",
      " [0.64013314 0.23206275 0.80510758]]\n"
     ]
    }
   ],
   "source": [
    "# 2.13 numpy中的random模块\n",
    "rdm = np.random.RandomState(1)  # 定义随机种子\n",
    "np.random.seed(19680101)  # 定义随机种子\n",
    "rand = np.random.rand(2, 3)  # 生成2*3的随即数组,服从均匀分布\n",
    "print(\"rand(d0, d1,...,dn):生成标准均匀分布的随机数\\n\", rand)\n",
    "randn = np.random.rand(2, 3)  # 生成2*3的随即数组,服从正态分布\n",
    "print(\"rand(d0, d1,...,dn):生成标准正态分布的随机数\\n\", randn)\n",
    "randint = np.random.randint(1, 10, (2, 3)) # 生成2*3的1-10的随机整数\n",
    "print(\"randint(low, high, size, dtype):生成随机整数\\n\", randint)\n",
    "random = np.random.random((2, 3))\n",
    "print(\"randint(size):在[0, 1)内生成随机数\\n\", random)\n",
    "# (b - a) * np.random.rand() * a生成[a, b)范围的随机数"
   ]
  }
 ],
 "metadata": {
  "kernelspec": {
   "display_name": "Python 3 (ipykernel)",
   "language": "python",
   "name": "python3"
  },
  "language_info": {
   "codemirror_mode": {
    "name": "ipython",
    "version": 3
   },
   "file_extension": ".py",
   "mimetype": "text/x-python",
   "name": "python",
   "nbconvert_exporter": "python",
   "pygments_lexer": "ipython3",
   "version": "3.9.12"
  }
 },
 "nbformat": 4,
 "nbformat_minor": 5
}
