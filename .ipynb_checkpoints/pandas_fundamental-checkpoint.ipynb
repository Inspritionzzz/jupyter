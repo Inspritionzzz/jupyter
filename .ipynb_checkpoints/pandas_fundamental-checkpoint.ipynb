{
 "cells": [
  {
   "cell_type": "code",
   "execution_count": 1,
   "id": "92866299-cdbc-46e4-a6ca-bce5b87344a9",
   "metadata": {},
   "outputs": [],
   "source": [
    "import pandas as pd\n",
    "import numpy as np"
   ]
  },
  {
   "cell_type": "code",
   "execution_count": 3,
   "id": "9212bf5d",
   "metadata": {},
   "outputs": [
    {
     "name": "stdout",
     "output_type": "stream",
     "text": [
      "1.4.2\n"
     ]
    }
   ],
   "source": [
    "print(pd.__version__)\n",
    "# pandas两种常用的数据处理结构: Seris/DataFrame/Panel"
   ]
  },
  {
   "cell_type": "code",
   "execution_count": 17,
   "id": "353e34dc-4451-4b56-be3e-1a034d510dff",
   "metadata": {},
   "outputs": [
    {
     "name": "stdout",
     "output_type": "stream",
     "text": [
      "0     2\n",
      "1     0\n",
      "2    -4\n",
      "3    12\n",
      "dtype: int64\n",
      "[ 2  0 -4 12]\n",
      "RangeIndex(start=0, stop=4, step=1)\n",
      "a   -1.095419\n",
      "b   -1.000639\n",
      "c   -1.975648\n",
      "d   -0.075973\n",
      "e   -0.205036\n",
      "dtype: float64\n",
      "[-1.09541858 -1.00063879 -1.97564808 -0.07597274 -0.20503605]\n",
      "Index(['a', 'b', 'c', 'd', 'e'], dtype='object')\n",
      "A   -1.095419\n",
      "B   -1.000639\n",
      "C   -1.975648\n",
      "D   -0.075973\n",
      "E   -0.205036\n",
      "dtype: float64\n",
      "a    1\n",
      "b    2\n",
      "c    3\n",
      "d    4\n",
      "dtype: int64\n",
      "count    4.000000\n",
      "mean     2.500000\n",
      "std      1.290994\n",
      "min      1.000000\n",
      "25%      1.750000\n",
      "50%      2.500000\n",
      "75%      3.250000\n",
      "max      4.000000\n",
      "dtype: float64\n"
     ]
    }
   ],
   "source": [
    "# 1.1 series\n",
    "arr1 = pd.Series([2, 0, -4, 12])  # 创建一个Series对象,Series内部数据类型必须相同\n",
    "print(arr1)\n",
    "print(arr1.values)\n",
    "print(arr1.index)\n",
    "arr2 = pd.Series(np.random.randn(5), index = ['a', 'b', 'c', 'd', 'e'])  # 指定索引\n",
    "print(arr2)\n",
    "print(arr2.values)\n",
    "print(arr2.index)\n",
    "arr2.index = ['A', 'B', 'C', 'D', 'E']\n",
    "print(arr2)\n",
    "dict = {'a': 1, 'b': 2, 'c': 3, 'd': 4}\n",
    "print(pd.Series(dict))  # 使用字典生成时无需设置索引\n",
    "print(pd.Series(dict).describe())  # 对数值列进行统计"
   ]
  },
  {
   "cell_type": "code",
   "execution_count": 18,
   "id": "6b904715-6ac8-4c41-93df-3d4d5df877ce",
   "metadata": {},
   "outputs": [],
   "source": [
    "# 1.2 Series中的数据访问"
   ]
  },
  {
   "cell_type": "code",
   "execution_count": null,
   "id": "969b1b41-57ad-4698-8eba-47c7dc7e144f",
   "metadata": {},
   "outputs": [],
   "source": []
  }
 ],
 "metadata": {
  "kernelspec": {
   "display_name": "Python 3 (ipykernel)",
   "language": "python",
   "name": "python3"
  },
  "language_info": {
   "codemirror_mode": {
    "name": "ipython",
    "version": 3
   },
   "file_extension": ".py",
   "mimetype": "text/x-python",
   "name": "python",
   "nbconvert_exporter": "python",
   "pygments_lexer": "ipython3",
   "version": "3.9.12"
  }
 },
 "nbformat": 4,
 "nbformat_minor": 5
}
