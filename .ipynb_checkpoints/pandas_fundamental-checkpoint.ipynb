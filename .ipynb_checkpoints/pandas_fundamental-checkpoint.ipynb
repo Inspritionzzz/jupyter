{
 "cells": [
  {
   "cell_type": "code",
   "execution_count": 1,
   "id": "7884ab53",
   "metadata": {},
   "outputs": [],
   "source": [
    "import pandas as pd\n",
    "import numpy as np"
   ]
  },
  {
   "cell_type": "code",
   "execution_count": 2,
   "id": "9212bf5d",
   "metadata": {},
   "outputs": [],
   "source": [
    "index = pd.date_range('1/1/2000', periods=8)"
   ]
  },
  {
   "cell_type": "code",
   "execution_count": 3,
   "id": "ba992211",
   "metadata": {},
   "outputs": [],
   "source": [
    "s = pd.Series(np.random.randn(5), index=['a', 'b', 'c', 'd', 'e'])"
   ]
  },
  {
   "cell_type": "code",
   "execution_count": 4,
   "id": "45d56e84",
   "metadata": {},
   "outputs": [],
   "source": [
    "df = pd.DataFrame(np.random.randn(8, 3), index=index, columns=['A', 'B', 'C'])"
   ]
  },
  {
   "cell_type": "code",
   "execution_count": 5,
   "id": "221d1741",
   "metadata": {},
   "outputs": [],
   "source": [
    "long_series = pd.Series(np.random.randn(1000))"
   ]
  },
  {
   "cell_type": "code",
   "execution_count": 6,
   "id": "4f483d35",
   "metadata": {},
   "outputs": [
    {
     "data": {
      "text/plain": [
       "0   -0.988973\n",
       "1   -0.532088\n",
       "2    0.322871\n",
       "3   -0.298726\n",
       "4   -2.439255\n",
       "dtype: float64"
      ]
     },
     "execution_count": 6,
     "metadata": {},
     "output_type": "execute_result"
    }
   ],
   "source": [
    "long_series.head()"
   ]
  },
  {
   "cell_type": "code",
   "execution_count": 7,
   "id": "cd2a778c",
   "metadata": {},
   "outputs": [
    {
     "data": {
      "text/plain": [
       "997    0.299221\n",
       "998    0.071511\n",
       "999   -0.109535\n",
       "dtype: float64"
      ]
     },
     "execution_count": 7,
     "metadata": {},
     "output_type": "execute_result"
    }
   ],
   "source": [
    "long_series.tail(3)"
   ]
  },
  {
   "cell_type": "code",
   "execution_count": 8,
   "id": "df12e027",
   "metadata": {},
   "outputs": [
    {
     "name": "stdout",
     "output_type": "stream",
     "text": [
      "======================================\n"
     ]
    },
    {
     "data": {
      "text/plain": [
       "<bound method Series.info of a   -1.121165\n",
       "b    0.303608\n",
       "c    1.438664\n",
       "d    0.815773\n",
       "e   -1.312346\n",
       "dtype: float64>"
      ]
     },
     "execution_count": 8,
     "metadata": {},
     "output_type": "execute_result"
    }
   ],
   "source": [
    "print('======================================')\n",
    "s.info"
   ]
  },
  {
   "cell_type": "code",
   "execution_count": 12,
   "id": "c6ad2d40",
   "metadata": {},
   "outputs": [
    {
     "data": {
      "text/html": [
       "<script>\n",
       "\n",
       "code_show=true;\n",
       "\n",
       "function code_toggle() {\n",
       "\n",
       "if (code_show){\n",
       "\n",
       "$('div.input').hide();\n",
       "\n",
       "} else {\n",
       "\n",
       "$('div.input').show();\n",
       "\n",
       "}\n",
       "\n",
       "code_show = !code_show\n",
       "\n",
       "}\n",
       "\n",
       "$( document ).ready(code_toggle);\n",
       "\n",
       "</script>\n",
       "\n",
       "<form action=\"javascript:code_toggle()\"><input type=\"submit\" value=\"Click here to toggle on/off the raw code.\"></form>"
      ],
      "text/plain": [
       "<IPython.core.display.HTML object>"
      ]
     },
     "execution_count": 12,
     "metadata": {},
     "output_type": "execute_result"
    }
   ],
   "source": [
    "from IPython.display import HTML\n",
    "HTML('''<script>\n",
    "\n",
    "code_show=true;\n",
    "\n",
    "function code_toggle() {\n",
    "\n",
    "if (code_show){\n",
    "\n",
    "$('div.input').hide();\n",
    "\n",
    "} else {\n",
    "\n",
    "$('div.input').show();\n",
    "\n",
    "}\n",
    "\n",
    "code_show = !code_show\n",
    "\n",
    "}\n",
    "\n",
    "$( document ).ready(code_toggle);\n",
    "\n",
    "</script>\n",
    "\n",
    "<form action=\"javascript:code_toggle()\"><input type=\"submit\" value=\"Click here to toggle on/off the raw code.\"></form>''')"
   ]
  },
  {
   "cell_type": "code",
   "execution_count": null,
   "id": "600f3c94",
   "metadata": {},
   "outputs": [],
   "source": []
  }
 ],
 "metadata": {
  "kernelspec": {
   "display_name": "Python 3 (ipykernel)",
   "language": "python",
   "name": "python3"
  },
  "language_info": {
   "codemirror_mode": {
    "name": "ipython",
    "version": 3
   },
   "file_extension": ".py",
   "mimetype": "text/x-python",
   "name": "python",
   "nbconvert_exporter": "python",
   "pygments_lexer": "ipython3",
   "version": "3.9.12"
  }
 },
 "nbformat": 4,
 "nbformat_minor": 5
}
