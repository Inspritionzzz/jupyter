{
 "cells": [
  {
   "cell_type": "code",
   "execution_count": 2,
   "id": "45557cc9-c769-443c-8813-34329f45a6a8",
   "metadata": {},
   "outputs": [
    {
     "name": "stdout",
     "output_type": "stream",
     "text": [
      "Collecting jupyter-echarts-pypkg\n",
      "  Downloading jupyter-echarts-pypkg-0.1.5.tar.gz (3.7 kB)\n",
      "donetadata (setup.py) ... \u001b[?25l\n",
      "Collecting lml>=0.0.2 (from jupyter-echarts-pypkg)\n",
      "  Downloading lml-0.1.0-py2.py3-none-any.whl.metadata (7.6 kB)\n",
      "Collecting pyecharts-jupyter-installer==0.0.3 (from jupyter-echarts-pypkg)\n",
      "  Using cached pyecharts_jupyter_installer-0.0.3-py2.py3-none-any.whl.metadata (2.2 kB)\n",
      "Using cached pyecharts_jupyter_installer-0.0.3-py2.py3-none-any.whl (4.7 kB)\n",
      "Downloading lml-0.1.0-py2.py3-none-any.whl (10 kB)\n",
      "Building wheels for collected packages: jupyter-echarts-pypkg\n",
      "erroreel for jupyter-echarts-pypkg (setup.py) ... \u001b[?25l\n",
      "  \u001b[1;31merror\u001b[0m: \u001b[1msubprocess-exited-with-error\u001b[0m\n",
      "  \n",
      "  \u001b[31m×\u001b[0m \u001b[32mpython setup.py bdist_wheel\u001b[0m did not run successfully.\n",
      "  \u001b[31m│\u001b[0m exit code: \u001b[1;36m1\u001b[0m\n",
      "  \u001b[31m╰─>\u001b[0m \u001b[31m[47 lines of output]\u001b[0m\n",
      "  \u001b[31m   \u001b[0m /Users/jason/anaconda3/lib/python3.11/site-packages/setuptools/_distutils/dist.py:268: UserWarning: Unknown distribution option: 'tests_require'\n",
      "  \u001b[31m   \u001b[0m   warnings.warn(msg)\n",
      "  \u001b[31m   \u001b[0m running bdist_wheel\n",
      "  \u001b[31m   \u001b[0m running build\n",
      "  \u001b[31m   \u001b[0m running build_py\n",
      "  \u001b[31m   \u001b[0m creating build\n",
      "  \u001b[31m   \u001b[0m creating build/lib\n",
      "  \u001b[31m   \u001b[0m creating build/lib/jupyter_echarts_pypkg\n",
      "  \u001b[31m   \u001b[0m copying jupyter_echarts_pypkg/_version.py -> build/lib/jupyter_echarts_pypkg\n",
      "  \u001b[31m   \u001b[0m copying jupyter_echarts_pypkg/__init__.py -> build/lib/jupyter_echarts_pypkg\n",
      "  \u001b[31m   \u001b[0m running egg_info\n",
      "  \u001b[31m   \u001b[0m writing jupyter_echarts_pypkg.egg-info/PKG-INFO\n",
      "  \u001b[31m   \u001b[0m writing dependency_links to jupyter_echarts_pypkg.egg-info/dependency_links.txt\n",
      "  \u001b[31m   \u001b[0m writing requirements to jupyter_echarts_pypkg.egg-info/requires.txt\n",
      "  \u001b[31m   \u001b[0m writing top-level names to jupyter_echarts_pypkg.egg-info/top_level.txt\n",
      "  \u001b[31m   \u001b[0m reading manifest file 'jupyter_echarts_pypkg.egg-info/SOURCES.txt'\n",
      "  \u001b[31m   \u001b[0m reading manifest template 'MANIFEST.in'\n",
      "  \u001b[31m   \u001b[0m warning: no files found matching 'jupyter_echarts_pypkg/resources/echarts/*.js'\n",
      "  \u001b[31m   \u001b[0m warning: no files found matching 'jupyter_echarts_pypkg/resources/registry.json'\n",
      "  \u001b[31m   \u001b[0m writing manifest file 'jupyter_echarts_pypkg.egg-info/SOURCES.txt'\n",
      "  \u001b[31m   \u001b[0m /Users/jason/anaconda3/lib/python3.11/site-packages/setuptools/_distutils/cmd.py:66: SetuptoolsDeprecationWarning: setup.py install is deprecated.\n",
      "  \u001b[31m   \u001b[0m !!\n",
      "  \u001b[31m   \u001b[0m \n",
      "  \u001b[31m   \u001b[0m         ********************************************************************************\n",
      "  \u001b[31m   \u001b[0m         Please avoid running ``setup.py`` directly.\n",
      "  \u001b[31m   \u001b[0m         Instead, use pypa/build, pypa/installer or other\n",
      "  \u001b[31m   \u001b[0m         standards-based tools.\n",
      "  \u001b[31m   \u001b[0m \n",
      "  \u001b[31m   \u001b[0m         See https://blog.ganssle.io/articles/2021/10/setup-py-deprecated.html for details.\n",
      "  \u001b[31m   \u001b[0m         ********************************************************************************\n",
      "  \u001b[31m   \u001b[0m \n",
      "  \u001b[31m   \u001b[0m !!\n",
      "  \u001b[31m   \u001b[0m   self.initialize_options()\n",
      "  \u001b[31m   \u001b[0m installing to build/bdist.macosx-11.1-arm64/wheel\n",
      "  \u001b[31m   \u001b[0m running install\n",
      "  \u001b[31m   \u001b[0m Installing pyecharts module...\n",
      "  \u001b[31m   \u001b[0m running install_lib\n",
      "  \u001b[31m   \u001b[0m creating build/bdist.macosx-11.1-arm64\n",
      "  \u001b[31m   \u001b[0m creating build/bdist.macosx-11.1-arm64/wheel\n",
      "  \u001b[31m   \u001b[0m creating build/bdist.macosx-11.1-arm64/wheel/jupyter_echarts_pypkg\n",
      "  \u001b[31m   \u001b[0m copying build/lib/jupyter_echarts_pypkg/_version.py -> build/bdist.macosx-11.1-arm64/wheel/jupyter_echarts_pypkg\n",
      "  \u001b[31m   \u001b[0m copying build/lib/jupyter_echarts_pypkg/__init__.py -> build/bdist.macosx-11.1-arm64/wheel/jupyter_echarts_pypkg\n",
      "  \u001b[31m   \u001b[0m running install_egg_info\n",
      "  \u001b[31m   \u001b[0m Copying jupyter_echarts_pypkg.egg-info to build/bdist.macosx-11.1-arm64/wheel/jupyter_echarts_pypkg-0.1.5-py3.11.egg-info\n",
      "  \u001b[31m   \u001b[0m running install_scripts\n",
      "  \u001b[31m   \u001b[0m Installing javascript extensions jupyter-echarts ...\n",
      "  \u001b[31m   \u001b[0m error: [Errno 2] No such file or directory: 'jupyter_echarts_pypkg/resources/echarts/../registry.json'\n",
      "  \u001b[31m   \u001b[0m \u001b[31m[end of output]\u001b[0m\n",
      "  \n",
      "  \u001b[1;35mnote\u001b[0m: This error originates from a subprocess, and is likely not a problem with pip.\n",
      "\u001b[31m  ERROR: Failed building wheel for jupyter-echarts-pypkg\u001b[0m\u001b[31m\n",
      "\u001b[0m\u001b[?25h  Running setup.py clean for jupyter-echarts-pypkg\n",
      "Failed to build jupyter-echarts-pypkg\n",
      "\u001b[31mERROR: Failed to build installable wheels for some pyproject.toml based projects (jupyter-echarts-pypkg)\u001b[0m\u001b[31m\n",
      "\u001b[0m"
     ]
    }
   ],
   "source": [
    "# !pip uninstall diagram\n",
    "# !pip install diagrams\n",
    "# !pip install windows-curses"
   ]
  },
  {
   "cell_type": "code",
   "execution_count": 1,
   "id": "4c72d182-8e58-40dd-80b9-ede69f51cd3f",
   "metadata": {},
   "outputs": [
    {
     "name": "stdout",
     "output_type": "stream",
     "text": [
      "Defaulting to user installation because normal site-packages is not writeable\n",
      "Requirement already satisfied: ipython-sql in c:\\users\\chengyu\\appdata\\roaming\\python\\python312\\site-packages (0.5.0)\n",
      "Requirement already satisfied: prettytable in d:\\programdata\\anaconda3\\lib\\site-packages (from ipython-sql) (3.14.0)\n",
      "Requirement already satisfied: ipython in d:\\programdata\\anaconda3\\lib\\site-packages (from ipython-sql) (8.27.0)\n",
      "Requirement already satisfied: sqlalchemy>=2.0 in d:\\programdata\\anaconda3\\lib\\site-packages (from ipython-sql) (2.0.34)\n",
      "Requirement already satisfied: sqlparse in c:\\users\\chengyu\\appdata\\roaming\\python\\python312\\site-packages (from ipython-sql) (0.5.3)\n",
      "Requirement already satisfied: six in d:\\programdata\\anaconda3\\lib\\site-packages (from ipython-sql) (1.16.0)\n",
      "Requirement already satisfied: ipython-genutils in d:\\programdata\\anaconda3\\lib\\site-packages (from ipython-sql) (0.2.0)\n",
      "Requirement already satisfied: typing-extensions>=4.6.0 in d:\\programdata\\anaconda3\\lib\\site-packages (from sqlalchemy>=2.0->ipython-sql) (4.11.0)\n",
      "Requirement already satisfied: greenlet!=0.4.17 in d:\\programdata\\anaconda3\\lib\\site-packages (from sqlalchemy>=2.0->ipython-sql) (3.0.1)\n",
      "Requirement already satisfied: decorator in d:\\programdata\\anaconda3\\lib\\site-packages (from ipython->ipython-sql) (5.1.1)\n",
      "Requirement already satisfied: jedi>=0.16 in d:\\programdata\\anaconda3\\lib\\site-packages (from ipython->ipython-sql) (0.19.1)\n",
      "Requirement already satisfied: matplotlib-inline in d:\\programdata\\anaconda3\\lib\\site-packages (from ipython->ipython-sql) (0.1.6)\n",
      "Requirement already satisfied: prompt-toolkit<3.1.0,>=3.0.41 in d:\\programdata\\anaconda3\\lib\\site-packages (from ipython->ipython-sql) (3.0.43)\n",
      "Requirement already satisfied: pygments>=2.4.0 in d:\\programdata\\anaconda3\\lib\\site-packages (from ipython->ipython-sql) (2.15.1)\n",
      "Requirement already satisfied: stack-data in d:\\programdata\\anaconda3\\lib\\site-packages (from ipython->ipython-sql) (0.2.0)\n",
      "Requirement already satisfied: traitlets>=5.13.0 in d:\\programdata\\anaconda3\\lib\\site-packages (from ipython->ipython-sql) (5.14.3)\n",
      "Requirement already satisfied: colorama in d:\\programdata\\anaconda3\\lib\\site-packages (from ipython->ipython-sql) (0.4.6)\n",
      "Requirement already satisfied: wcwidth in d:\\programdata\\anaconda3\\lib\\site-packages (from prettytable->ipython-sql) (0.2.5)\n",
      "Requirement already satisfied: parso<0.9.0,>=0.8.3 in d:\\programdata\\anaconda3\\lib\\site-packages (from jedi>=0.16->ipython->ipython-sql) (0.8.3)\n",
      "Requirement already satisfied: executing in d:\\programdata\\anaconda3\\lib\\site-packages (from stack-data->ipython->ipython-sql) (0.8.3)\n",
      "Requirement already satisfied: asttokens in d:\\programdata\\anaconda3\\lib\\site-packages (from stack-data->ipython->ipython-sql) (2.0.5)\n",
      "Requirement already satisfied: pure-eval in d:\\programdata\\anaconda3\\lib\\site-packages (from stack-data->ipython->ipython-sql) (0.2.2)\n"
     ]
    }
   ],
   "source": [
    "!pip install ipython-sql\n",
    "# !pip install psycopg\n",
    "# !pip install psycopg2"
   ]
  },
  {
   "cell_type": "code",
   "execution_count": null,
   "id": "54845d22-3bdc-4de7-b1f3-0237feb945f5",
   "metadata": {},
   "outputs": [],
   "source": []
  }
 ],
 "metadata": {
  "kernelspec": {
   "display_name": "Python 3 (ipykernel)",
   "language": "python",
   "name": "python3"
  },
  "language_info": {
   "codemirror_mode": {
    "name": "ipython",
    "version": 3
   },
   "file_extension": ".py",
   "mimetype": "text/x-python",
   "name": "python",
   "nbconvert_exporter": "python",
   "pygments_lexer": "ipython3",
   "version": "3.12.7"
  }
 },
 "nbformat": 4,
 "nbformat_minor": 5
}
