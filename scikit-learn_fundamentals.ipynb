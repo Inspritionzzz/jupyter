{
 "cells": [
  {
   "cell_type": "code",
   "execution_count": 1,
   "id": "c7f3e980-0342-4ac0-ada2-6d5bd36b83ff",
   "metadata": {},
   "outputs": [
    {
     "name": "stdout",
     "output_type": "stream",
     "text": [
      "[[ 0.  0.  5. 13.  9.  1.  0.  0.]\n",
      " [ 0.  0. 13. 15. 10. 15.  5.  0.]\n",
      " [ 0.  3. 15.  2.  0. 11.  8.  0.]\n",
      " [ 0.  4. 12.  0.  0.  8.  8.  0.]\n",
      " [ 0.  5.  8.  0.  0.  9.  8.  0.]\n",
      " [ 0.  4. 11.  0.  1. 12.  7.  0.]\n",
      " [ 0.  2. 14.  5. 10. 12.  0.  0.]\n",
      " [ 0.  0.  6. 13. 10.  0.  0.  0.]]\n",
      "\n",
      "手写数字为： 0\n"
     ]
    },
    {
     "data": {
      "image/png": "[encoded data removed]",
      "text/plain": [
       "<Figure size 432x288 with 1 Axes>"
      ]
     },
     "metadata": {
      "needs_background": "light"
     },
     "output_type": "display_data"
    }
   ],
   "source": [
    "import matplotlib.pyplot as plt\n",
    "from sklearn import datasets\n",
    "\n",
    "# 导入数据集合\n",
    "digits = datasets.load_digits()\n",
    "digital = digits.images[0]\n",
    "label = digits.target[0]\n",
    "\n",
    "#显示数字的矩阵形式\n",
    "print(digital)\n",
    "#显示数字的图片形式\n",
    "print(\"\\n手写数字为：\", label)\n",
    "plt.axis('off')\n",
    "plt.imshow(digital, cmap = plt.get_cmap('gray_r'))\n",
    "plt.show() "
   ]
  },
  {
   "cell_type": "code",
   "execution_count": 2,
   "id": "0ef13e60-ccae-40e2-b2e7-8122ab2df167",
   "metadata": {},
   "outputs": [],
   "source": [
    "# 机器学习算法分类\n",
    "# 1. 监督学习：所有的监督学习基本都是分类的代名词\n",
    "# 2. 非监督学习：本质上是聚类的近义词,比如K均值据类(K-Means Clustering),c层次聚类,主成分分析(PCA)等\n",
    "# 3. 半监督学习：以标签化的分类信息,通过据类思想将未知事物归类为已知事物,如半监督支持向量机,半监督聚类等"
   ]
  },
  {
   "cell_type": "code",
   "execution_count": 3,
   "id": "a1964e9f-36db-4af7-8161-3136d69e1fa8",
   "metadata": {},
   "outputs": [],
   "source": [
    "# 性能评估\n",
    "# 1.过拟合和欠拟合\n",
    "# 2.二分类的混淆矩阵：TP FP TN FN 查全率(R) = TP / TP + FN    查准率(P) = TP / TP + FP\n",
    "# 3.F1分数：F1 = 2 * (P * R) / (P + R) \n",
    "# 4.P-R曲线：平衡点(BEP)\n",
    "# 5.ROC曲线: FPR = FP / N    TPR = TP / P\n",
    "# 6.AUC:沿ROC曲线的横轴做积分,通常取值0.5-1,AUC越大表明分类器性能越好"
   ]
  },
  {
   "cell_type": "code",
   "execution_count": 4,
   "id": "18bf9445-7065-4809-a575-a7bae121e461",
   "metadata": {},
   "outputs": [],
   "source": [
    "# sklearn\n",
    "# 1.流程\n",
    "# 1.1数据处理,如归一化,标准化,正则化,属性缩放,特征编码,插补缺失值,生成多项式特征\n",
    "# 1.2分割数据,训练集 验证集(可选),测试集\n",
    "# 1.3训练模型,选取特征构建模型\n",
    "# 1.4验证模型\n",
    "# 1.5测试模型\n",
    "# 1.6使用模型\n",
    "# 1.7模型调优\n",
    "\n",
    "# 2. 功能分类：\n",
    "# 2.1分类(定性输出)：SVM,Logistic回归,随机森林,决策树,多层感知器(MLP)等 \n",
    "# 2.2回归(定量输出)：线性回归,SVR,Lasso回归,贝叶斯回归等\n",
    "# 2.3聚类：k均值聚类,谱聚类,均值飘移等 \n",
    "# 2.4数据降维：PCA,特征选择,非矩阵分解等\n",
    "# 2.5模型选择：模型度量(metrics),网格搜索(grid search),交叉验证(cross validation) \n",
    "# 2.6数据预处理：数据预处理(preprocessing),特征抽取(feature extraction)"
   ]
  },
  {
   "cell_type": "code",
   "execution_count": 5,
   "id": "57a98907-b254-4622-8ec1-ba3371734a89",
   "metadata": {},
   "outputs": [
    {
     "name": "stdout",
     "output_type": "stream",
     "text": [
      ".. _boston_dataset:\n",
      "\n",
      "Boston house prices dataset\n",
      "---------------------------\n",
      "\n",
      "**Data Set Characteristics:**  \n",
      "\n",
      "    :Number of Instances: 506 \n",
      "\n",
      "    :Number of Attributes: 13 numeric/categorical predictive. Median Value (attribute 14) is usually the target.\n",
      "\n",
      "    :Attribute Information (in order):\n",
      "        - CRIM     per capita crime rate by town\n",
      "        - ZN       proportion of residential land zoned for lots over 25,000 sq.ft.\n",
      "        - INDUS    proportion of non-retail business acres per town\n",
      "        - CHAS     Charles River dummy variable (= 1 if tract bounds river; 0 otherwise)\n",
      "        - NOX      nitric oxides concentration (parts per 10 million)\n",
      "        - RM       average number of rooms per dwelling\n",
      "        - AGE      proportion of owner-occupied units built prior to 1940\n",
      "        - DIS      weighted distances to five Boston employment centres\n",
      "        - RAD      index of accessibility to radial highways\n",
      "        - TAX      full-value property-tax rate per $10,000\n",
      "        - PTRATIO  pupil-teacher ratio by town\n",
      "        - B        1000(Bk - 0.63)^2 where Bk is the proportion of black people by town\n",
      "        - LSTAT    % lower status of the population\n",
      "        - MEDV     Median value of owner-occupied homes in $1000's\n",
      "\n",
      "    :Missing Attribute Values: None\n",
      "\n",
      "    :Creator: Harrison, D. and Rubinfeld, D.L.\n",
      "\n",
      "This is a copy of UCI ML housing dataset.\n",
      "https://archive.ics.uci.edu/ml/machine-learning-databases/housing/\n",
      "\n",
      "\n",
      "This dataset was taken from the StatLib library which is maintained at Carnegie Mellon University.\n",
      "\n",
      "The Boston house-price data of Harrison, D. and Rubinfeld, D.L. 'Hedonic\n",
      "prices and the demand for clean air', J. Environ. Economics & Management,\n",
      "vol.5, 81-102, 1978.   Used in Belsley, Kuh & Welsch, 'Regression diagnostics\n",
      "...', Wiley, 1980.   N.B. Various transformations are used in the table on\n",
      "pages 244-261 of the latter.\n",
      "\n",
      "The Boston house-price data has been used in many machine learning papers that address regression\n",
      "problems.   \n",
      "     \n",
      ".. topic:: References\n",
      "\n",
      "   - Belsley, Kuh & Welsch, 'Regression diagnostics: Identifying Influential Data and Sources of Collinearity', Wiley, 1980. 244-261.\n",
      "   - Quinlan,R. (1993). Combining Instance-Based and Model-Based Learning. In Proceedings on the Tenth International Conference of Machine Learning, 236-243, University of Massachusetts, Amherst. Morgan Kaufmann.\n",
      "\n"
     ]
    },
    {
     "name": "stderr",
     "output_type": "stream",
     "text": [
      "D:\\anaconda\\lib\\site-packages\\sklearn\\utils\\deprecation.py:87: FutureWarning: Function load_boston is deprecated; `load_boston` is deprecated in 1.0 and will be removed in 1.2.\n",
      "\n",
      "    The Boston housing prices dataset has an ethical problem. You can refer to\n",
      "    the documentation of this function for further details.\n",
      "\n",
      "    The scikit-learn maintainers therefore strongly discourage the use of this\n",
      "    dataset unless the purpose of the code is to study and educate about\n",
      "    ethical issues in data science and machine learning.\n",
      "\n",
      "    In this special case, you can fetch the dataset from the original\n",
      "    source::\n",
      "\n",
      "        import pandas as pd\n",
      "        import numpy as np\n",
      "\n",
      "\n",
      "        data_url = \"http://lib.stat.cmu.edu/datasets/boston\"\n",
      "        raw_df = pd.read_csv(data_url, sep=\"\\s+\", skiprows=22, header=None)\n",
      "        data = np.hstack([raw_df.values[::2, :], raw_df.values[1::2, :2]])\n",
      "        target = raw_df.values[1::2, 2]\n",
      "\n",
      "    Alternative datasets include the California housing dataset (i.e.\n",
      "    :func:`~sklearn.datasets.fetch_california_housing`) and the Ames housing\n",
      "    dataset. You can load the datasets as follows::\n",
      "\n",
      "        from sklearn.datasets import fetch_california_housing\n",
      "        housing = fetch_california_housing()\n",
      "\n",
      "    for the California housing dataset and::\n",
      "\n",
      "        from sklearn.datasets import fetch_openml\n",
      "        housing = fetch_openml(name=\"house_prices\", as_frame=True)\n",
      "\n",
      "    for the Ames housing dataset.\n",
      "    \n",
      "  warnings.warn(msg, category=FutureWarning)\n"
     ]
    },
    {
     "data": {
      "text/plain": [
       "'boston_house_prices.csv'"
      ]
     },
     "execution_count": 5,
     "metadata": {},
     "output_type": "execute_result"
    }
   ],
   "source": [
    "# 1. 线性回归\n",
    "# 1.1 数据集信息查看\n",
    "import sklearn\n",
    "from sklearn.datasets import load_boston\n",
    "sklearn.__version__\n",
    "boston = load_boston()\n",
    "boston.keys()\n",
    "boston.data\n",
    "boston.data[0, 2]\n",
    "boston.data.shape\n",
    "# boston.data.shape[0]\n",
    "# boston.data.shape[1]\n",
    "boston.target\n",
    "boston.feature_names\n",
    "print(boston.DESCR)  # 特征信息描述\n",
    "boston.filename"
   ]
  },
  {
   "cell_type": "code",
   "execution_count": 6,
   "id": "aeb83e93-0ab3-481f-b032-c01acf8fe984",
   "metadata": {},
   "outputs": [
    {
     "name": "stdout",
     "output_type": "stream",
     "text": [
      "(354, 13)\n",
      "(152, 13)\n",
      "(354,)\n",
      "(152,)\n"
     ]
    }
   ],
   "source": [
    "# 1.2 使用pandas处理数据\n",
    "import pandas as pd\n",
    "from sklearn.model_selection import train_test_split\n",
    "bos = pd.DataFrame(boston.data)\n",
    "bos.head()\n",
    "bos.columns = boston.feature_names  # 添加特征名称,sklearn默认是吧特征和标签分开存储的\n",
    "bos.head()\n",
    "bos['PRICE'] = boston.target\n",
    "bos.head()\n",
    "x = bos.drop('PRICE', axis=1)  # 把PRICE列删除,将剩余特征赋值给x\n",
    "y = bos['PRICE']  # 把PRICE列赋给y\n",
    "# x = boston.data  # sklearn自带数据集可以采用简写形式\n",
    "# y = boston.target\n",
    "X_train, X_test, y_train, y_test = train_test_split(x, y, test_size=0.3, random_state=0)\n",
    "print(X_train.shape)\n",
    "print(X_test.shape)\n",
    "print(y_train.shape)\n",
    "print(y_test.shape)"
   ]
  },
  {
   "cell_type": "code",
   "execution_count": 7,
   "id": "bb9c26ed-000f-4fce-a100-9c1371f854fd",
   "metadata": {},
   "outputs": [
    {
     "name": "stdout",
     "output_type": "stream",
     "text": [
      "w0 =  37.937107741833316\n",
      "W =  [-1.21310401e-01  4.44664254e-02  1.13416945e-02  2.51124642e+00\n",
      " -1.62312529e+01  3.85906801e+00 -9.98516565e-03 -1.50026956e+00\n",
      "  2.42143466e-01 -1.10716124e-02 -1.01775264e+00  6.81446545e-03\n",
      " -4.86738066e-01]\n",
      "w0 = 37.937\n",
      "W = [ -0.121   0.044   0.011   2.511 -16.231   3.859  -0.01   -1.5     0.242\n",
      "  -0.011  -1.018   0.007  -0.487]\n"
     ]
    }
   ],
   "source": [
    "# 1.3 构建回归模型\n",
    "import numpy as np\n",
    "from sklearn.linear_model import LinearRegression  # 导入模型\n",
    "LR = LinearRegression()  # 生成模型\n",
    "LR.fit(X_train, y_train)  # 训练模型\n",
    "y_pred = LR.predict(X_test)  # 模型预测\n",
    "print(\"w0 = \", LR.intercept_)  # 输出截距\n",
    "print(\"W = \", LR.coef_)\n",
    "np.set_printoptions(precision=3, suppress=True)\n",
    "print('w0 = {0:.3f}'.format(LR.intercept_))  # 使用numpy改变输出格式\n",
    "print('W = {}'.format(LR.coef_))"
   ]
  },
  {
   "cell_type": "code",
   "execution_count": 8,
   "id": "77c136cb-ee1e-4ef9-92b3-532584b8c20c",
   "metadata": {},
   "outputs": [
    {
     "data": {
      "image/png": "[encoded data removed]",
      "text/plain": [
       "<Figure size 432x288 with 1 Axes>"
      ]
     },
     "metadata": {
      "needs_background": "light"
     },
     "output_type": "display_data"
    },
    {
     "data": {
      "image/png": "[encoded data removed]",
      "text/plain": [
       "<Figure size 360x360 with 1 Axes>"
      ]
     },
     "metadata": {
      "needs_background": "light"
     },
     "output_type": "display_data"
    }
   ],
   "source": [
    "# 1.4 绘制预测结果\n",
    "import matplotlib.pyplot as plt\n",
    "import seaborn as sns\n",
    "\n",
    "plt.scatter(y_test, y_pred)\n",
    "plt.xlabel(\"Price: $Y_i$\")\n",
    "plt.ylabel(\"Predicted prices: $\\hat{Y}_i$\")  # 添加laTeX公式标签\n",
    "plt.title(\"Prices vs Predicted prices: $Y_i$ vs $\\hat{Y}_i$\")\n",
    "plt.grid()\n",
    "x = np.arange(0, 50)\n",
    "y = x\n",
    "plt.plot(x, y, color='red', lw=4)\n",
    "plt.text(30, 40, \"predict line\")\n",
    "plt.savefig(\"price.eps\")\n",
    "\n",
    "# 构造DataFrame数据集\n",
    "data = pd.concat([pd.Series(y_test.values), pd.Series(y_pred)], axis=1)\n",
    "data.columns = ['实际房价', '预测房价']\n",
    "# 解决中文显示问题\n",
    "plt.rcParams['font.sans-serif'] = ['SimHei']\n",
    "sns.lmplot(x='实际房价', y='预测房价', data=data)\n",
    "plt.show()"
   ]
  },
  {
   "cell_type": "code",
   "execution_count": 9,
   "id": "e94538a5-d960-495f-af7b-62de48900ba2",
   "metadata": {},
   "outputs": [
    {
     "name": "stdout",
     "output_type": "stream",
     "text": [
      "27.19596576688338\n"
     ]
    },
    {
     "data": {
      "text/html": [
       "<div>\n",
       "<style scoped>\n",
       "    .dataframe tbody tr th:only-of-type {\n",
       "        vertical-align: middle;\n",
       "    }\n",
       "\n",
       "    .dataframe tbody tr th {\n",
       "        vertical-align: top;\n",
       "    }\n",
       "\n",
       "    .dataframe thead th {\n",
       "        text-align: right;\n",
       "    }\n",
       "</style>\n",
       "<table border=\"1\" class=\"dataframe\">\n",
       "  <thead>\n",
       "    <tr style=\"text-align: right;\">\n",
       "      <th></th>\n",
       "      <th>实际房价</th>\n",
       "      <th>预测房价</th>\n",
       "    </tr>\n",
       "  </thead>\n",
       "  <tbody>\n",
       "    <tr>\n",
       "      <th>329</th>\n",
       "      <td>22.6</td>\n",
       "      <td>24.935708</td>\n",
       "    </tr>\n",
       "    <tr>\n",
       "      <th>371</th>\n",
       "      <td>50.0</td>\n",
       "      <td>23.751632</td>\n",
       "    </tr>\n",
       "    <tr>\n",
       "      <th>219</th>\n",
       "      <td>23.0</td>\n",
       "      <td>29.326383</td>\n",
       "    </tr>\n",
       "    <tr>\n",
       "      <th>403</th>\n",
       "      <td>8.3</td>\n",
       "      <td>11.975346</td>\n",
       "    </tr>\n",
       "    <tr>\n",
       "      <th>78</th>\n",
       "      <td>21.2</td>\n",
       "      <td>21.372725</td>\n",
       "    </tr>\n",
       "    <tr>\n",
       "      <th>...</th>\n",
       "      <td>...</td>\n",
       "      <td>...</td>\n",
       "    </tr>\n",
       "    <tr>\n",
       "      <th>4</th>\n",
       "      <td>36.2</td>\n",
       "      <td>27.811077</td>\n",
       "    </tr>\n",
       "    <tr>\n",
       "      <th>428</th>\n",
       "      <td>11.0</td>\n",
       "      <td>14.506816</td>\n",
       "    </tr>\n",
       "    <tr>\n",
       "      <th>385</th>\n",
       "      <td>7.2</td>\n",
       "      <td>7.573699</td>\n",
       "    </tr>\n",
       "    <tr>\n",
       "      <th>308</th>\n",
       "      <td>22.8</td>\n",
       "      <td>28.334807</td>\n",
       "    </tr>\n",
       "    <tr>\n",
       "      <th>5</th>\n",
       "      <td>28.7</td>\n",
       "      <td>25.043412</td>\n",
       "    </tr>\n",
       "  </tbody>\n",
       "</table>\n",
       "<p>152 rows × 2 columns</p>\n",
       "</div>"
      ],
      "text/plain": [
       "     实际房价       预测房价\n",
       "329  22.6  24.935708\n",
       "371  50.0  23.751632\n",
       "219  23.0  29.326383\n",
       "403   8.3  11.975346\n",
       "78   21.2  21.372725\n",
       "..    ...        ...\n",
       "4    36.2  27.811077\n",
       "428  11.0  14.506816\n",
       "385   7.2   7.573699\n",
       "308  22.8  28.334807\n",
       "5    28.7  25.043412\n",
       "\n",
       "[152 rows x 2 columns]"
      ]
     },
     "execution_count": 9,
     "metadata": {},
     "output_type": "execute_result"
    }
   ],
   "source": [
    "# 1.5 预测效果评价\n",
    "from sklearn import metrics\n",
    "mse = metrics.mean_squared_error(y_test, y_pred)\n",
    "print(mse)\n",
    "df = pd.DataFrame({'实际房价': y_test, '预测房价': y_pred})\n",
    "df"
   ]
  },
  {
   "cell_type": "code",
   "execution_count": 10,
   "id": "5dd7d435-61f8-4372-9741-948b84ccd540",
   "metadata": {},
   "outputs": [
    {
     "name": "stdout",
     "output_type": "stream",
     "text": [
      "-6 24\n",
      "[0.4   0.267 1.    0.    0.533]\n"
     ]
    },
    {
     "data": {
      "text/plain": [
       "array([[0.4  , 0.267, 1.   , 0.   , 0.533]])"
      ]
     },
     "execution_count": 10,
     "metadata": {},
     "output_type": "execute_result"
    }
   ],
   "source": [
    "# 2. k邻近算法\n",
    "# 2.1 特征数据归一化\n",
    "import numpy as np\n",
    "from sklearn.preprocessing import MinMaxScaler\n",
    "X_train = np.array([6, 2, 24, -6, 10])\n",
    "X_min, X_max = X_train.min(), X_train.max()\n",
    "print(X_min, X_max)\n",
    "X_nomal = (X_train - X_min) / (X_max - X_min)  # 求归一化矩阵\n",
    "print(X_nomal)\n",
    "\n",
    "X_train = np.array([[6, 2, 24, -6, 10]]).reshape(-1, 1)\n",
    "# X_train = np.array([[6, 2, 24, -6, 10]]).T\n",
    "X_std = (X_train - X_train.min(axis=0)) / (X_train.max(axis=0) - X_train.min(axis=0))\n",
    "min_max_scaler = MinMaxScaler()\n",
    "min_max_scaler.fit(X_train)\n",
    "min_max_scaler.transform(X_train)\n",
    "min_max_scaler.transform(X_train).T"
   ]
  },
  {
   "cell_type": "code",
   "execution_count": 11,
   "id": "c32c3954-9437-4129-a3dd-2159e18629fa",
   "metadata": {},
   "outputs": [
    {
     "name": "stdout",
     "output_type": "stream",
     "text": [
      "训练集合的准确率为: 97.14%\n",
      "测试集合的准确率为: 93.33%\n",
      "KNeighborsClassifier(n_neighbors=3)\n"
     ]
    }
   ],
   "source": [
    "# 2.2 邻近距离的度量\n",
    "from sklearn.model_selection import train_test_split\n",
    "from sklearn.datasets import load_iris\n",
    "\n",
    "iris = load_iris()\n",
    "X = iris.data\n",
    "y = iris.target\n",
    "# 分割数据\n",
    "X_train, X_test, y_train, y_test=train_test_split(X, y, test_size=0.3, random_state=123)\n",
    "# 选择模型\n",
    "from sklearn.neighbors import KNeighborsClassifier\n",
    "# 生成模型对象\n",
    "knn = KNeighborsClassifier(n_neighbors=3)\n",
    "# 数据拟合(训练模型)\n",
    "knn.fit(X,y)\n",
    "# 模型预测\n",
    "# 单个数据预测\n",
    "knn.predict([[4, 3, 5, 3]])  #输出array([2])\n",
    "# 大集合据预测\n",
    "y_predict_on_train = knn.predict(X_train)\n",
    "y_predict_on_test = knn.predict(X_test)\n",
    "# 模型评估\n",
    "from sklearn.metrics import accuracy_score\n",
    "print('训练集合的准确率为: {:.2f}%'.format(100 * accuracy_score(y_train, y_predict_on_train)))\n",
    "print('测试集合的准确率为: {:.2f}%'.format(100 * accuracy_score(y_test, y_predict_on_test )))\n",
    "print(knn)  # 分类器参数"
   ]
  },
  {
   "cell_type": "code",
   "execution_count": 12,
   "id": "ccb3358d-a510-4e09-a241-f24e0559d2e4",
   "metadata": {},
   "outputs": [
    {
     "name": "stdout",
     "output_type": "stream",
     "text": [
      "[[98  9]\n",
      " [18 29]]\n",
      "准确率:0.82\n",
      "查准率:0.76\n",
      "查全率:0.62\n"
     ]
    },
    {
     "data": {
      "image/png": "[encoded data removed]",
      "text/plain": [
       "<Figure size 900x600 with 1 Axes>"
      ]
     },
     "metadata": {
      "needs_background": "light"
     },
     "output_type": "display_data"
    }
   ],
   "source": [
    "# 3. Logic回归\n",
    "# 导入数据\n",
    "import pandas as pd\n",
    "col_names = ['pregnant', 'glucose', 'bp', 'skin', 'insulin', 'bmi', 'pedigree', 'age', 'label']\n",
    "# load dataset\n",
    "pima = pd.read_csv(\"datasets/diabetes.csv\", header=None, names=col_names)\n",
    "\n",
    "#（2）分割特征和目标变量\n",
    "feature_cols = ['pregnant', 'insulin', 'bmi', 'age','glucose','bp','pedigree']\n",
    "X = pima[feature_cols] # 特征\n",
    "y = pima.label # 目标\n",
    "# 分割数据\n",
    "from sklearn.model_selection import train_test_split\n",
    "X_train,X_test,y_train,y_test=train_test_split(X,y,test_size=0.2,random_state=0)\n",
    "\n",
    "# 模型选择和训练\n",
    "from sklearn.linear_model import LogisticRegression\n",
    "\n",
    "# instantiate the model (using the default parameters)\n",
    "logreg = LogisticRegression(solver='newton-cg')\n",
    "\n",
    "# fit the model with data\n",
    "logreg.fit(X_train,y_train)\n",
    "y_pred = logreg.predict(X_test)\n",
    "\n",
    "# 使用混淆矩阵来评估模型\n",
    "from sklearn import metrics\n",
    "cnf_matrix = metrics.confusion_matrix(y_test, y_pred)\n",
    "print(cnf_matrix)\n",
    "\n",
    "# 输出性能\n",
    "print(\"准确率:{:.2f}\".format(metrics.accuracy_score(y_test, y_pred)))\n",
    "print(\"查准率:{:.2f}\".format(metrics.precision_score(y_test, y_pred)))\n",
    "print(\"查全率:{:.2f}\".format(metrics.recall_score(y_test, y_pred)))\n",
    "\n",
    "# ROC曲线\n",
    "import matplotlib.pyplot as plt\n",
    "# 为在Matplotlib中显示中文，设置特殊字体\n",
    "plt.rcParams['font.sans-serif']=['SimHei']\n",
    "fig = plt.figure(figsize=(9, 6), dpi=100)\n",
    "ax = fig.add_subplot(111)\n",
    "y_pred_proba = logreg.predict_proba(X_test)[::,1]\n",
    "fpr, tpr, _ = metrics.roc_curve(y_test,  y_pred_proba)\n",
    "auc = metrics.roc_auc_score(y_test, y_pred_proba)\n",
    "plt.plot(fpr,tpr,label=\"pima糖尿病, auc={:.2f}\".format(auc))\n",
    "plt.legend(shadow=True, fontsize=13, loc = 4)\n",
    "plt.show()"
   ]
  },
  {
   "cell_type": "code",
   "execution_count": 15,
   "id": "3f7c2cca-1ba4-485a-bc0b-1b8c9c131e37",
   "metadata": {},
   "outputs": [
    {
     "name": "stdout",
     "output_type": "stream",
     "text": [
      "训练集合的准确率为: 100.00%\n",
      "测试集合的准确率为: 98.15%\n"
     ]
    },
    {
     "data": {
      "text/plain": [
       "array([[ 0.358,  0.144,  0.2  , -0.449,  0.636, -0.056, -0.2  , -0.034,\n",
       "        -0.414, -1.105],\n",
       "       [ 0.295, -0.291,  0.17 , -0.228,  0.742, -0.151, -0.174, -0.375,\n",
       "        -0.378, -0.326],\n",
       "       [ 0.303, -0.389,  0.404, -0.164,  0.734, -0.604, -0.485, -0.382,\n",
       "        -0.41 , -0.57 ],\n",
       "       [-0.225, -0.06 , -1.13 , -0.   , -0.17 ,  0.265,  0.567,  0.749,\n",
       "        -0.349,  0.32 ],\n",
       "       [ 0.316,  0.382, -0.01 ,  0.026,  0.322, -0.592,  0.236, -0.271,\n",
       "        -0.153,  0.163],\n",
       "       [ 0.7  ,  0.747,  0.335,  0.126, -0.756, -0.501,  0.511, -0.005,\n",
       "         0.479, -0.311],\n",
       "       [ 0.771,  0.577,  0.772, -0.729,  0.069,  0.457,  0.209, -0.766,\n",
       "         0.145,  0.336],\n",
       "       [-0.059, -0.067, -0.56 ,  0.582, -0.423,  0.647, -0.084, -0.244,\n",
       "         0.049,  0.018],\n",
       "       [ 0.087,  0.028,  0.247,  0.338, -0.679, -0.654,  0.029, -0.479,\n",
       "         0.455,  0.265],\n",
       "       [ 0.199,  0.337, -0.007,  0.81 ,  0.534, -0.999,  0.102, -0.498,\n",
       "         0.305, -1.624],\n",
       "       [ 0.666,  0.355,  0.395, -0.156, -0.058,  0.482,  0.411,  0.212,\n",
       "         0.16 ,  0.962],\n",
       "       [ 0.788,  0.441,  0.796, -0.774, -0.659,  0.274,  0.275, -0.03 ,\n",
       "        -0.188,  0.182],\n",
       "       [ 0.346,  1.107,  0.838, -0.058,  0.19 , -0.661,  0.129, -0.762,\n",
       "         0.544, -1.593]])"
      ]
     },
     "execution_count": 15,
     "metadata": {},
     "output_type": "execute_result"
    }
   ],
   "source": [
    "# 4. 神经网络算法\n",
    "# 导入数据\n",
    "from sklearn.datasets import load_wine\n",
    "wine = load_wine()\n",
    "X, y = wine.data, wine.target\n",
    "# 分割数据\n",
    "X_train, X_test, y_train, y_test = train_test_split(X, y, test_size = 0.3, random_state = 0)\n",
    "# 数据预处理\n",
    "from sklearn.preprocessing import StandardScaler\n",
    "scaler = StandardScaler().fit(X_train)\n",
    "X_train = scaler.transform(X_train)\n",
    "X_test = scaler.transform(X_test)\n",
    "# 导入神经网络模型\n",
    "from sklearn.neural_network import MLPClassifier\n",
    "# 构建模型：使用一层网络\n",
    "model = MLPClassifier(solver = \"lbfgs\",hidden_layer_sizes=(10,10))\n",
    "# 训练神经网络模型\n",
    "model.fit(X_train, y_train)\n",
    "# 在训练集合和测试集合做预测\n",
    "y_predict_on_train = model.predict(X_train)\n",
    "y_predict_on_test = model.predict(X_test)\n",
    "# 模型评估：查看预测准确率\n",
    "from sklearn.metrics import accuracy_score\n",
    "print('训练集合的准确率为: {:.2f}%'.format(100 * accuracy_score(y_train, y_predict_on_train)))\n",
    "print('测试集合的准确率为: {:.2f}%'.format(100 * accuracy_score(y_test, y_predict_on_test )))\n",
    "model.coefs_[0]  # 输出偏执参数权重,共13个\n",
    "model.coefs_[1]  # 输出特征参数权重,共13组,每组100个"
   ]
  },
  {
   "cell_type": "code",
   "execution_count": 24,
   "id": "92cc19a7-5242-4d6e-b964-26cd3d9cad26",
   "metadata": {},
   "outputs": [
    {
     "name": "stderr",
     "output_type": "stream",
     "text": [
      "D:\\anaconda\\lib\\site-packages\\IPython\\core\\pylabtools.py:151: UserWarning: Glyph 8722 (\\N{MINUS SIGN}) missing from current font.\n",
      "  fig.canvas.print_figure(bytes_io, **kw)\n"
     ]
    },
    {
     "data": {
      "image/png": "[encoded data removed]",
      "text/plain": [
       "<Figure size 432x288 with 1 Axes>"
      ]
     },
     "metadata": {
      "needs_background": "light"
     },
     "output_type": "display_data"
    },
    {
     "name": "stderr",
     "output_type": "stream",
     "text": [
      "D:\\anaconda\\lib\\site-packages\\IPython\\core\\pylabtools.py:151: UserWarning: Glyph 8722 (\\N{MINUS SIGN}) missing from current font.\n",
      "  fig.canvas.print_figure(bytes_io, **kw)\n"
     ]
    },
    {
     "data": {
      "image/png": "[encoded data removed]",
      "text/plain": [
       "<Figure size 432x288 with 1 Axes>"
      ]
     },
     "metadata": {
      "needs_background": "light"
     },
     "output_type": "display_data"
    }
   ],
   "source": [
    "# 5. 基于sklearn的k均值聚类算法\n",
    "import matplotlib.pyplot as plt\n",
    "from sklearn.datasets import make_blobs\n",
    "from sklearn.cluster import KMeans\n",
    "blobs = make_blobs(n_samples=200, random_state=1, centers=4)\n",
    "X_blobs = blobs[0]\n",
    "plt.scatter(X_blobs[:, 0], X_blobs[:, 1], c=blobs[1])\n",
    "plt.show()\n",
    "# 构建KMeans模型\n",
    "kmeans = KMeans(n_clusters=4)\n",
    "kmeans.fit(X_blobs)\n",
    "# 绘制可视化图形\n",
    "x_min, x_max = X_blobs[:, 0].min() - 0.5, X_blobs[:, 0].max() + 0.5\n",
    "y_min, y_max = X_blobs[:, 1].min() - 0.5, X_blobs[:, 1].max() + 0.5\n",
    "# 生成网格点矩阵\n",
    "xx, yy = np.meshgrid(np.arange(x_min, x_max, 0.02), np.arange(y_min, y_max, 0.02))\n",
    "Z = kmeans.predict(np.c_[xx.ravel(), yy.ravel()])\n",
    "Z = Z.reshape(xx.shape)\n",
    "plt.figure(1)\n",
    "plt.clf()\n",
    "plt.imshow(Z, interpolation='hermite', extent=(xx.min(), xx.max(), yy.min(), yy.max()), cmap=plt.cm.winter, aspect='auto', origin='lower')\n",
    "plt.plot(X_blobs[:, 0], X_blobs[:, 1], 'w.', markersize=5)\n",
    "\n",
    "# 用红色的x表示簇中心\n",
    "centroids = kmeans.cluster_centers_\n",
    "plt.scatter(X_blobs[:, 0], X_blobs[:, 1], marker=\"x\", s=150, linewidths=3, color='r', zorder=10)\n",
    "plt.xlim(x_min, x_max)\n",
    "plt.ylim(y_min, y_max)\n",
    "plt.xticks()\n",
    "plt.yticks()\n",
    "plt.show()"
   ]
  }
 ],
 "metadata": {
  "kernelspec": {
   "display_name": "Python 3 (ipykernel)",
   "language": "python",
   "name": "python3"
  },
  "language_info": {
   "codemirror_mode": {
    "name": "ipython",
    "version": 3
   },
   "file_extension": ".py",
   "mimetype": "text/x-python",
   "name": "python",
   "nbconvert_exporter": "python",
   "pygments_lexer": "ipython3",
   "version": "3.9.12"
  }
 },
 "nbformat": 4,
 "nbformat_minor": 5
}
