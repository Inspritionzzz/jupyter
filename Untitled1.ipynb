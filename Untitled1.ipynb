{
 "cells": [
  {
   "cell_type": "code",
   "execution_count": null,
   "id": "ca97688d",
   "metadata": {},
   "outputs": [],
   "source": [
    "import pandas as pd\n",
    "import numpy as np\n",
    "import pymssql"
   ]
  },
  {
   "cell_type": "code",
   "execution_count": null,
   "id": "61d9a1ef",
   "metadata": {},
   "outputs": [],
   "source": [
    "index = pd.date_range('1/1/2000', periods=8)"
   ]
  },
  {
   "cell_type": "code",
   "execution_count": null,
   "id": "6c03e307",
   "metadata": {},
   "outputs": [],
   "source": [
    "s = pd.Series(np.random.randn(5), index=['a', 'b', 'c', 'd', 'e'])"
   ]
  },
  {
   "cell_type": "code",
   "execution_count": null,
   "id": "890f9c50",
   "metadata": {},
   "outputs": [],
   "source": [
    "df = pd.DataFrame(np.random.randn(8, 3), index=index, columns=['A', 'B', 'C'])\n",
    "\n",
    "long_series = pd.Series(np.random.randn(1000))\n",
    "\n",
    "long_series.head()\n",
    "\n",
    "long_series.tail(3)\n",
    "\n",
    "print('======================================')\n",
    "s.info"
   ]
  },
  {
   "cell_type": "code",
   "execution_count": null,
   "id": "2d21173f",
   "metadata": {},
   "outputs": [],
   "source": [
    "from IPython.display import HTML\n",
    "HTML('''<script>\n",
    "\n",
    "code_show=true;\n",
    "\n",
    "function code_toggle() {\n",
    "\n",
    "if (code_show){\n",
    "\n",
    "$('div.input').hide();\n",
    "\n",
    "} else {\n",
    "\n",
    "$('div.input').show();\n",
    "\n",
    "}\n",
    "\n",
    "code_show = !code_show\n",
    "\n",
    "}\n",
    "\n",
    "$( document ).ready(code_toggle);\n",
    "\n",
    "</script>\n",
    "\n",
    "<form action=\"javascript:code_toggle()\"><input type=\"submit\" value=\"Click here to toggle on/off the raw code.\"></form>''')"
   ]
  },
  {
   "cell_type": "code",
   "execution_count": null,
   "id": "40568d2b",
   "metadata": {},
   "outputs": [],
   "source": [
    "import pandas as pd\n",
    "import numpy as np\n",
    "\n",
    "class display(object):\n",
    "    \"\"\"Display HTML representation of multiple objects\"\"\"\n",
    "    template = \"\"\"<div style=\"float: left; padding: 10px;\">\n",
    "    <p style='font-family:\"Courier New\", Courier, monospace'>{0}</p>{1}\n",
    "    </div>\"\"\"\n",
    "    def __init__(self, *args):\n",
    "        self.args = args\n",
    "        \n",
    "    def _repr_html_(self):\n",
    "        return '\\n'.join(self.template.format(a, eval(a)._repr_html_())\n",
    "                         for a in self.args)\n",
    "    \n",
    "    def __repr__(self):\n",
    "        return '\\n\\n'.join(a + '\\n' + repr(eval(a))\n",
    "                           for a in self.args)"
   ]
  },
  {
   "cell_type": "code",
   "execution_count": 1,
   "id": "f0a5b8f8-2813-4b95-b5ad-99b260027c35",
   "metadata": {},
   "outputs": [
    {
     "data": {
      "text/plain": [
       "0.8458724666820527"
      ]
     },
     "execution_count": 1,
     "metadata": {},
     "output_type": "execute_result"
    }
   ],
   "source": [
    "6919724 / 8180576"
   ]
  },
  {
   "cell_type": "code",
   "execution_count": 2,
   "id": "60bb3f78-b731-485c-829e-44080c5cb4a5",
   "metadata": {},
   "outputs": [
    {
     "data": {
      "text/plain": [
       "0.7681159420289855"
      ]
     },
     "execution_count": 2,
     "metadata": {},
     "output_type": "execute_result"
    }
   ],
   "source": [
    "212 / 276"
   ]
  },
  {
   "cell_type": "code",
   "execution_count": 4,
   "id": "1555333c-1d0a-4e4a-afd8-1c18530539a0",
   "metadata": {},
   "outputs": [
    {
     "data": {
      "text/plain": [
       "0.7755299472396717"
      ]
     },
     "execution_count": 4,
     "metadata": {},
     "output_type": "execute_result"
    }
   ],
   "source": [
    "181975 / 234646"
   ]
  },
  {
   "cell_type": "code",
   "execution_count": 5,
   "id": "d02f6c1a-22b1-4c3f-8bf3-236b175849c0",
   "metadata": {},
   "outputs": [
    {
     "data": {
      "text/plain": [
       "0.8498685974546294"
      ]
     },
     "execution_count": 5,
     "metadata": {},
     "output_type": "execute_result"
    }
   ],
   "source": [
    "6303070 / 7416523"
   ]
  },
  {
   "cell_type": "code",
   "execution_count": 7,
   "id": "011b7d82-c72b-4318-8381-fdffd2b1d190",
   "metadata": {},
   "outputs": [
    {
     "data": {
      "text/plain": [
       "212"
      ]
     },
     "execution_count": 7,
     "metadata": {},
     "output_type": "execute_result"
    }
   ],
   "source": [
    "9 + 71 + 27 + 59 + 46"
   ]
  },
  {
   "cell_type": "code",
   "execution_count": null,
   "id": "db96b21a-58e6-4283-a185-c91ba8d17bc1",
   "metadata": {},
   "outputs": [],
   "source": []
  },
  {
   "cell_type": "code",
   "execution_count": null,
   "id": "45785c70-811b-4782-8179-b29ff105a5f5",
   "metadata": {},
   "outputs": [],
   "source": []
  }
 ],
 "metadata": {
  "kernelspec": {
   "display_name": "Python 3 (ipykernel)",
   "language": "python",
   "name": "python3"
  },
  "language_info": {
   "codemirror_mode": {
    "name": "ipython",
    "version": 3
   },
   "file_extension": ".py",
   "mimetype": "text/x-python",
   "name": "python",
   "nbconvert_exporter": "python",
   "pygments_lexer": "ipython3",
   "version": "3.10.9"
  }
 },
 "nbformat": 4,
 "nbformat_minor": 5
}
