# Matplotlib和seaborn
# 1.1 绘制简单图形
import math
import matplotlib.pyplot as plt
import numpy as np
import pandas as pd
nbSamples = 256
xRange = (-math.pi, math.pi)
x, y = [], []
for n in range(nbSamples):
    radio = (n + 0.5) / nbSamples
    x.append(xRange[0] + (xRange[1] - xRange[0]) * radio)
    y.append(math.sin(x[-1]))
# 绘制正弦曲线
plt.plot(x, y)
plt.show()



