# Matplotlib和seaborn
# 1.1 绘制简单图形
import math
import matplotlib.pyplot as plt
import numpy as np
import pandas as pd
nbSamples = 256
xRange = (-math.pi, math.pi)
x, y = [], []
for n in range(nbSamples):
    radio = (n + 0.5) / nbSamples
    x.append(xRange[0] + (xRange[1] - xRange[0]) * radio)
    y.append(math.sin(x[-1]))
# 绘制正弦曲线
plt.plot(x, y)
plt.show()


<<<<<<< HEAD
=======
import plotly.graph_objects as go

fig = go.Figure(go.Sankey(
    node=dict(label=["开始", "处理", "结束"]),
    link=dict(source=[0, 1], target=[1, 2], value=[1, 1])
))
fig.show()


import pygraphviz as pgv

# 创建一个有向图对象
G = pgv.AGraph(directed=True)

# 添加节点
G.add_node('A', label='开始')
G.add_node('B', label='操作')
G.add_node('C', label='结束')

# 添加边
G.add_edge('A', 'B')
G.add_edge('B', 'C')

# 设置图形属性
G.node_attr['style'] = 'filled'
G.node_attr['fillcolor'] = 'lightblue'

# 保存图形
G.draw('flowchart_pygraphviz.png', prog='dot')


from graphviz import Digraph
import os

try:
    # 创建一个有向图对象
    dot = Digraph(comment='简单流程图')

    # 设置图形属性
    dot.attr(rankdir='TB', size='8,8')

    # 添加节点
    dot.node('A', '开始')
    dot.node('B', '处理步骤')
    dot.node('C', '结束')

    # 添加边
    dot.edge('A', 'B')
    dot.edge('B', 'C')

    # 保存并渲染图形
    output_file = dot.render('flowchart', format='png', view=True)
    print(f"图形已成功保存到: {output_file}")
except Exception as e:
    print(f"绘制流程图时出现错误: {e}")


# !pip list
# pip install graphviz
# !pip install diagram


import matplotlib.pyplot as plt
import matplotlib.patches as patches

fig, ax = plt.subplots()
ax.add_patch(patches.Rectangle((0.1, 0.1), 0.2, 0.1, fill=None))  # 节点
plt.annotate('', xy=(0.3, 0.15), xytext=(0.1, 0.15), arrowprops=dict(arrowstyle='->'))  # 箭头
plt.show()


import plotly.graph_objects as go
import numpy as np
from sklearn.datasets import make_moons
from sklearn.model_selection import train_test_split
from sklearn.neighbors import KNeighborsClassifier

# Load and split data
X, y = make_moons(noise=0.3, random_state=0)
X_train, X_test, y_train, y_test = train_test_split(
    X, y.astype(str), test_size=0.25, random_state=0)

trace_specs = [
    [X_train, y_train, '0', 'Train', 'square'],
    [X_train, y_train, '1', 'Train', 'circle'],
    [X_test, y_test, '0', 'Test', 'square-dot'],
    [X_test, y_test, '1', 'Test', 'circle-dot']
]

fig = go.Figure(data=[
    go.Scatter(
        x=X[y==label, 0], y=X[y==label, 1],
        name=f'{split} Split, Label {label}',
        mode='markers', marker_symbol=marker
    )
    for X, y, label, split, marker in trace_specs
])
fig.update_traces(
    marker_size=12, marker_line_width=1.5,
    marker_color="lightyellow"
)
fig.show()


from diagrams import Diagram
from diagrams.aws.compute import EC2
from diagrams.aws.database import RDS
from diagrams.aws.network import ELB

# 生成一个名为 "web_service" 的架构图
with Diagram("Web Service Architecture", show=False):
    # 创建负载均衡器节点
    load_balancer = ELB("Load Balancer")
    
    # 创建两个 EC2 实例节点
    web_server1 = EC2("Web Server 1")
    web_server2 = EC2("Web Server 2")
    
    # 创建数据库节点
    database = RDS("Database")

    # 连接节点（定义数据流方向）
    load_balancer >> [web_server1, web_server2] >> database


from diagrams import Cluster

with Diagram("Web Service with Cluster", show=False):
    with Cluster("Frontend"):
        lb = ELB("Load Balancer")
        web = [EC2("Web 1"), EC2("Web 2")]
    
    with Cluster("Backend"):
        db = RDS("Database")

    lb >> web >> db


import diagram
print("Diagram 库安装成功！")


!pip install windows-curses


# !pip uninstall diagram
!pip install diagrams


from graphviz import Digraph

# 创建Digraph对象
d = Digraph('项目开发流程示例', format='png')
d.attr(fontname='Arial')

# 定义节点和子图
# 开始节点
d.node('start', '项目启动', shape='ellipse', style='filled', fillcolor='lightgreen')

# 需求分析子图
with d.subgraph(name='cluster_req') as req_cluster:
    req_cluster.attr(label='需求分析阶段', fontsize='14', color='blue')
    req_cluster.node('req_gather', '收集需求', shape='rectangle', style='filled', fillcolor='lightyellow')
    req_cluster.node('req_analyze', '分析需求', shape='rectangle', style='filled', fillcolor='lightyellow')
    req_cluster.node('req_review', '评审需求', shape='rectangle', style='filled', fillcolor='lightyellow')
    req_cluster.edges([('req_gather', 'req_analyze'), ('req_analyze', 'req_review')])

# 设计阶段子图
with d.subgraph(name='cluster_design') as design_cluster:
    design_cluster.attr(label='设计阶段', fontsize='14', color='green')
    design_cluster.node('arch_design', '架构设计', shape='rectangle', style='filled', fillcolor='lightblue')
    design_cluster.node('ui_design', '界面设计', shape='rectangle', style='filled', fillcolor='lightblue')
    design_cluster.node('design_review', '设计评审', shape='rectangle', style='filled', fillcolor='lightblue')
    design_cluster.edges([('arch_design', 'design_review'), ('ui_design', 'design_review')])

# 连接需求评审到设计阶段
d.edge('req_review', 'arch_design')
d.edge('req_review', 'ui_design')

# 开发阶段子图
with d.subgraph(name='cluster_dev') as dev_cluster:
    dev_cluster.attr(label='开发阶段', fontsize='14', color='orange')
    dev_cluster.node('coding', '编码实现', shape='rectangle', style='filled', fillcolor='lightpink')
    dev_cluster.node('testing', '单元测试', shape='rectangle', style='filled', fillcolor='lightpink')
    dev_cluster.edge('coding', 'testing')

# 连接设计评审到编码
d.edge('design_review', 'coding')

# 部署和结束节点
d.node('deploy', '部署上线', shape='rectangle', style='filled', fillcolor='lightgray')
d.node('end', '项目结束', shape='ellipse', style='filled', fillcolor='lightcoral')
d.edges([('testing', 'deploy'), ('deploy', 'end')])

# 渲染并保存图表
d.render('project_flow', view=True)


# !pip install bokeh


# !pip install pyecharts


from pyecharts.globals import CurrentConfig, NotebookType
CurrentConfig.NOTEBOOK_TYPE = NotebookType.JUPYTER_NOTEBOOK

from pyecharts import options as opts
from pyecharts.charts import Pie
from pyecharts.globals import ThemeType

# 准备数据
data_pair = [
    ("衬衫", 11),
    ("羊毛衫", 23),
    ("雪纺衫", 24),
    ("裤子", 15),
    ("高跟鞋", 12),
    ("袜子", 10)
]

# 创建饼图对象
# ... 前面的导入保持不变 ...

# 创建饼图对象（添加更多配置选项）
pie = (
    Pie(init_opts=opts.InitOpts(
        theme=ThemeType.WHITE,
        width="800px",   # 添加图表宽度
        height="600px"   # 添加图表高度
    ))
    .add(
        series_name="商品销售占比",
        data_pair=data_pair,
        radius=["30%", "75%"],
        center=["50%", "55%"],  # 调整饼图位置
    )
    .set_global_opts(
        title_opts=opts.TitleOpts(
            title="商品销售占比饼图",
            subtitle="2023年度销售数据",  # 添加副标题
            pos_left="center"),
        toolbox_opts=opts.ToolboxOpts(
            is_show=True,
            feature=opts.ToolBoxFeatureOpts(  # 添加工具箱功能
                save_as_image=opts.ToolBoxFeatureSaveAsImageOpts(title="保存图片"),
                restore=opts.ToolBoxFeatureRestoreOpts(title="重置")
            )
        )
    )
    .set_series_opts(
        label_opts=opts.LabelOpts(
            formatter="{b}: {d}%",
            position="inside",  # 标签显示在内部
            rotate=30          # 标签旋转角度
        )
    )
)

# ... 后面的渲染保持不变 ...


# 渲染图表到 Notebook
pie.render_notebook()



from bokeh.plotting import figure, show, output_notebook
from bokeh.models import ColumnDataSource
import pandas as pd
import numpy as np

# 准备数据
np.random.seed(42)
x = np.random.randn(100)
y = np.random.randn(100)
colors = np.random.choice(['red', 'green', 'blue'], 100)
sizes = np.random.randint(10, 30, 100)

# 创建 DataFrame
data = {'x': x, 'y': y, 'colors': colors, 'sizes': sizes}
source = ColumnDataSource(data)

# 输出到 Jupyter Notebook（如果在 Jupyter 中运行）
output_notebook()

# 创建绘图对象
p = figure(title="随机散点图", x_axis_label='X', y_axis_label='Y')

# 添加散点图
p.circle('x', 'y', size='sizes', color='colors', alpha=0.5, source=source)

# 显示图形
show(p)


# !pip install ggplot
!pip install plotnine


from plotnine import *
import pandas as pd
import numpy as np

# 生成示例数据
np.random.seed(42)
n = 100
df = pd.DataFrame({
    'x': np.random.randn(n),
    'y': np.random.randn(n),
    'category': np.random.choice(['A', 'B', 'C'], n)
})

# 创建散点图
scatter_plot = (
    ggplot(df, aes(x='x', y='y', color='category')) +
    geom_point() +
    labs(title='随机散点图', x='X 轴', y='Y 轴') +
    theme_minimal()
)

print(scatter_plot)


!pip install notebook


!jupyter labextension install @jupyter-widgets/jupyterlab-manager


!jupyter labextension install @jupyter-widgets/jupyterlab-preview


!jupyter labextension install jupyterlab-variableinspector


>>>>>>> origin

