import pandas as pd
import numpy as np
import pymssql


index = pd.date_range('1/1/2000', periods=8)


s = pd.Series(np.random.randn(5), index=['a', 'b', 'c', 'd', 'e'])


df = pd.DataFrame(np.random.randn(8, 3), index=index, columns=['A', 'B', 'C'])

long_series = pd.Series(np.random.randn(1000))

long_series.head()

long_series.tail(3)

print('======================================')
s.info


from IPython.display import HTML
HTML('''<script>

code_show=true;

function code_toggle() {

if (code_show){

$('div.input').hide();

} else {

$('div.input').show();

}

code_show = !code_show

}

$( document ).ready(code_toggle);

</script>

<form action="javascript:code_toggle()"><input type="submit" value="Click here to toggle on/off the raw code."></form>''')


import pandas as pd
import numpy as np

class display(object):
    """Display HTML representation of multiple objects"""
    template = """<div style="float: left; padding: 10px;">
    <p style='font-family:"Courier New", Courier, monospace'>{0}</p>{1}
    </div>"""
    def __init__(self, *args):
        self.args = args
        
    def _repr_html_(self):
        return '\n'.join(self.template.format(a, eval(a)._repr_html_())
                         for a in self.args)
    
    def __repr__(self):
        return '\n\n'.join(a + '\n' + repr(eval(a))
                           for a in self.args)


6919724 / 8180576


212 / 276


181975 / 234646


6303070 / 7416523


9 + 71 + 27 + 59 + 46






