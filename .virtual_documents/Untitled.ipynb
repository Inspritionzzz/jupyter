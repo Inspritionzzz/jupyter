import numpy as np
import pandas as pd
import seaborn as sns
from matplotlib import pyplot as plt
from sklearn.metrics import accuracy_score
from sklearn.model_selection import train_test_split
from sklearn.preprocessing import RobustScaler
from sklearn.neighbors import LocalOutlierFactor


pd.set_option('display.max_columns', None)
pd.set_option('display.max_rows', None)
pd.set_option('display.float_format', lambda x: '%.3f' % x)
pd.set_option('display.width', 500)

import warnings
warnings.filterwarnings("ignore")


df = pd.read_csv("datasets/Churn_Modelling.csv")
df.head()


def check_df(dataframe, head=5):
    print("##################### Shape #####################")
    print(dataframe.shape)

    print("##################### Types #####################")
    print(dataframe.dtypes)

    print("##################### Head #####################")
    print(dataframe.head(head))

    print("##################### Tail #####################")
    print(dataframe.tail(head))

    print("##################### NA #####################")
    print(dataframe.isnull().sum())

    print("##################### Describe #####################")
    print(dataframe.describe().T)

    print("##################### Quantiles #####################")
    print(dataframe.quantile([0, 0.05, 0.50, 0.95, 0.99, 1]).T)

check_df(df)


del df["RowNumber"]


def grab_col_names(dataframe, cat_th=10, car_th=20): #cat_th ve car_th değerleri projeye göre değişebilir.
    
    # cat_cols, cat_but_car
    cat_cols = [col for col in dataframe.columns if dataframe[col].dtypes == "O"]
    num_but_cat = [col for col in dataframe.columns if dataframe[col].nunique() < cat_th and
                   dataframe[col].dtypes != "O"]
    cat_but_car = [col for col in dataframe.columns if dataframe[col].nunique() > car_th and
                   dataframe[col].dtypes == "O"]
    cat_cols = cat_cols + num_but_cat
    cat_cols = [col for col in cat_cols if col not in cat_but_car]

    # num_cols
    num_cols = [col for col in dataframe.columns if dataframe[col].dtypes != "O"]
    num_cols = [col for col in num_cols if col not in num_but_cat]

    print(f"Observations: {dataframe.shape[0]}")
    print(f"Variables: {dataframe.shape[1]}")
    print(f'cat_cols: {len(cat_cols)}')
    print(f'num_cols: {len(num_cols)}')
    print(f'cat_but_car: {len(cat_but_car)}')
    print(f'num_but_cat: {len(num_but_cat)}')
    return cat_cols, num_cols, cat_but_car

cat_cols, num_cols, cat_but_car = grab_col_names(df)


num_cols


cat_but_car = cat_but_car + ["CustomerId"]
num_cols.remove("CustomerId")


def cat_summary(dataframe, col_name, plot=False):
    print(pd.DataFrame({col_name: dataframe[col_name].value_counts(),
                        "Ratio": 100 * dataframe[col_name].value_counts() / len(dataframe)}))
    print("##########################################")
    if plot:
        sns.countplot(x=dataframe[col_name], data=dataframe)
        plt.show()


for col in cat_cols:
    cat_summary(df, col, plot=True)


for col in num_cols:
    print(df.groupby("Exited").agg({col: "mean"}))


def outlier_thresholds(dataframe, col_name, q1=0.5, q3=0.95):
    quartile1 = dataframe[col_name].quantile(q1)
    quartile3 = dataframe[col_name].quantile(q3)
    interquantile_range = quartile3 - quartile1
    up_limit = quartile3 + 1.5 * interquantile_range
    low_limit = quartile1 - 1.5 * interquantile_range
    return low_limit, up_limit


def check_outlier(dataframe, col_name):
    low_limit, up_limit = outlier_thresholds(dataframe, col_name)
    if dataframe[(dataframe[col_name] > up_limit) | (dataframe[col_name] < low_limit)].any(axis=None):
        return True
    else:
        return False


for col in num_cols:
    print(col, "-", check_outlier(df, col))


for col in num_cols:
    sns.boxplot(x=df[col])
    plt.show()


low_th, up_th = outlier_thresholds(df,"CreditScore")
df.loc[(df["CreditScore"]<low_th) | (df["CreditScore"]>up_th),"CreditScore"]


def replace_with_thresholds(dataframe, variable):
    low_limit, up_limit = outlier_thresholds(dataframe, variable)
    dataframe.loc[(dataframe[variable] < low_limit), variable] = low_limit
    dataframe.loc[(dataframe[variable] > up_limit), variable] = up_limit

replace_with_thresholds(df,"CreditScore")


clf = LocalOutlierFactor(n_neighbors=5)
clf.fit_predict(df[num_cols])
df_scores = clf.negative_outlier_factor_
np.sort(df_scores)[0:5]
scores = pd.DataFrame(np.sort(df_scores))
scores.plot(stacked=True, xlim=[0, 50], style='.-')
plt.show()


th = np.sort(df_scores)[4]
df[df_scores < th]
df.drop(df[df_scores < th].index, inplace=True)


def missing_values_table(dataframe, na_name=False):
    na_columns = [col for col in dataframe.columns if dataframe[col].isnull().sum() > 0]

    n_miss = dataframe[na_columns].isnull().sum().sort_values(ascending=False)
    ratio = (dataframe[na_columns].isnull().sum() / dataframe.shape[0] * 100).sort_values(ascending=False)
    missing_df = pd.concat([n_miss, np.round(ratio, 2)], axis=1, keys=['n_miss', 'ratio'])
    print(missing_df, end="\n")

    if na_name:
        return na_columns


missing_values_table(df)


corr = df.corr()

sns.heatmap(corr,
        xticklabels=corr.columns,
        yticklabels=corr.columns)
plt.show()


df["Age"].describe()


df.loc[(df['Age'] <= 22 ), 'NEW_AGE_CAT'] = 'Z'
df.loc[(df['Age'] >= 23) & (df['Age'] <= 38), 'NEW_AGE_CAT'] = 'Millennials'
df.loc[(df['Age'] >= 39) & (df['Age'] <= 54), 'NEW_AGE_CAT'] = 'X'
df.loc[(df['Age'] >= 55), 'NEW_AGE_CAT'] = 'Boomers'
df["NEW_AGE_CAT"].value_counts()


df["NEW_SALARY_SCALA"] = pd.qcut(df["EstimatedSalary"], 5, labels=[1,2,3,4,5])


df.loc[(df["IsActiveMember"]==0), "NEW_CUSTOMER_SEGMENT"] = "InActive"
df.loc[(df["HasCrCard"]==0) & (df["NumOfProducts"]<=1) & (df["IsActiveMember"]==1), "NEW_CUSTOMER_SEGMENT"] = "Active_limited_usage1"
df.loc[(df["HasCrCard"]==0) & (df["NumOfProducts"]>1) & (df["IsActiveMember"]==1), "NEW_CUSTOMER_SEGMENT"] = "Active_limited_usage2"
df.loc[(df["HasCrCard"]==1) & (df["NumOfProducts"]<=1) & (df["IsActiveMember"]==1), "NEW_CUSTOMER_SEGMENT"] = "Active_limited_usage3"
df.loc[(df["HasCrCard"]==1) & (df["NumOfProducts"] == 2) & (df["IsActiveMember"]==1), "NEW_CUSTOMER_SEGMENT"] = "Active_constantly_usage"
df.loc[(df["HasCrCard"]==1) & (df["NumOfProducts"]>=3) & (df["IsActiveMember"]==1), "NEW_CUSTOMER_SEGMENT"] = "Active_loyal"


df["NEW_CREDITSCORE_AGE"] = df["CreditScore"] / df["Age"]
df["NEW_BALANCE_TENURE"] = df.apply(lambda x: x["Balance"] / x["Tenure"] if x["Tenure"] != 0 else 0, axis = 1)
df["NEW_ESALARY_BALANCE"] = df.apply(lambda x: x["EstimatedSalary"] / x["Balance"] if x["Balance"] != 0 else 0, axis = 1)


cat_cols, num_cols, cat_but_car = grab_col_names(df)
cat_but_car = cat_but_car + ["CustomerId"]
num_cols.remove("CustomerId")


for col in cat_cols:
      df = pd.get_dummies(df, columns=[col], drop_first=True)

df.head()


cat_cols, num_cols, cat_but_car = grab_col_names(df)
cat_but_car = cat_but_car + ["CustomerId"]
num_cols.remove("CustomerId")


scaler = RobustScaler()
df[num_cols] = scaler.fit_transform(df[num_cols])
df.head()


y = df["Exited_1"] # Dependent Variable
X = df.drop(["Exited_1","CustomerId","Surname"], axis=1) # Independent Variable

X_train, X_test, y_train, y_test = train_test_split(X, y, test_size=0.20, random_state=17)


# Random Forest:
from sklearn.ensemble import RandomForestClassifier
rf_model = RandomForestClassifier(random_state=20).fit(X_train, y_train)
y_pred = rf_model.predict(X_test)
accuracy_score(y_pred, y_test)


# Artificial Neural Network
from sklearn.neural_network import MLPClassifier
mlpc_model = MLPClassifier(random_state=20).fit(X_train, y_train)
y_pred = mlpc_model.predict(X_test)
accuracy_score(y_pred, y_test)


# Gradient Boosting Machines
# from sklearn.ensemble import GradientBoostingClassifier
# gbm_model = GradientBoostingClassifier(random_state=20).fit(X_train, y_train)
# y_pred = gbm_model.predict(X_test)
# accuracy_score(y_pred, y_test)


# XGBoost
# from xgboost import XGBClassifier
# xgb_model = XGBClassifier(random_state=20, eval_metric='mlogloss').fit(X_train, y_train)
# y_pred = xgb_model.predict(X_test)
# accuracy_score(y_pred, y_test)


# LightGBM
from lightgbm import LGBMClassifier
lgbm_model = LGBMClassifier(random_state=20).fit(X_train, y_train)
y_pred = lgbm_model.predict(X_test)
accuracy_score(y_pred, y_test) 


def plot_importance(model, features, num=len(X), save=False):
    feature_imp = pd.DataFrame({'Value': model.feature_importances_, 'Feature': features.columns})
    plt.figure(figsize=(10, 10))
    sns.set(font_scale=1)
    sns.barplot(x="Value", y="Feature", data=feature_imp.sort_values(by="Value",
                                                                      ascending=False)[0:num])
    plt.title('Features')
    plt.tight_layout()
    plt.show()
    if save:
        plt.savefig('importances.png')

plot_importance(lgbm_model, X_train)









