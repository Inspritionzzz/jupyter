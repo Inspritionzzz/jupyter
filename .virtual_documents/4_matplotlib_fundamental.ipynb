# Matplotlib和seaborn
# 1.1 绘制简单图形
import math
import matplotlib.pyplot as plt
import numpy as np
import pandas as pd
nbSamples = 256
xRange = (-math.pi, math.pi)
x, y = [], []
for n in range(nbSamples):
    radio = (n + 0.5) / nbSamples
    x.append(xRange[0] + (xRange[1] - xRange[0]) * radio)
    y.append(math.sin(x[-1]))
# 绘制正弦曲线
plt.plot(x, y)
plt.show()





# Matplotlib和seaborn
# 1.1 绘制简单图形
import math
import matplotlib.pyplot as plt
import numpy as np
import pandas as pd
nbSamples = 256
xRange = (-math.pi, math.pi)
x, y = [], []
for n in range(nbSamples):
    radio = (n + 0.5) / nbSamples
    x.append(xRange[0] + (xRange[1] - xRange[0]) * radio)
    y.append(math.cos(x[-1]))
# 绘制余弦曲线
plt.plot(x, y)
plt.show()


#Generate a sinusoid 正弦曲线
nbSamples  = 256
x = np.linspace(-math.pi, math.pi, num = 256)
y = np.sin(x)

# Plot the sinuoid
plt.plot(x, y)
plt.show()


nbSamples = 128 

x = np.linspace(-np.pi, np.pi, nbSamples)
y1 = np.sin(x)
y2 = np.cos(x)

plt.plot(x, y1, color='g', linewidth=4, linestyle='--')
plt.plot(x, y2, '*' , markersize=8, markerfacecolor='r', markeredgecolor='k')

plt.show()


# 1.2 pyplot高级功能
# 1.2.1 添加图例与注释
nbSamples = 128

x = np.linspace(-np.pi, np.pi, nbSamples)
y1 = np.sin(x)
y2 = np.cos(x)

plt.plot(x, y1, color='g', linewidth=4, linestyle='--', label=r'$y=sin(x)$')  #添加lateX风格公式
plt.plot(x, y2, '*', markersize=8, markerfacecolor='r',
         markeredgecolor='k', label=r'$y=cos(x)$')

plt.legend(loc='best')
plt.show()


fig, ax = plt.subplots()

lines = []
styles = ['-', '--', '-.', ':']
x = np.linspace(0, 10, 1000)

for i in range(4):
    lines += ax.plot(x, np.sin(x - i * np.pi / 2),
                     styles[i], color='black')
ax.axis('equal')

# specify the lines and labels of the first legend
ax.legend(lines[:2], ['line A', 'line B'],
          loc='upper right', frameon=False)

# Create the second legend and add the artist manually.
from matplotlib.legend import Legend
leg = Legend(ax, lines[2:], ['line C', 'line D'],
             loc='lower right', frameon=False)
ax.add_artist(leg)


# 显示坐标点
x = np.arange(0, 10 ,1)
y = 2 * x

for a,b in zip(x,y):
    plt.text(a, b, (a,b), ha = 'center', va = 'bottom', fontsize = 8)

plt.plot(x, y, 'bo-')
plt.show()


# 1.2.2 设置图形标题及坐标轴
x = np.arange(-5,5,0.05)
y1 = np.sin(x)
y2 = np.cos(x)

# 为在Matplotlib中显示中文，设置特殊字体
plt.rcParams['font.sans-serif'] = ['SimHei']
plt.title('双曲线')

plt.ylim(-1.2,1.2)
plt.xlim(-6,6)
plt.xticks(ticks  = np.arange(-1.5 * np.pi, 2 * np.pi,0.5 * np.pi),
           labels = ['$-\\frac{3}{2}\pi$','$-\pi$','$-\\frac{1}{2}\pi$',
                     '0','$\\frac{1}{2}\pi$','$\pi$','$\\frac{3}{2}\pi$'])
plt.yticks(ticks = [-1,0,1])
plt.xlabel('我是$X$轴')
plt.ylabel('我是$Y$轴')

plt.plot(x,y1,'r-',label='$y_1=sin(x)$')
plt.plot(x,y2,'b:',label='$y_2=cos(x)$')

plt.legend(loc = 'best')
plt.figure(figsize = (9, 6), dpi=100)
plt.show()


# 0到4区间，以间隔0.2被均匀分割
data = np.arange(0, 4, 0.2)
# 分别使用红色的点划线、蓝色的方块和绿色的三角形来区分这3条曲线
plt.plot(data, data, 'r-.', data, data**2, 'bs', data, data**3, 'g^')
plt.show()
plt.savefig('mult_lines.png',dpi=600)
# 输出为eps格式
# plt.savefig('mult_lines.eps',dpi=600)


# 1.2.3 添加网格线
# 0到4区间，以间隔0.2被均匀分割
data = np.arange(0, 4, 0.2)
# 分别使用红色的点划线、蓝色的方块和绿色的三角形来区分这3条曲线
plt.plot(data, data, 'r-.', data, data**2, 'bs', data, data**3, 'g^')
plt.grid(b = True, which='both')
# plt.savefig('mult_lines-grid.png',dpi=600)


# 1.2.4 绘制多个子图
def f(t):
    return np.exp(-t) * np.cos(2*np.pi*t)

t1 = np.arange(0.0, 5.0, 0.1)
t2 = np.arange(0.0, 5.0, 0.02)

#第一种添加子图的方法
fig = plt.figure()
axis = fig.add_subplot(211)
#plt.subplot(211)
axis.grid(True)
plt.plot(t1, f(t1), 'bo', t2, f(t2), 'k')

#第二种添加子图的方法
plt.subplot(2,1,2)
plt.plot(t2, np.cos(2*np.pi*t2), 'r--')
plt.savefig('sub-plots.jpg',dpi=600)
plt.show()


x = np.linspace(0, 2*np.pi, 400)
y = np.sin(x**2)

fig = plt.figure() 

axes_1 = fig.add_axes([ 0.1, 0.1, 0.5, 0.5])
axes_2 = fig.add_axes([0.2, 0.2, 0.5, 0.5])
axes_3 = fig.add_axes([0.3, 0.3, 0.5, 0.5])
axes_4 = fig.add_axes([0.4, 0.4, 0.5, 0.5])
axes_4.plot(x, y)

plt.show()


# 1.2.5 散点图
# 产生50对服从正态分布的样本点
nbPointers = 50
x = np.random.standard_normal(nbPointers)
y = np.random.standard_normal(nbPointers)

# 固定种子数，以便实验结果具有可重复性
np.random.seed(19680801)
colors = np.random.rand(nbPointers)

area = (30 * np.random.rand(nbPointers))**2 
plt.scatter(x, y, s = area, c = colors, alpha = 0.5)
plt.show()


# 根据数据集绘制散点图
data = []
with open('datasets/iris.csv','r') as file :
    lines = file.readlines() #读取数据行的数据
    for line in lines:        #对于每行数据进行分析
        temp = line.split(',')
        data.append(temp)

#转换为Numpy数组，方便后续处理
data_np = np.array(data)
#不读取最后一列，并将数值部分转换为浮点数
data_np = np.array(data_np[:,:-1]).astype(float)

#特征名称
feature_name = ['sepal length','sepal width','petal length','petal width']
#绘制figure，3x2个子图，figure大小为(20,10)
fig,axes = plt.subplots(3,2,figsize=(20,10))
# 为在Matplotlib中显示中文，设置特殊字体
plt.rcParams['font.sans-serif']=['SimHei']
#设置总标题
fig.suptitle('鸢尾花散点图',fontsize=25)

#获取不同的特征组合，两两组合绘制散点图。
i = 0
for x in range(data_np.shape[1]):
    for y in range(x + 1,data_np.shape[1]):
        X = data_np[:,x]
        Y = data_np[:,y]
        axes[i%3][i%2].scatter(X[:50],Y[:50],
                               marker='x',c='b',label='setosa')
        axes[i%3][i%2].scatter(X[50:100],Y[50:100],
                               marker='o',c='r',label='versicolor')
        axes[i%3][i%2].scatter(X[100:],Y[100:],
                               marker='*',c='g',label='virginica')
        axes[i%3][i%2].set_xlabel(feature_name[x],fontsize = 10)
        axes[i%3][i%2].set_ylabel(feature_name[y],fontsize = 10)
        axes[i%3][i%2].legend(loc='best')
        i += 1

plt.show()


# 使用pandas
data = pd.read_csv('datasets/iris.csv',header=None)
#特征名称
feature_name = ['sepal length','sepal width','petal length','petal width']
#绘制figure，3x2个子图，figure大小为(20,10)
fig,axes = plt.subplots(3,2,figsize=(20,10))
# 为在Matplotlib中显示中文，设置特殊字体
plt.rcParams['font.sans-serif']=['SimHei']
#设置总标题
fig.suptitle('鸢尾花散点图',fontsize=25)

#获取不同的特征组合，两两组合绘制散点图。
i = 0
for x in range(data.columns.size - 1):
    for y in range(x+1,data.columns.size-1):
        X = data.iloc[:,x].values 
        Y = data.iloc[:,y].values
        axes[i%3][i%2].scatter(X[:50],Y[:50],
                               marker='x',c='b',label='setosa')
        axes[i%3][i%2].scatter(X[50:100],Y[50:100],
                               marker='o',c='r',label='versicolor')
        axes[i%3][i%2].scatter(X[100:],Y[100:],
                               marker='*',c='g',label='virginica')
        axes[i%3][i%2].set_xlabel(feature_name[x],fontsize = 10)
        axes[i%3][i%2].set_ylabel(feature_name[y],fontsize= 10)
        axes[i%3][i%2].legend(loc='best')
        i += 1

plt.show()


# 1.2.6 条形图和直方图
# 条形图
objects = ('Python', 'C++', 'Java', 'Perl', 'Scala', 'Lisp')
y_pos = np.arange(len(objects))
performance = [10,8,6,4,2,1]

plt.bar(y_pos, performance, align='center', alpha=0.5)
plt.xticks(y_pos, objects)
plt.ylabel('用户量')
plt.title('数据分析程序语言使用分布情况')

plt.show()


# 水平条形图
objects = ('Python', 'C++', 'Java', 'Perl', 'Scala', 'Lisp')
y_pos = np.arange(len(objects))
performance = [10,8,6,4,2,1]

#修改：填充色为黑色，融合标签标签在参数中
plt.barh(y_pos, performance, align='center', alpha = 0.5, color = 'k', 
        tick_label = objects)
#修改X轴的标题
plt.xlabel('用户量')
plt.title('数据分析程序语言使用分布情况')

plt.show()


# 叠加条形图
plt.rcParams['font.sans-serif']=['SimHei']

# 用于绘制图形的数据
n_groups = 4
means_frank = (90, 55, 40, 65)
means_guido = (85, 62, 54, 20)

# 创建图形
fig, ax = plt.subplots()

#定义条形图在横坐标上的分类位置
index = np.arange(n_groups)

bar_width = 0.35
opacity = 0.8
#画第一个条形图
rects1 = plt.bar(index,      #定义第一个条形图的X坐标信息
                 means_frank, #定义第一个条形图的Y轴信息
                 bar_width,   #定义条形图的宽度
                 alpha = opacity,    #定义图形透明度
                 color ='b',      #定义图形颜色为蓝色（blue）
                 label = '张三')    #定义第一个条形图的标签信息
#画第二个条形图
rects2 = plt.bar(index, # 与第一个条形图在X周上无缝“肩并肩”
                 means_guido, 
                 bar_width,
                 bottom = means_frank,
                    alpha = opacity,
                    color = 'g',       #定义第二个图形演示为绿色（green）
                    label = '李四') #定义第二个条形图的标签信息

plt.xlabel('课程')
plt.ylabel('分数')
plt.title('分数对比图')
plt.xticks(index + bar_width, ('A', 'B', 'C', 'D'))
plt.legend()
plt.show()


# 并列条形图
plt.rcParams['font.sans-serif']=['SimHei']

# 用于绘制图形的数据
n_groups = 4
means_frank = (90, 55, 40, 65)
means_guido = (85, 62, 54, 20)

# 创建图形
fig, ax = plt.subplots()

#定义条形图在横坐标上的分类位置
index = np.arange(n_groups)

bar_width = 0.35
opacity = 0.8
#画第一个条形图
rects1 = plt.bar(index,      #定义第一个条形图的X坐标信息
                 means_frank, #定义第一个条形图的Y轴信息
                 bar_width,   #定义条形图的宽度
                 alpha = opacity,    #定义图形透明度
                 color="w",edgecolor="k",
                 hatch='.....',
                 label = '张三')    #定义第一个条形图的标签信息
#画第二个条形图
rects2 = plt.bar(index + bar_width, # 与第一个条形图在X周上无缝“肩并肩”
                means_guido, 
                 bar_width,
                    alpha = opacity,
                 color="w",edgecolor="k",
                 hatch='\\\\',
                    label = '李四') #定义第二个条形图的标签信息

plt.xlabel('课程')
plt.ylabel('分数')
plt.title('分数对比图')
plt.xticks(index + bar_width, ('A', 'B', 'C', 'D'))
plt.legend()
plt.show()


# 叠加条形图
plt.rcParams['font.sans-serif']=['SimHei']

# 用于绘制图形的数据
n_groups = 4
means_frank = (90, 55, 40, 65)
means_guido = (85, 62, 54, 20)

# 创建图形
fig, ax = plt.subplots()

#定义条形图在横坐标上的分类位置
index = np.arange(n_groups)

bar_width = 0.35
opacity = 0.8
#画第一个条形图
rects1 = plt.bar(index,      #定义第一个条形图的X坐标信息
                 means_frank, #定义第一个条形图的Y轴信息
                 bar_width,   #定义条形图的宽度
                 alpha = opacity,    #定义图形透明度
                 color="w",edgecolor="k",
                 hatch='.....',
                 label = '张三')    #定义第一个条形图的标签信息
#画第二个条形图
rects2 = plt.bar(index, # 与第一个条形图在X周上无缝“肩并肩”
                means_guido, 
                 bar_width,
                 bottom = means_frank,
                alpha = opacity,
                 color="w",edgecolor="k",
                 hatch=r'\\\\',
                label = '李四') #定义第二个条形图的标签信息

plt.xlabel('课程')
plt.ylabel('分数')
plt.title('分数对比图')
plt.xticks(index, ('A', 'B', 'C', 'D'))
plt.legend()
plt.show()


# 频率直方图
mu = 100
sigma = 15
x = mu + sigma * np.random.randn(200)
num_bins = 25
plt.figure(figsize=(9, 6), dpi=100)

n,bins,patches = plt.hist(x, num_bins, 
                          color="w", edgecolor="k",
                          hatch=r'ooo',
                          density = 1,
                          label = '频率',
                          histtype  = 'barstacked'
                          )

y = ((1 / (np.sqrt(2 * np.pi) * sigma)) *
     np.exp(-0.5 * (1 / sigma * (bins - mu))**2))
 
plt.plot(bins, y, '--',label='概率密度函数')
plt.rcParams['font.sans-serif']=['SimHei']
plt.xlabel('聪明度')
plt.ylabel('概率密度')
plt.title('IQ直方图:$\mu=100$,$\sigma=15$')

plt.legend()
plt.show()   


# 利用hist()返回值美化直方图
np.random.seed(0)
x = np.random.normal(0, 1, 5000) # 生成符合正态分布的5000个随机样本
plt.figure(figsize=(14,7)) #设置图片大小 14x7 inch
plt.style.use('seaborn-whitegrid') # 设置绘图风格
n, bins, patches = plt.hist(x, bins=90, facecolor = '#2ab0ff', 
                            edgecolor='#169acf', linewidth=0.5)
n = n.astype('int') # 返回值n必须是整型
# 设置显式中文的字体
plt.rcParams['font.sans-serif']=['SimHei']
plt.rcParams['axes.unicode_minus'] = False   # 显式负号'-'
#为每个条形图设置颜色
for i in range(len(patches)):
    patches[i].set_facecolor(plt.cm.viridis(n[i]/max(n)))
#对某个特定条形（如第70个）做特别说明   
patches[49].set_fc('red') # 设置颜色
patches[49].set_alpha(1) # 设置透明度
#添加注释
plt.annotate('这是一个重要条形!', xy=(0.5, 160), xytext=(1.5, 130), fontsize=15, 
             arrowprops={'width':0.4,'headwidth':5,'color':'#333333'})
# 设置X和Y轴标题和字体大小
plt.title('正态分布', fontsize=12)
plt.xlabel('不同的间隔（bins）', fontsize=10)
plt.ylabel('频度大小', fontsize=10)
plt.show()


# 1.2.7 饼图
# 为在Matplotlib中显示中文，设置特殊字体
plt.rcParams['font.sans-serif']=['SimHei']
#为图片设置大小和分辨率
plt.figure(figsize = (9, 6), dpi = 100)
x = [217,743,426]
labels = ['走路去','自行车','公交车']
explode = [0,0.05,0]

_, _, autotexts = plt.pie(x = x,labels = labels,shadow = 1,
                          autopct = '%.1f%%',explode = explode)
#将饼状图中的字体改成白色
for autotext in autotexts:
    autotext.set_color('white')

plt.title('3种去学校的方式')
plt.show()


# 箱线图
data = []
with open('datasets/iris.csv','r') as file :
    lines = file.readlines() #读取数据行的数据
    for line in lines:        #对于每行数据进行分析
        temp = line.split(',')
        data.append(temp)
        
#转换为Numpy数组，方便后续处理
data_np = np.array(data)
#不读取最后一列，并将数值部分转换为浮点数
data_np = np.array(data_np[:,:-1]).astype(float)

#特征名称
labels = ['sepal length','sepal width','petal length','petal width']
plt.boxplot(data_np,labels=labels)
plt.show()


# 1.2.8 误差条
#正确显示负号
plt.rcParams['axes.unicode_minus'] = False
#生成正弦曲线
x = np.linspace(-math.pi, math.pi, num = 48)
y = np.sin(x + 0.05 * np.random.standard_normal(len(x)))
y_error = 0.1 * np.random.standard_normal(len(x))

 #Axis setup
fig = plt.figure()
axis = fig.add_subplot(111) 

#绘制图形
axis.set_ylim(-0.5 * math.pi, 0.5 * math.pi)    #Set the y-axis view limits.
#plt.figure(figsize=(9, 6), dpi=100)
plt.plot(x, y, 'r--', label= 'sin(x)')
plt.errorbar(x, y, yerr = y_error,fmt='o')

plt.legend(loc = 'best')
plt.show()


# 1.2.9 绘制三维图形
fig = plt.figure(figsize=(20,10))

#绘制三维曲线图
ax1 = fig.add_subplot(221,projection='3d')
theta = np.linspace(-4*np.pi,4*np.pi,500)
z = np.linspace(-2,2,500)
r = z**2 + 1
x = r*np.sin(theta)
y = r*np.cos(theta)
#方法与绘制二维曲线图相同
ax1.plot(x,y,z)
ax1.set_xlabel('x',fontsize=15)
ax1.set_ylabel('y',fontsize=15)
ax1.set_zlabel('z',fontsize=15)

#绘制三维点图
ax2 = fig.add_subplot(222,projection='3d')
x = np.random.randn(500)
y = np.random.randn(500)
z = np.random.randn(500)
#方法同二维散点图
ax2.scatter(x,y,z,c='r')
ax2.set_xlabel('x',fontsize=15)
ax2.set_ylabel('y',fontsize=15)
ax2.set_zlabel('z',fontsize=15)

#绘制三维曲面图
ax3 = fig.add_subplot(223,projection='3d')
x = np.linspace(-2,2,500)
y = np.linspace(-2,2,500)
x,y = np.meshgrid(x,y)
z = np.sqrt(x**2 + y**2)
ax3.plot_surface(x,y,z,cmap=plt.cm.winter)
ax3.set_xlabel('x',fontsize=15)
ax3.set_ylabel('y',fontsize=15)
ax3.set_zlabel('z',fontsize=15)

#绘制三维柱状图
ax4 = fig.add_subplot(224,projection='3d')
for z in np.arange(0,40,10):
    x = np.arange(20)
    y = np.random.rand(20)
    ax4.bar(x,y,zs=z,zdir='y')
ax4.set_xlabel('x',fontsize=15)
ax4.set_ylabel('y',fontsize=15)
ax4.set_zlabel('z',fontsize=15)

plt.show()


import seaborn as sns
sns.set(style="ticks")

iris = pd.read_csv('datasets/iris.csv',header=None)
iris.columns=['sepal_length','sepal_width',
              'petal_length','petal_width','species']

sns.pairplot(iris,hue="species",diag_kind="kde",
             palette="muted")
plt.show()


# 1.2.10 与pandas协作绘图
plt.figure(figsize=(40,20),dpi = 150)
wine = pd.read_csv('datasets/wine.csv')
wine_corr = wine.corr()
plt.figure(figsize=(20,10))
sns.heatmap(wine_corr,annot=True,square=True,fmt='.2f')
plt.show()


# 流感趋势数据分析
import pandas as pd
from datetime import datetime
from matplotlib import style
df = pd.read_csv('datasets/us.csv')
df.head()
# df.dtypes
df['Date'] = df['Date'].map(lambda x : datetime.strptime(str(x), '%Y/%m/%d'))
df.head()
# 重新加载数据
df = pd.read_csv('datasets/us.csv')
df['Date'] = pd.to_datetime(df['Date'])
df.set_index(['Date'], inplace = True)
df.head()


# 另一种更简单的方法
df = pd.read_csv('datasets/us.csv', parse_dates = True, index_col = [0])
df.head
df.plot()


style.use('ggplot')
df.Illinois.plot()
plt.show()


# 添加标签
style.use('default')
df.Illinois.plot(label = "Illinois")
df['Idaho'].plot(label = 'Idaho')
plt.legend(loc = 'best')
plt.show()


# 设置曲线的风格
df_temp = df[['Illinois', 'Idaho', 'Indiana']]
style = ['bs-', 'ro-', 'y^-']  #设置不同的曲线风格
linewidths = [2, 1, 1]
labels = ['Illinois', 'Idaho', 'Indiana']
fig, ax = plt.subplots()
for col, style, lw, label in zip(df_temp.columns, styles, linewidths, labels):
    df_temp[col].plot(style = style, lw = lw, ax = ax, label = label)
plt.legend(loc = 'best')
plt.show()


# 使用pandas绘制条形图
# style.use('default')
df.Illinois.plot(kind = 'bar', label = "Illinois")
plt.legend(loc = 'best')
plt.show()


# 使用pandas绘制面积图
# style.use('default')
df.Illinois.plot(kind = 'area', label = "Illinois")
plt.legend(loc = 'best')
plt.show()


# 基于条件判断的图形绘制
df[[state for state in df.columns if state[0] == 'M']].plot()
df[[state for state in df.columns if state[0] == 'M']].plot(kind = 'area')
a = list(filter(lambda x : str(x)[0] == 'M', df.columns.values))
df[a].plot(kind = 'box')


# 绘制多个子图
df[a].plot(subplots = True, figsize = (15, 20))
df[a].plot(subplots = True, figsize = (15, 10), layout = (3, 4))


#方案1：利用pandas读取数据
#sns.set(style = "ticks")
#iris = pd.read_csv('iris.csv', header = None)
#
#iris.columns=['sepal_length','sepal_width','petal_length','petal_width','species']
#
#sns.boxplot(x = iris['sepal_length'], data = iris)
#plt.show()

# 方案2：用Seaborn导入数据
df = sns.load_dataset('datasets/sets/iris')
 
# 绘制一维箱体图
sns.boxplot( x = df["sepal_length"] )
#plt.show()


#用来正常显示中文标签
plt.rcParams['font.sans-serif']=['SimHei'] 
#导入数据集合
df = sns.load_dataset("iris")
#设置x轴、y轴及数据源
ax = sns.boxplot(x = "species", y = "sepal_length", data=df)
 
# 计算每组的数据量和中位数显示的位置

#medians = df.groupby(['species'])['sepal_length'].median().values #和下面的语句等价

medians = df.pivot_table(index="species", values="sepal_length",aggfunc="median").values

#形成要显示的文本：每个子类的数量
nobs = df['species'].value_counts().values
nobs = [str(x) for x in nobs.tolist()]
nobs = ["数量: " + i for i in nobs]
 
# 设置要显示的箱体图的数量
pos = range(len(nobs))
#将文本分别显示在中位数线条的上方
for tick,label in zip(pos, ax.get_xticklabels()):
    ax.text(pos[tick], medians[tick] + 0.03, nobs[tick],
            horizontalalignment='center', size='x-small',
            color='w', weight='semibold')

plt.show()


#导入数据集合
df = sns.load_dataset("datasets/iris")
fig,axes=plt.subplots(1,2,sharey = True) #一行两列共两个子图
sns.boxplot(x = "species",y = "petal_width",data = df,ax = axes[0]) #左图
#sns.boxplot(x = "species",y = "petal_width",data = df, palette="Set3", ax = axes[1]) #右图
sns.boxplot(x = "species",y = "petal_length",data = df, palette="Set2", ax = axes[1]) #右图


#导入数据集合
df = sns.load_dataset("iris")
fig,axes=plt.subplots(2,1) #2行1列共两个子图
sns.boxplot(x = "species",y = "petal_width",data = df, orient="v", ax = axes[0]) #上子图垂直显示
sns.boxplot(y = "species",x = "petal_length",data = df, orient="h", palette="Set2", ax = axes[1]) #下子图水平显示


iris = pd.read_csv("datasets/iris.csv")
iris.columns=['sepal_length','sepal_width','petal_length','petal_width','species']
# 绘图
plt.figure(dpi = 200)
#sns.violinplot(x='species', y = 'sepal_length', data = iris, scale='width', inner='quartile')
sns.violinplot(x='species', y = 'sepal_length', data = iris, split = True, scale='width', inner="box")
# 输出显示
plt.title('Violin Plot', fontsize=10)
plt.show()


iris = pd.read_csv("datasets/iris.csv")
iris.columns=['sepal_length','sepal_width','petal_length','petal_width','species']

# 绘图设置
fig, axes = plt.subplots(2, 2, figsize=(7, 5), sharex=True)

sns.violinplot(x = 'species', y = 'sepal_length', 
               data = iris, split = True, 
               scale='width', inner="box", 
               ax = axes[0, 0])
sns.violinplot(x = 'species', y = 'sepal_width', 
               data = iris, split = True, scale='width', 
               inner="box", 
               ax = axes[0, 1])
sns.violinplot(x = 'species', y = 'petal_length', 
               data = iris, split = True, scale='width', 
               inner="box", 
               ax = axes[1, 0])
sns.violinplot(x = 'species', 
               y = 'petal_width', 
               data = iris, split = True, 
               scale='width', inner="box", 
               ax = axes[1, 1])
# 输出显示
plt.setp(axes, yticks=[])
plt.tight_layout()


#用来正常显示中文标签
plt.rcParams['font.sans-serif']=['SimHei'] 
# 导入数据
iris = pd.read_csv("datasets/iris.csv")
iris.columns=['sepal_length','sepal_width','petal_length','petal_width','species']

#plt.figure(figsize=(16,10), dpi= 80)
#绘图
sns.kdeplot(iris.loc[iris['species'] == 'Iris-versicolor', 'sepal_length'],
             shade=False, vertical = True, color="g", label="Iris-versicolor", alpha=.7)

sns.kdeplot(iris.loc[iris['species'] == 'Iris-virginica', 'sepal_length'],
             shade=False, vertical = True, color="deeppink", label="Iris-virginica", alpha=.7)

sns.kdeplot(iris.loc[iris['species'] == 'Iris-setosa', 'sepal_length'],
             shade=False, vertical = True, color="dodgerblue", label="Iris-setosa", alpha=.7)

# Decoration
plt.title('鸢尾花花瓣长度的密度图', fontsize=16)
plt.legend()
plt.show()


import matplotlib.pyplot as plt
import numpy as np

# Fixing random state for reproducibility
np.random.seed(19680801)

dt = 0.01
t = np.arange(0, 30, dt)
nse1 = np.random.randn(len(t))                 # white noise 1
nse2 = np.random.randn(len(t))                 # white noise 2

# Two signals with a coherent part at 10 Hz and a random part
s1 = np.sin(2 * np.pi * 10 * t) + nse1
s2 = np.sin(2 * np.pi * 10 * t) + nse2

fig, axs = plt.subplots(2, 1, layout='constrained')
axs[0].plot(t, s1, t, s2)
axs[0].set_xlim(0, 2)
axs[0].set_xlabel('Time (s)')
axs[0].set_ylabel('s1 and s2')
axs[0].grid(True)

cxy, f = axs[1].cohere(s1, s2, 256, 1. / dt)
axs[1].set_ylabel('Coherence')

plt.show()



