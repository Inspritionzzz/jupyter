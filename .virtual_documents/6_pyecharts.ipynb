from pyecharts.charts import Bar
from pyecharts import options as opts

from pyecharts.charts import Bar
from pyecharts.options import TitleOpts

# jupyter nbextension enable --py widgetsnbextension
# 准备数据
categories = ["1月", "2月", "3月", "4月", "5月"]
values = [120, 240, 180, 90, 300]

# 创建柱状图对象
bar = Bar()

# 添加数据
bar.add_xaxis(categories)
bar.add_yaxis("销售额（万元）", values)

# 设置全局配置
bar.set_global_opts(
    title_opts=opts.TitleOpts(title="月度销售额柱状图"),  # 标题
    xaxis_opts=opts.AxisOpts(name="月份"),              # X轴名称
    yaxis_opts=opts.AxisOpts(name="销售额")            # Y轴名称
)

# 生成HTML文件（默认保存在当前目录）
bar.render("basic_bar.html")


from pyecharts.charts import Bar
from pyecharts import options as opts

# 准备数据
x_data = ["衬衫", "羊毛衫", "雪纺衫", "裤子", "高跟鞋", "袜子"]
y_data = [5, 20, 36, 10, 75, 90]

# 创建柱状图对象
bar = (
    Bar()
    .add_xaxis(x_data)
    .add_yaxis("商品销量", y_data)
    .set_global_opts(
        title_opts=opts.TitleOpts(title="商品销售柱状图"),
        toolbox_opts=opts.ToolboxOpts(is_show=True)
    )
)

# 在 Jupyter Notebook 中渲染图表
bar.render_notebook()


import matplotlib.pyplot as plt

fig, ax = plt.subplots()

fruits = ['apple', 'blueberry', 'cherry', 'orange']
counts = [40, 100, 30, 55]
bar_labels = ['red', 'blue', '_red', 'orange']
bar_colors = ['tab:red', 'tab:blue', 'tab:red', 'tab:orange']

ax.bar(fruits, counts, label=bar_labels, color=bar_colors)

ax.set_ylabel('fruit supply')
ax.set_title('Fruit supply by kind and color')
ax.legend(title='Fruit color')

plt.show()



