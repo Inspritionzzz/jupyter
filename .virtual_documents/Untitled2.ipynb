import numpy as np
import pandas as pd
import seaborn as sns
from matplotlib import pyplot as plt


pd.set_option('display.max_columns', None)
pd.set_option('display.max_rows', None)
pd.set_option('display.float_format', lambda x: '%.3f' % x)
pd.set_option('display.width', 500)

import warnings
warnings.filterwarnings("ignore")


df = pd.read_csv("./datasets/hr信息导入和数据清洗.csv")
df.info()






