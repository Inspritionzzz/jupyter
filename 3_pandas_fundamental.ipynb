{
 "cells": [
  {
   "cell_type": "code",
   "execution_count": 1,
   "id": "92866299-cdbc-46e4-a6ca-bce5b87344a9",
   "metadata": {},
   "outputs": [],
   "source": [
    "import pandas as pd\n",
    "import numpy as np"
   ]
  },
  {
   "cell_type": "code",
   "execution_count": 2,
   "id": "9212bf5d",
   "metadata": {},
   "outputs": [
    {
     "name": "stdout",
     "output_type": "stream",
     "text": [
      "1.5.3\n"
     ]
    }
   ],
   "source": [
    "print(pd.__version__)\n",
    "# pandas两种常用的数据处理结构: Seris/DataFrame/Panel"
   ]
  },
  {
   "cell_type": "code",
   "execution_count": 3,
   "id": "353e34dc-4451-4b56-be3e-1a034d510dff",
   "metadata": {},
   "outputs": [
    {
     "name": "stdout",
     "output_type": "stream",
     "text": [
      "0     2\n",
      "1     0\n",
      "2    -4\n",
      "3    12\n",
      "dtype: int64\n",
      "[ 2  0 -4 12]\n",
      "RangeIndex(start=0, stop=4, step=1)\n",
      "a   -0.497363\n",
      "b    0.564543\n",
      "c   -0.380463\n",
      "d    0.161564\n",
      "e   -1.946230\n",
      "dtype: float64\n",
      "[-0.49736328  0.56454315 -0.3804627   0.16156376 -1.94622997]\n",
      "Index(['a', 'b', 'c', 'd', 'e'], dtype='object')\n",
      "A   -0.497363\n",
      "B    0.564543\n",
      "C   -0.380463\n",
      "D    0.161564\n",
      "E   -1.946230\n",
      "dtype: float64\n",
      "a    1\n",
      "b    2\n",
      "c    3\n",
      "d    4\n",
      "dtype: int64\n",
      "count    4.000000\n",
      "mean     2.500000\n",
      "std      1.290994\n",
      "min      1.000000\n",
      "25%      1.750000\n",
      "50%      2.500000\n",
      "75%      3.250000\n",
      "max      4.000000\n",
      "dtype: float64\n"
     ]
    }
   ],
   "source": [
    "# 1.1 series\n",
    "arr1 = pd.Series([2, 0, -4, 12])  # 创建一个Series对象,Series内部数据类型必须相同\n",
    "print(arr1)\n",
    "print(arr1.values)\n",
    "print(arr1.index)\n",
    "arr2 = pd.Series(np.random.randn(5), index = ['a', 'b', 'c', 'd', 'e'])  # 指定索引\n",
    "print(arr2)\n",
    "print(arr2.values)\n",
    "print(arr2.index)\n",
    "arr2.index = ['A', 'B', 'C', 'D', 'E']\n",
    "print(arr2)\n",
    "dict = {'a': 1, 'b': 2, 'c': 3, 'd': 4}\n",
    "print(pd.Series(dict))  # 使用字典生成时无需设置索引\n",
    "print(pd.Series(dict).describe())  # 对数值列进行统计"
   ]
  },
  {
   "cell_type": "code",
   "execution_count": 4,
   "id": "6b904715-6ac8-4c41-93df-3d4d5df877ce",
   "metadata": {},
   "outputs": [],
   "source": [
    "# 1.2 Series中的数据访问"
   ]
  },
  {
   "cell_type": "code",
   "execution_count": 5,
   "id": "969b1b41-57ad-4698-8eba-47c7dc7e144f",
   "metadata": {},
   "outputs": [
    {
     "name": "stdout",
     "output_type": "stream",
     "text": [
      "beijing       NaN\n",
      "shanghai     10.0\n",
      "henan        10.0\n",
      "guangdong    20.0\n",
      "Name: location, dtype: float64\n",
      "20.0\n",
      "nan\n",
      "beijing       NaN\n",
      "guangdong    20.0\n",
      "Name: location, dtype: float64\n",
      "shanghai     10.0\n",
      "guangdong    20.0\n",
      "beijing       NaN\n",
      "Name: location, dtype: float64\n",
      "0    1\n",
      "1    2\n",
      "2    3\n",
      "0    4\n",
      "1    5\n",
      "2    6\n",
      "dtype: int64\n",
      "0    1\n",
      "1    2\n",
      "2    3\n",
      "3    4\n",
      "4    5\n",
      "5    6\n",
      "dtype: int64\n"
     ]
    },
    {
     "name": "stderr",
     "output_type": "stream",
     "text": [
      "C:\\Users\\jason\\AppData\\Local\\Temp\\ipykernel_3484\\2523969469.py:11: FutureWarning: The series.append method is deprecated and will be removed from pandas in a future version. Use pandas.concat instead.\n",
      "  print(arr5.append(arr6))  # 拼接产生重复索引\n",
      "C:\\Users\\jason\\AppData\\Local\\Temp\\ipykernel_3484\\2523969469.py:12: FutureWarning: The series.append method is deprecated and will be removed from pandas in a future version. Use pandas.concat instead.\n",
      "  print(arr5.append(arr6, ignore_index=True))\n"
     ]
    }
   ],
   "source": [
    "arr3 = {\"beijing\": 10, \"shanghai\": 10, \"henan\": 10, \"guangdong\": 20, \"beijing\": None}\n",
    "print(pd.Series(arr3, name=\"location\"))\n",
    "print(pd.Series(arr3, name=\"location\")[3])\n",
    "print(pd.Series(arr3, name=\"location\")[\"beijing\"])\n",
    "arr4 = pd.Series(arr3, name=\"location\")\n",
    "print(arr4[[\"beijing\", \"guangdong\"]])\n",
    "print(arr4[[1, 3, 0]])  # 以乱序访问\n",
    "\n",
    "arr5 = pd.Series([1, 2, 3])\n",
    "arr6 = pd.Series([4, 5, 6])\n",
    "print(arr5.append(arr6))  # 拼接产生重复索引\n",
    "print(arr5.append(arr6, ignore_index=True))"
   ]
  },
  {
   "cell_type": "code",
   "execution_count": 6,
   "id": "61af42c3-068e-492d-8c76-47ed0b12d89b",
   "metadata": {},
   "outputs": [
    {
     "name": "stdout",
     "output_type": "stream",
     "text": [
      "0    2.0\n",
      "1    4.0\n",
      "2    6.0\n",
      "3    NaN\n",
      "dtype: float64\n",
      "0    2.0\n",
      "1    4.0\n",
      "2    6.0\n",
      "3    NaN\n",
      "dtype: float64\n",
      "0    False\n",
      "1    False\n",
      "2     True\n",
      "3    False\n",
      "dtype: bool\n",
      "2    3.0\n",
      "dtype: float64\n",
      "a    0.204888\n",
      "b   -0.449918\n",
      "c   -1.038945\n",
      "d   -1.077378\n",
      "e    1.113225\n",
      "dtype: float64\n",
      "a    0.041979\n",
      "b    0.202426\n",
      "c    1.079406\n",
      "d    1.160744\n",
      "e    1.239271\n",
      "dtype: float64\n",
      "a    0.204888\n",
      "b    0.449918\n",
      "c    1.038945\n",
      "d    1.077378\n",
      "e    1.113225\n",
      "dtype: float64\n",
      "b   -0.449918\n",
      "c   -1.038945\n",
      "dtype: float64\n",
      "b   -0.449918\n",
      "c   -1.038945\n",
      "dtype: float64\n"
     ]
    }
   ],
   "source": [
    "# 1.3 Series中的向量化操作与布尔索引\n",
    "arr7 = pd.Series([1, 2, 3, None])\n",
    "print(arr7 * 2)\n",
    "print(arr7 + arr7)\n",
    "print(arr7 > arr7.median())  # 判断元素是否大于所有数据的中位数\n",
    "print(arr7[arr7 > arr7.median()])  # 抽取特定数据\n",
    "arr8 = pd.Series(np.random.randn(5), index=['a','b','c','d','e'])\n",
    "print(arr8)\n",
    "print(np.square(arr8))  # 对每个元素求平方\n",
    "print(np.abs(arr8))  # 对每个元素求绝对值\n",
    "print(arr8[1: 3])  # 切片,左闭右开\n",
    "print(arr8[\"b\": \"c\"])  # 切片,左闭右闭"
   ]
  },
  {
   "cell_type": "code",
   "execution_count": 7,
   "id": "c4de071e-0ad1-4bd8-bfa2-4e45fda09bc7",
   "metadata": {},
   "outputs": [
    {
     "name": "stdout",
     "output_type": "stream",
     "text": [
      "a    1.0\n",
      "b    2.0\n",
      "c    3.0\n",
      "d    NaN\n",
      "dtype: float64\n",
      "a    False\n",
      "b    False\n",
      "c    False\n",
      "d     True\n",
      "dtype: bool\n",
      "a     True\n",
      "b     True\n",
      "c     True\n",
      "d    False\n",
      "dtype: bool\n",
      "a    False\n",
      "b    False\n",
      "c    False\n",
      "d     True\n",
      "dtype: bool\n",
      "d   NaN\n",
      "dtype: float64\n",
      "d   NaN\n",
      "dtype: float64\n"
     ]
    }
   ],
   "source": [
    "# 1.4 Seris中的缺失值\n",
    "temp = np.array([1, 2, 3, np.nan])\n",
    "arr9 = pd.Series(temp, index=['a', 'b', 'c', 'd'])\n",
    "print(arr9)\n",
    "print(arr9.isnull())\n",
    "print(arr9.notnull())\n",
    "print(pd.isnull(arr9))\n",
    "print(arr9[arr9.isnull() == True])\n",
    "print(arr9[arr9.notnull() == False])"
   ]
  },
  {
   "cell_type": "code",
   "execution_count": 8,
   "id": "f01b1133-490c-47a1-8ccf-8118044a0da7",
   "metadata": {},
   "outputs": [
    {
     "name": "stdout",
     "output_type": "stream",
     "text": [
      "0     2\n",
      "1     0\n",
      "2    -4\n",
      "3    12\n",
      "dtype: int64\n",
      "1     0\n",
      "2    -4\n",
      "3    12\n",
      "dtype: int64\n",
      "0     2\n",
      "1     0\n",
      "2    -4\n",
      "3    12\n",
      "dtype: int64\n",
      "2    -4\n",
      "3    12\n",
      "dtype: int64\n",
      "None\n",
      "1     0\n",
      "2    -4\n",
      "3    12\n",
      "dtype: int64\n",
      "1     0.000000\n",
      "2    -4.000000\n",
      "3    12.000000\n",
      "0     0.109656\n",
      "1     0.515778\n",
      "2     0.984364\n",
      "dtype: float64\n",
      "0     0.000000\n",
      "1    -4.000000\n",
      "2    12.000000\n",
      "3     0.109656\n",
      "4     0.515778\n",
      "5     0.984364\n",
      "dtype: float64\n",
      "label\n",
      "0    0.109656\n",
      "1    0.515778\n",
      "2    0.984364\n",
      "Name: title, dtype: float64\n"
     ]
    },
    {
     "name": "stderr",
     "output_type": "stream",
     "text": [
      "C:\\Users\\jason\\AppData\\Local\\Temp\\ipykernel_3484\\1651780994.py:10: FutureWarning: The series.append method is deprecated and will be removed from pandas in a future version. Use pandas.concat instead.\n",
      "  print(arr10.append(arr11))  # 不会改变索引\n",
      "C:\\Users\\jason\\AppData\\Local\\Temp\\ipykernel_3484\\1651780994.py:11: FutureWarning: The series.append method is deprecated and will be removed from pandas in a future version. Use pandas.concat instead.\n",
      "  print(arr10.append(arr11, ignore_index=True))  # 索引重构\n"
     ]
    }
   ],
   "source": [
    "# 1.5 Seris的删除与添加操作, name属性\n",
    "arr10 = pd.Series([2, 0, -4, 12])\n",
    "print(arr10)\n",
    "print(arr10.drop(0))\n",
    "print(arr10)  # 并不会在原数组真的删除\n",
    "print(arr10.drop([0, 1]))\n",
    "print(arr10.drop(0, inplace=True))  # 设置参数,真的删除\n",
    "print(arr10)\n",
    "arr11 = pd.Series(np.random.rand(3))\n",
    "print(arr10.append(arr11))  # 不会改变索引\n",
    "print(arr10.append(arr11, ignore_index=True))  # 索引重构\n",
    "arr11.name = 'title'\n",
    "arr11.index.name = 'label'\n",
    "print(arr11)"
   ]
  },
  {
   "cell_type": "code",
   "execution_count": 9,
   "id": "46e0ddcc-858a-45f9-b99d-f1fd5608ea50",
   "metadata": {},
   "outputs": [
    {
     "name": "stdout",
     "output_type": "stream",
     "text": [
      "         senrences\n",
      "0      just a test\n",
      "1    just two test\n",
      "2  just three test\n",
      "   one  two  three\n",
      "0    1    4      7\n",
      "1    2    5      8\n",
      "2    3    6      9\n",
      "   0  1  2\n",
      "0  9  3  4\n",
      "1  2  9  7\n",
      "2  1  8  5\n"
     ]
    },
    {
     "ename": "NameError",
     "evalue": "name 'df4' is not defined",
     "output_type": "error",
     "traceback": [
      "\u001b[1;31m---------------------------------------------------------------------------\u001b[0m",
      "\u001b[1;31mNameError\u001b[0m                                 Traceback (most recent call last)",
      "Cell \u001b[1;32mIn[9], line 11\u001b[0m\n\u001b[0;32m      9\u001b[0m df3 \u001b[38;5;241m=\u001b[39m pd\u001b[38;5;241m.\u001b[39mDataFrame(data)\n\u001b[0;32m     10\u001b[0m \u001b[38;5;28mprint\u001b[39m(df3) \n\u001b[1;32m---> 11\u001b[0m \u001b[38;5;28mprint\u001b[39m(\u001b[43mdf4\u001b[49m)\n\u001b[0;32m     12\u001b[0m \u001b[38;5;28mprint\u001b[39m(df4\u001b[38;5;241m.\u001b[39mindex)  \u001b[38;5;66;03m# 读取列名称\u001b[39;00m\n\u001b[0;32m     13\u001b[0m \u001b[38;5;28mprint\u001b[39m(df4\u001b[38;5;241m.\u001b[39mcolumns)  \u001b[38;5;66;03m# 读取列名称\u001b[39;00m\n",
      "\u001b[1;31mNameError\u001b[0m: name 'df4' is not defined"
     ]
    }
   ],
   "source": [
    "# 2.1 DataFrame类型\n",
    "# 2.2.1 构建DataFrame\n",
    "df1 = pd.DataFrame({'senrences': ['just a test', 'just two test', 'just three test']})\n",
    "print(df1)\n",
    "data = {'one':[1, 2, 3], 'two':[4, 5, 6], 'three': [7, 8, 9]}\n",
    "df2 = pd.DataFrame(data)\n",
    "print(df2)\n",
    "data = np.random.randint(1, 10, 9).reshape(3, 3)  # 左闭右开区间的离散均匀分布的随机整数;\n",
    "df3 = pd.DataFrame(data)\n",
    "print(df3) \n",
    "print(df4)\n",
    "print(df4.index)  # 读取列名称\n",
    "print(df4.columns)  # 读取列名称\n",
    "row1 = pd.Series(np.arange(3), index = ['one', 'two', 'three'])\n",
    "row2 = pd.Series(np.arange(3), index = ['a', 'b', 'c'])\n",
    "row1.name = 'Series1'\n",
    "row2.name = 'Series2'\n",
    "df5 = pd.DataFrame([row1, row2])  # 通过Series构建DataFrame\n",
    "print(df5)\n",
    "print(df5.T)  # 转置,不改变原DataFrame的值\n",
    "print(df5.transpose())  # 等价于df5.T"
   ]
  },
  {
   "cell_type": "code",
   "execution_count": null,
   "id": "50c10445-511c-4bf7-bc89-060c9c93839a",
   "metadata": {},
   "outputs": [],
   "source": [
    "# 2.2.2 访问DataFrame中的列与行\n",
    "df6 = pd.DataFrame(data, columns = ['one', 'two', 'thress'], index = ['a', 'b', 'c'])\n",
    "print(df6)\n",
    "print(df6.columns)  # 读取列名,返回的时index对象;\n",
    "print(df6.columns.values)  # 读区index对象的值;\n",
    "print(df6.columns.values[0])\n",
    "print(df6['one'])  # 获取一列数据;\n",
    "print(df6.one)  # 等价于上面的写法,注意这种写法对于列名不符合python命名规范的情况不适用;\n",
    "print(df6[['one', 'two']])  #访问多个列;\n",
    "print(df6[:1])  # 获取多行数据,左闭右开\n",
    "print(df6[0: 2])\n",
    "df6.index = ['aa', 'bb', 'cc']  # 修改行索引\n",
    "print(df6)\n",
    "print(df6.loc[['aa', 'bb']])  # 访问两行数据\n",
    "print(df6['a': 'b'])\n",
    "print(df6.iloc[:,1:])  # 获取所有行第一列之后的数据\n",
    "print(df6.iloc[1])  # 获取第一行的数据\n",
    "print(df6.iloc[0: 2])  # 返回连续行,等同于df6[0:2]\n",
    "print(df6.iloc[[0, 2]])  # 返回间隔行,返回第0行和第2行数据\n",
    "print(df6.iloc[2, 2])  # 获取第2行第2列的数据\n",
    "print(df6.iloc[0:2, 1:])  # 获取第0行,第1行,从第1列开始至最后1列的数据"
   ]
  },
  {
   "cell_type": "code",
   "execution_count": null,
   "id": "42fe95f0-60ab-43b0-9b64-007aed26dcba",
   "metadata": {},
   "outputs": [],
   "source": [
    "# 2.2.3 DataFrame中的删除操作\n",
    "data = {'one': [1, 2, 3],'two': [4, 5, 6],'three': [7, 8, 9]}\n",
    "df7 = pd.DataFrame(data)\n",
    "print(df7['three'])\n",
    "print(type(df7['three']))  # 验证数据类型为Series\n",
    "print(df7.drop('three', axis = 'columns'))  # 删除一列数据,等价于axis=1;\n",
    "print(df7)\n",
    "print(id(df7))\n",
    "df7 = df7.drop('three', axis = 1)\n",
    "print(id(df7))  # 删除操作前后df7地址不同\n",
    "df7 = pd.DataFrame(data)  # 复原\n",
    "df7.drop('three', axis = 1, inplace = True)  # 删除原始数据\n",
    "del df7['one']\n",
    "print(df7)\n",
    "df7 = pd.DataFrame(data)  # 复原\n",
    "df7.drop(0, axis = 0)  # 删除一行\n",
    "print(df7)\n",
    "df7.drop([0, 1], axis = 0)  # 删除一行"
   ]
  },
  {
   "cell_type": "code",
   "execution_count": null,
   "id": "f3d96a8d-c389-4254-b97b-ef3cdf945f42",
   "metadata": {},
   "outputs": [],
   "source": [
    "# 7.4.4 DataFrame中的轴方向\n",
    "df8 = pd.DataFrame(np.random.randint(10, size = (3, 2)), columns = list('AB'))\n",
    "print(df8)\n",
    "print(df8.max(axis = 1))  # 求水平方向的最大值,axis = 1等价于axis = 'columns'\n",
    "                          #                  axis = 0等价于axis = 'index'\n",
    "print(df8.max(axis = 'columns'))\n",
    "print(df8.max(axis = 0))\n",
    "print(df8.max(axis = 'index'))"
   ]
  },
  {
   "cell_type": "code",
   "execution_count": null,
   "id": "fdfc5eab-ffba-4433-ac2f-663d43477233",
   "metadata": {},
   "outputs": [],
   "source": [
    "# 7.4.5 DataFrame中的添加操作\n",
    "from numpy.random import randint\n",
    "df9 = pd.DataFrame(columns = ['属性1', '属性2', '属性3'])\n",
    "print(df9)\n",
    "for index in range(5):\n",
    "    df9.loc[index] = ['name ' + str(index)] + list(randint(10, size = 2))\n",
    "print(df9)\n",
    "df9.loc['new_row'] = 3\n",
    "print(df9)\n",
    "df9.loc['new_row2'] = ['name5', 11, 22]  # 添加一个新行\n",
    "print(df9)\n",
    "df10 = pd.DataFrame({'a': [1, 2, 3, 4], 'b': [5, 6, 7, 8]})\n",
    "df11 = pd.DataFrame({'a': [1, 2, 3], 'b': [5, 6, 7]})\n",
    "df10.append(df11)  # 矩阵叠加\n",
    "df10.append(df11, ignore_index = True)\n",
    "df12 = pd.DataFrame({'a': [1, 2, 3, 4], \n",
    "                     'b': [5, 6, 7, 8]})\n",
    "df13 = pd.DataFrame({'a': [1, 2, 3], \n",
    "                     'b': [5, 6, 7],\n",
    "                     'c': [7, 8, 9]})\n",
    "df12.append(df13, ignore_index = True)\n",
    "df14 = pd.DataFrame({'a': [1, 2, 3, 4],\n",
    "                     'b': [5, 6, 7, 8]})\n",
    "df14['new_col_1'] = 3  # 添加列,触发广播机制\n",
    "print(df14)\n",
    "df14['new_col_2'] =[1, 2, 3, 4]  # 要么1个要么行数匹配\n",
    "print(df14)\n",
    "df15 = pd.DataFrame([['a', 1], ['b', 2]], columns = ['letter', 'number'])\n",
    "df16 = pd.DataFrame([['c', 3], ['d', 4]], columns = ['letter', 'number'])\n",
    "print(df15)\n",
    "print(df16)\n",
    "pd.concat([df15, df16], axis = 1)  # 水平方向堆叠\n",
    "pd.concat([df15, df16], ignore_index = True, axis = 1)  # 水平方向堆叠,排除私人化索引"
   ]
  },
  {
   "cell_type": "code",
   "execution_count": null,
   "id": "6b473ea5-53ee-4027-a66e-aae49ed9a602",
   "metadata": {},
   "outputs": [],
   "source": [
    "# 7.5 基于pandas的文件读取和分析\n",
    "# 7.5.1 文件读取\n",
    "df17 = pd.read_csv('datasets/housing.csv')\n",
    "df17"
   ]
  },
  {
   "cell_type": "code",
   "execution_count": null,
   "id": "d5430333-a1eb-4a96-a893-f28c1d1c5d85",
   "metadata": {},
   "outputs": [],
   "source": [
    "# 7.5.2 DataFrame常用属性\n",
    "print(df17.dtypes)  # 查看各列的数据类型;\n",
    "print(df17['longitude'].dtype)\n",
    "print(df17[['longitude', 'latitude']].dtypes)\n",
    "print(df17.columns)\n",
    "print(df17.axes)  # 返回列标签和行标签\n",
    "print(df17.ndim)  # 返回DataFrame的维度\n",
    "print(df17.shape)  # 返回数据的维度信息\n",
    "print(df17.size)  # 返回DataFrame中的元素个数\n",
    "df17.values  # 返回数值部分"
   ]
  },
  {
   "cell_type": "code",
   "execution_count": null,
   "id": "c3842c92-c11a-41cf-91a7-ffec876caf22",
   "metadata": {},
   "outputs": [],
   "source": [
    "# 7.5.3 DataFrame常用方法\n",
    "df17.head()\n",
    "df17.head(10)\n",
    "df17.tail()\n",
    "df17.describe()  # 显示数据的计数,平均值,标准差,最大值,最小值及百分位数\n",
    "df17['total_rooms'].mean()  # 返回某列的均值\n",
    "df17['total_rooms'].median()  # 返回某列的中位数\n",
    "df17['total_rooms'].count()  # 计数\n",
    "df17.housing_median_age.value_counts()  # 分类统计\n",
    "df17.housing_median_age.value_counts(ascending = True)  # 分类统计,并排序\n",
    "df17.housing_median_age.value_counts(normalize = True, ascending = True)  # 分类统计,并统计占比"
   ]
  },
  {
   "cell_type": "code",
   "execution_count": null,
   "id": "a50f1f64-d3aa-4c94-83e5-80a5d9d2cca8",
   "metadata": {},
   "outputs": [],
   "source": [
    "# 7.5.4 DataFrame的条件过滤\n",
    "df17[df17.housing_median_age >= 40]\n",
    "df17[df17.housing_median_age >= 40].count()\n",
    "df17[df17.housing_median_age >= 40][df17.total_rooms >= 1000]\n",
    "df17[df17.housing_median_age >= 40][df17.total_rooms >= 1000].population.mean()"
   ]
  },
  {
   "cell_type": "code",
   "execution_count": null,
   "id": "ca364714-e574-4750-b2e4-a797afb68bcf",
   "metadata": {},
   "outputs": [],
   "source": [
    "# 7.5.5 DataFrame的切片操作\n",
    "df17['total_rooms']\n",
    "df17[5: 15]\n",
    "df17.loc[5: 15, ['longitude', 'total_rooms', 'population']]  # 读取特定行和列交叉切片部分\n",
    "df17[5: 15][['longitude', 'total_rooms', 'population']]  # 读取特定行和列交叉切片部分"
   ]
  },
  {
   "cell_type": "code",
   "execution_count": null,
   "id": "80c2606b-6af3-40c3-af93-3344448f775f",
   "metadata": {},
   "outputs": [],
   "source": [
    "# 7.5.6 DataFrame排序操作\n",
    "df17.sort_values(by = 'housing_median_age').head()\n",
    "df17.sort_values(by = ['housing_median_age', 'population'], ascending = [True, False]).head(10)  # True - 升序, False - 降序"
   ]
  },
  {
   "cell_type": "code",
   "execution_count": null,
   "id": "aad207cb-a1ed-40b0-a16a-28fd200e41f5",
   "metadata": {},
   "outputs": [],
   "source": [
    "# 7.5.7 pandas的聚合和分组运算\n",
    "df17.population.agg(['min', 'max', 'mean', 'median'])\n",
    "df17.population.agg(['min', 'max', np.mean, 'median'])  # 使用第三方或者自定义的聚合函数\n",
    "df17['population'].mode()  # 众数\n",
    "df17['population'].agg('mode')  # 众数\n",
    "df17['population'].value_counts()  # 分组统计验证众数的计算结果\n",
    "df17[['population', 'total_rooms']].agg(['skew', 'kurt'])  # 计算峰度(大于0较正态分布陡峭,小于0较正态分布平坦)和偏度(大于0分布右偏, 小于0分布左偏)\n",
    "df17_ocean_proximity = df17.groupby(['ocean_proximity'])\n",
    "print(type(df17_ocean_proximity))\n",
    "df17_ocean_proximity.mean()  # 计算分组之后的均值\n",
    "df17_ocean_proximity.count()  # 计算分组之后的计数\n",
    "df17_ocean_proximity.median()  # 计算分组之后的中位数 \n",
    "df17_ocean_proximity.describe()  # 计算分组之后的统计描述\n",
    "df17.groupby('ocean_proximity')[['total_rooms']].mean() # 双层方括号,返回DataFrame对象\n",
    "df17.groupby('ocean_proximity')['total_rooms'].mean()  # 单层方括号,返回Series对象\n",
    "df17.groupby('ocean_proximity')['total_rooms', 'housing_median_age'].agg(['mean', 'std', 'skew'])  # 通过ocean_proximity分组后\n",
    "                                                                                                   # 求total_rooms,housing_median_age的均值,标准差,偏度"
   ]
  },
  {
   "cell_type": "code",
   "execution_count": null,
   "id": "be688f85-1bed-48c8-80f7-a3586df0a8c4",
   "metadata": {},
   "outputs": [],
   "source": [
    "# 7.5.8 DataFrame透视表\n",
    "df18 = pd.read_csv(\"datasets/housing.csv\")\n",
    "pd.pivot_table(df18, index = ['ocean_proximity'])  # 默认aggfunc='mean'\n",
    "df18.pivot_table(index = ['ocean_proximity'])  # 另一种写法\n",
    "df18.pivot_table(index = ['ocean_proximity', 'housing_median_age'])  # 设置二级index\n",
    "df18.pivot_table(index = ['ocean_proximity', 'housing_median_age']).unstack()  # 将数据的行旋转为列\n",
    "df18.pivot_table(index = ['ocean_proximity', 'housing_median_age']).unstack().stack()  # 将数据的列旋转为行\n",
    "df18.pivot_table(index = ['ocean_proximity', 'housing_median_age'], values = ['households', 'population'])\n",
    "df18.pivot_table(index = ['ocean_proximity', 'housing_median_age'], values = ['households', 'population'], aggfunc = [np.mean, 'sum'])"
   ]
  },
  {
   "cell_type": "code",
   "execution_count": null,
   "id": "b6aebdee-ece4-47c1-b1ff-fb47eb379682",
   "metadata": {},
   "outputs": [],
   "source": [
    "# 7.5.9 DataFrame的类SQL操作\n",
    "df18[df18['ocean_proximity'] == 'NEAR BAY'].head(10)  # 符合条件的前十行\n",
    "df18.query(\"ocean_proximity == 'NEAR BAY'\").head(10)  # 功能同上\n",
    "str = 'NEAR BAY'\n",
    "df18.query(\"ocean_proximity == @str\").head(10)"
   ]
  },
  {
   "cell_type": "code",
   "execution_count": null,
   "id": "81a43b74-f743-4845-b466-17ab1de55b63",
   "metadata": {},
   "outputs": [],
   "source": [
    "# 7.5.10 DataFrame中的数据清洗方法\n",
    "import seaborn as sns\n",
    "import matplotlib.pyplot as plt\n",
    "df19 = pd.read_csv(\"datasets/Titanic_test.csv\")\n",
    "df19.head()\n",
    "df19.shape\n",
    "df19.info()\n",
    "df19.describe()\n",
    "df20 = pd.read_csv(\"datasets/Titanic_train.csv\")\n",
    "df20.isnull().sum()  # 查看数据急缺失值的个数\n",
    "df19_df20 = pd.concat([df19, df20], ignore_index = True, sort = False)  # 拼接,默认使用外连接\n",
    "df19_df20\n",
    "plt.rcParams['font.sans-serif'] = ['SimHei']\n",
    "sns.heatmap(df19_df20.isnull(), cbar = False).set_title(r\"缺失值热力图\")\n",
    "df19_df20['Embarked'].isnull().sum()  # 填充前缺失值的数量\n",
    "df19_df20['Embarked'].fillna(df19_df20['Embarked'].mode()[0], inplace = True)  # 使用众数填充\n",
    "df19_df20['Embarked'].isnull().sum()  # 填充后缺失值的数量\n",
    "df19_df20['Age'].isnull().sum()  # 填充前缺失值的数量\n",
    "df19_df20['Age'].fillna(df19_df20['Age'].mean(), inplace = True)  # 使用众数填充\n",
    "df19_df20['Age'].isnull().sum()  # 填充后缺失值的数量\n",
    "percent_1 = df19_df20.isnull().sum() / df19_df20.isnull().count() * 100\n",
    "percent_2 = round(percent_1, 2).sort_values(ascending = False)\n",
    "total = df19_df20.isnull().sum().sort_values(ascending = False)\n",
    "missing_data = pd.concat([total, percent_2], axis = 1, keys = ['Total', '%'])\n",
    "missing_data.head()\n",
    "df19_df20['Fare'].fillna(df19_df20['Fare'].mean(), inplace = True)\n",
    "df19_df20['Cabin'].fillna('NA', inplace = True)\n",
    "train_clean = df19_df20[df19_df20['Survived'].notnull()]\n",
    "train_clean.to_csv('datasets/Titanic_train_clean.csv')\n",
    "test_clean = df19_df20[df19_df20['Survived'].notnull()]\n",
    "test_clean.drop('Survived', axis = 1).to_csv('datasets/Titanic_test_clean.csv')"
   ]
  },
  {
   "cell_type": "code",
   "execution_count": null,
   "id": "fecfa95f",
   "metadata": {},
   "outputs": [],
   "source": []
  }
 ],
 "metadata": {
  "kernelspec": {
   "display_name": "Python 3 (ipykernel)",
   "language": "python",
   "name": "python3"
  },
  "language_info": {
   "codemirror_mode": {
    "name": "ipython",
    "version": 3
   },
   "file_extension": ".py",
   "mimetype": "text/x-python",
   "name": "python",
   "nbconvert_exporter": "python",
   "pygments_lexer": "ipython3",
   "version": "3.10.9"
  }
 },
 "nbformat": 4,
 "nbformat_minor": 5
}
