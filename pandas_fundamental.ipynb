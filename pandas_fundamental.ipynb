{
 "cells": [
  {
   "cell_type": "code",
   "execution_count": 1,
   "id": "92866299-cdbc-46e4-a6ca-bce5b87344a9",
   "metadata": {},
   "outputs": [],
   "source": [
    "import pandas as pd\n",
    "import numpy as np"
   ]
  },
  {
   "cell_type": "code",
   "execution_count": 2,
   "id": "9212bf5d",
   "metadata": {},
   "outputs": [
    {
     "name": "stdout",
     "output_type": "stream",
     "text": [
      "1.4.2\n"
     ]
    }
   ],
   "source": [
    "print(pd.__version__)\n",
    "# pandas两种常用的数据处理结构: Seris/DataFrame/Panel"
   ]
  },
  {
   "cell_type": "code",
   "execution_count": 3,
   "id": "353e34dc-4451-4b56-be3e-1a034d510dff",
   "metadata": {},
   "outputs": [
    {
     "name": "stdout",
     "output_type": "stream",
     "text": [
      "0     2\n",
      "1     0\n",
      "2    -4\n",
      "3    12\n",
      "dtype: int64\n",
      "[ 2  0 -4 12]\n",
      "RangeIndex(start=0, stop=4, step=1)\n",
      "a    0.952904\n",
      "b   -0.818936\n",
      "c   -1.300935\n",
      "d    0.343959\n",
      "e   -0.549500\n",
      "dtype: float64\n",
      "[ 0.9529036  -0.81893578 -1.30093502  0.34395944 -0.54950015]\n",
      "Index(['a', 'b', 'c', 'd', 'e'], dtype='object')\n",
      "A    0.952904\n",
      "B   -0.818936\n",
      "C   -1.300935\n",
      "D    0.343959\n",
      "E   -0.549500\n",
      "dtype: float64\n",
      "a    1\n",
      "b    2\n",
      "c    3\n",
      "d    4\n",
      "dtype: int64\n",
      "count    4.000000\n",
      "mean     2.500000\n",
      "std      1.290994\n",
      "min      1.000000\n",
      "25%      1.750000\n",
      "50%      2.500000\n",
      "75%      3.250000\n",
      "max      4.000000\n",
      "dtype: float64\n"
     ]
    }
   ],
   "source": [
    "# 1.1 series\n",
    "arr1 = pd.Series([2, 0, -4, 12])  # 创建一个Series对象,Series内部数据类型必须相同\n",
    "print(arr1)\n",
    "print(arr1.values)\n",
    "print(arr1.index)\n",
    "arr2 = pd.Series(np.random.randn(5), index = ['a', 'b', 'c', 'd', 'e'])  # 指定索引\n",
    "print(arr2)\n",
    "print(arr2.values)\n",
    "print(arr2.index)\n",
    "arr2.index = ['A', 'B', 'C', 'D', 'E']\n",
    "print(arr2)\n",
    "dict = {'a': 1, 'b': 2, 'c': 3, 'd': 4}\n",
    "print(pd.Series(dict))  # 使用字典生成时无需设置索引\n",
    "print(pd.Series(dict).describe())  # 对数值列进行统计"
   ]
  },
  {
   "cell_type": "code",
   "execution_count": 4,
   "id": "6b904715-6ac8-4c41-93df-3d4d5df877ce",
   "metadata": {},
   "outputs": [],
   "source": [
    "# 1.2 Series中的数据访问"
   ]
  },
  {
   "cell_type": "code",
   "execution_count": 5,
   "id": "969b1b41-57ad-4698-8eba-47c7dc7e144f",
   "metadata": {},
   "outputs": [
    {
     "name": "stdout",
     "output_type": "stream",
     "text": [
      "beijing       NaN\n",
      "shanghai     10.0\n",
      "henan        10.0\n",
      "guangdong    20.0\n",
      "Name: location, dtype: float64\n",
      "20.0\n",
      "nan\n",
      "beijing       NaN\n",
      "guangdong    20.0\n",
      "Name: location, dtype: float64\n",
      "shanghai     10.0\n",
      "guangdong    20.0\n",
      "beijing       NaN\n",
      "Name: location, dtype: float64\n",
      "0    1\n",
      "1    2\n",
      "2    3\n",
      "0    4\n",
      "1    5\n",
      "2    6\n",
      "dtype: int64\n",
      "0    1\n",
      "1    2\n",
      "2    3\n",
      "3    4\n",
      "4    5\n",
      "5    6\n",
      "dtype: int64\n"
     ]
    },
    {
     "name": "stderr",
     "output_type": "stream",
     "text": [
      "C:\\Users\\zhangcy4\\AppData\\Local\\Temp\\ipykernel_52580\\2523969469.py:11: FutureWarning: The series.append method is deprecated and will be removed from pandas in a future version. Use pandas.concat instead.\n",
      "  print(arr5.append(arr6))  # 拼接产生重复索引\n",
      "C:\\Users\\zhangcy4\\AppData\\Local\\Temp\\ipykernel_52580\\2523969469.py:12: FutureWarning: The series.append method is deprecated and will be removed from pandas in a future version. Use pandas.concat instead.\n",
      "  print(arr5.append(arr6, ignore_index=True))\n"
     ]
    }
   ],
   "source": [
    "arr3 = {\"beijing\": 10, \"shanghai\": 10, \"henan\": 10, \"guangdong\": 20, \"beijing\": None}\n",
    "print(pd.Series(arr3, name=\"location\"))\n",
    "print(pd.Series(arr3, name=\"location\")[3])\n",
    "print(pd.Series(arr3, name=\"location\")[\"beijing\"])\n",
    "arr4 = pd.Series(arr3, name=\"location\")\n",
    "print(arr4[[\"beijing\", \"guangdong\"]])\n",
    "print(arr4[[1, 3, 0]])  # 以乱序访问\n",
    "\n",
    "arr5 = pd.Series([1, 2, 3])\n",
    "arr6 = pd.Series([4, 5, 6])\n",
    "print(arr5.append(arr6))  # 拼接产生重复索引\n",
    "print(arr5.append(arr6, ignore_index=True))"
   ]
  },
  {
   "cell_type": "code",
   "execution_count": 6,
   "id": "61af42c3-068e-492d-8c76-47ed0b12d89b",
   "metadata": {},
   "outputs": [
    {
     "name": "stdout",
     "output_type": "stream",
     "text": [
      "0    2.0\n",
      "1    4.0\n",
      "2    6.0\n",
      "3    NaN\n",
      "dtype: float64\n",
      "0    2.0\n",
      "1    4.0\n",
      "2    6.0\n",
      "3    NaN\n",
      "dtype: float64\n",
      "0    False\n",
      "1    False\n",
      "2     True\n",
      "3    False\n",
      "dtype: bool\n",
      "2    3.0\n",
      "dtype: float64\n",
      "a    0.783451\n",
      "b    0.760004\n",
      "c    0.050091\n",
      "d    0.004292\n",
      "e    1.102438\n",
      "dtype: float64\n",
      "a    0.613796\n",
      "b    0.577607\n",
      "c    0.002509\n",
      "d    0.000018\n",
      "e    1.215370\n",
      "dtype: float64\n",
      "a    0.783451\n",
      "b    0.760004\n",
      "c    0.050091\n",
      "d    0.004292\n",
      "e    1.102438\n",
      "dtype: float64\n",
      "b    0.760004\n",
      "c    0.050091\n",
      "dtype: float64\n",
      "b    0.760004\n",
      "c    0.050091\n",
      "dtype: float64\n"
     ]
    }
   ],
   "source": [
    "# 1.3 Series中的向量化操作与布尔索引\n",
    "arr7 = pd.Series([1, 2, 3, None])\n",
    "print(arr7 * 2)\n",
    "print(arr7 + arr7)\n",
    "print(arr7 > arr7.median())  # 判断元素是否大于所有数据的中位数\n",
    "print(arr7[arr7 > arr7.median()])  # 抽取特定数据\n",
    "arr8 = pd.Series(np.random.randn(5), index=['a','b','c','d','e'])\n",
    "print(arr8)\n",
    "print(np.square(arr8))  # 对每个元素求平方\n",
    "print(np.abs(arr8))  # 对每个元素求绝对值\n",
    "print(arr8[1: 3])  # 切片,左闭右开\n",
    "print(arr8[\"b\": \"c\"])  # 切片,左闭右闭"
   ]
  },
  {
   "cell_type": "code",
   "execution_count": 7,
   "id": "c4de071e-0ad1-4bd8-bfa2-4e45fda09bc7",
   "metadata": {},
   "outputs": [
    {
     "name": "stdout",
     "output_type": "stream",
     "text": [
      "a    1.0\n",
      "b    2.0\n",
      "c    3.0\n",
      "d    NaN\n",
      "dtype: float64\n",
      "a    False\n",
      "b    False\n",
      "c    False\n",
      "d     True\n",
      "dtype: bool\n",
      "a     True\n",
      "b     True\n",
      "c     True\n",
      "d    False\n",
      "dtype: bool\n",
      "a    False\n",
      "b    False\n",
      "c    False\n",
      "d     True\n",
      "dtype: bool\n",
      "d   NaN\n",
      "dtype: float64\n",
      "d   NaN\n",
      "dtype: float64\n"
     ]
    }
   ],
   "source": [
    "# 1.4 Seris中的缺失值\n",
    "temp = np.array([1, 2, 3, np.nan])\n",
    "arr9 = pd.Series(temp, index=['a', 'b', 'c', 'd'])\n",
    "print(arr9)\n",
    "print(arr9.isnull())\n",
    "print(arr9.notnull())\n",
    "print(pd.isnull(arr9))\n",
    "print(arr9[arr9.isnull() == True])\n",
    "print(arr9[arr9.notnull() == False])"
   ]
  },
  {
   "cell_type": "code",
   "execution_count": 8,
   "id": "f01b1133-490c-47a1-8ccf-8118044a0da7",
   "metadata": {},
   "outputs": [
    {
     "name": "stdout",
     "output_type": "stream",
     "text": [
      "0     2\n",
      "1     0\n",
      "2    -4\n",
      "3    12\n",
      "dtype: int64\n",
      "1     0\n",
      "2    -4\n",
      "3    12\n",
      "dtype: int64\n",
      "0     2\n",
      "1     0\n",
      "2    -4\n",
      "3    12\n",
      "dtype: int64\n",
      "2    -4\n",
      "3    12\n",
      "dtype: int64\n",
      "None\n",
      "1     0\n",
      "2    -4\n",
      "3    12\n",
      "dtype: int64\n",
      "1     0.000000\n",
      "2    -4.000000\n",
      "3    12.000000\n",
      "0     0.927279\n",
      "1     0.771944\n",
      "2     0.446123\n",
      "dtype: float64\n",
      "0     0.000000\n",
      "1    -4.000000\n",
      "2    12.000000\n",
      "3     0.927279\n",
      "4     0.771944\n",
      "5     0.446123\n",
      "dtype: float64\n",
      "label\n",
      "0    0.927279\n",
      "1    0.771944\n",
      "2    0.446123\n",
      "Name: title, dtype: float64\n"
     ]
    },
    {
     "name": "stderr",
     "output_type": "stream",
     "text": [
      "C:\\Users\\zhangcy4\\AppData\\Local\\Temp\\ipykernel_52580\\1651780994.py:10: FutureWarning: The series.append method is deprecated and will be removed from pandas in a future version. Use pandas.concat instead.\n",
      "  print(arr10.append(arr11))  # 不会改变索引\n",
      "C:\\Users\\zhangcy4\\AppData\\Local\\Temp\\ipykernel_52580\\1651780994.py:11: FutureWarning: The series.append method is deprecated and will be removed from pandas in a future version. Use pandas.concat instead.\n",
      "  print(arr10.append(arr11, ignore_index=True))  # 索引重构\n"
     ]
    }
   ],
   "source": [
    "# 1.5 Seris的删除与添加操作, name属性\n",
    "arr10 = pd.Series([2, 0, -4, 12])\n",
    "print(arr10)\n",
    "print(arr10.drop(0))\n",
    "print(arr10)  # 并不会在原数组真的删除\n",
    "print(arr10.drop([0, 1]))\n",
    "print(arr10.drop(0, inplace=True))  # 设置参数,真的删除\n",
    "print(arr10)\n",
    "arr11 = pd.Series(np.random.rand(3))\n",
    "print(arr10.append(arr11))  # 不会改变索引\n",
    "print(arr10.append(arr11, ignore_index=True))  # 索引重构\n",
    "arr11.name = 'title'\n",
    "arr11.index.name = 'label'\n",
    "print(arr11)"
   ]
  },
  {
   "cell_type": "code",
   "execution_count": 9,
   "id": "46e0ddcc-858a-45f9-b99d-f1fd5608ea50",
   "metadata": {},
   "outputs": [
    {
     "name": "stdout",
     "output_type": "stream",
     "text": [
      "         senrences\n",
      "0      just a test\n",
      "1    just two test\n",
      "2  just three test\n",
      "   one  two  three\n",
      "0    1    4      7\n",
      "1    2    5      8\n",
      "2    3    6      9\n",
      "   0  1  2\n",
      "0  8  8  4\n",
      "1  7  1  8\n",
      "2  1  7  9\n",
      "   one  two  thress\n",
      "a    8    8       4\n",
      "b    7    1       8\n",
      "c    1    7       9\n",
      "Index(['a', 'b', 'c'], dtype='object')\n",
      "Index(['one', 'two', 'thress'], dtype='object')\n",
      "         one  two  three    a    b    c\n",
      "Series1  0.0  1.0    2.0  NaN  NaN  NaN\n",
      "Series2  NaN  NaN    NaN  0.0  1.0  2.0\n",
      "       Series1  Series2\n",
      "one        0.0      NaN\n",
      "two        1.0      NaN\n",
      "three      2.0      NaN\n",
      "a          NaN      0.0\n",
      "b          NaN      1.0\n",
      "c          NaN      2.0\n",
      "       Series1  Series2\n",
      "one        0.0      NaN\n",
      "two        1.0      NaN\n",
      "three      2.0      NaN\n",
      "a          NaN      0.0\n",
      "b          NaN      1.0\n",
      "c          NaN      2.0\n"
     ]
    }
   ],
   "source": [
    "# 2.1 DataFrame类型\n",
    "# 2.2.1 构建DataFrame\n",
    "df1 = pd.DataFrame({'senrences': ['just a test', 'just two test', 'just three test']})\n",
    "print(df1)\n",
    "data = {'one':[1, 2, 3], 'two':[4, 5, 6], 'three': [7, 8, 9]}\n",
    "df2 = pd.DataFrame(data)\n",
    "print(df2)\n",
    "data = np.random.randint(1, 10, 9).reshape(3, 3)  # 左闭右开区间的离散均匀分布的随机整数;\n",
    "df3 = pd.DataFrame(data)\n",
    "print(df3)\n",
    "df4 = pd.DataFrame(data, columns = ['one', 'two', 'thress'], index = ['a', 'b', 'c'])\n",
    "print(df4)\n",
    "print(df4.index)  # 读取列名称\n",
    "print(df4.columns)  # 读取列名称\n",
    "row1 = pd.Series(np.arange(3), index = ['one', 'two', 'three'])\n",
    "row2 = pd.Series(np.arange(3), index = ['a', 'b', 'c'])\n",
    "row1.name = 'Series1'\n",
    "row2.name = 'Series2'\n",
    "df5 = pd.DataFrame([row1, row2])  # 通过Series构建DataFrame\n",
    "print(df5)\n",
    "print(df5.T)  # 转置,不改变原DataFrame的值\n",
    "print(df5.transpose())  # 等价于df5.T"
   ]
  },
  {
   "cell_type": "code",
   "execution_count": 10,
   "id": "50c10445-511c-4bf7-bc89-060c9c93839a",
   "metadata": {},
   "outputs": [
    {
     "name": "stdout",
     "output_type": "stream",
     "text": [
      "   one  two  thress\n",
      "a    8    8       4\n",
      "b    7    1       8\n",
      "c    1    7       9\n",
      "Index(['one', 'two', 'thress'], dtype='object')\n",
      "['one' 'two' 'thress']\n",
      "one\n",
      "a    8\n",
      "b    7\n",
      "c    1\n",
      "Name: one, dtype: int32\n",
      "a    8\n",
      "b    7\n",
      "c    1\n",
      "Name: one, dtype: int32\n",
      "   one  two\n",
      "a    8    8\n",
      "b    7    1\n",
      "c    1    7\n",
      "   one  two  thress\n",
      "a    8    8       4\n",
      "   one  two  thress\n",
      "a    8    8       4\n",
      "b    7    1       8\n",
      "    one  two  thress\n",
      "aa    8    8       4\n",
      "bb    7    1       8\n",
      "cc    1    7       9\n",
      "    one  two  thress\n",
      "aa    8    8       4\n",
      "bb    7    1       8\n",
      "    one  two  thress\n",
      "aa    8    8       4\n",
      "    two  thress\n",
      "aa    8       4\n",
      "bb    1       8\n",
      "cc    7       9\n",
      "one       7\n",
      "two       1\n",
      "thress    8\n",
      "Name: bb, dtype: int32\n",
      "    one  two  thress\n",
      "aa    8    8       4\n",
      "bb    7    1       8\n",
      "    one  two  thress\n",
      "aa    8    8       4\n",
      "cc    1    7       9\n",
      "9\n",
      "    two  thress\n",
      "aa    8       4\n",
      "bb    1       8\n"
     ]
    }
   ],
   "source": [
    "# 2.2.2 访问DataFrame中的列与行\n",
    "df6 = pd.DataFrame(data, columns = ['one', 'two', 'thress'], index = ['a', 'b', 'c'])\n",
    "print(df6)\n",
    "print(df6.columns)  # 读取列名,返回的时index对象;\n",
    "print(df6.columns.values)  # 读区index对象的值;\n",
    "print(df6.columns.values[0])\n",
    "print(df6['one'])  # 获取一列数据;\n",
    "print(df6.one)  # 等价于上面的写法,注意这种写法对于列名不符合python命名规范的情况不适用;\n",
    "print(df6[['one', 'two']])  #访问多个列;\n",
    "print(df6[:1])  # 获取多行数据,左闭右开\n",
    "print(df6[0: 2])\n",
    "df6.index = ['aa', 'bb', 'cc']  # 修改行索引\n",
    "print(df6)\n",
    "print(df6.loc[['aa', 'bb']])  # 访问两行数据\n",
    "print(df6['a': 'b'])\n",
    "print(df6.iloc[:,1:])  # 获取所有行第一列之后的数据\n",
    "print(df6.iloc[1])  # 获取第一行的数据\n",
    "print(df6.iloc[0: 2])  # 返回连续行,等同于df6[0:2]\n",
    "print(df6.iloc[[0, 2]])  # 返回间隔行,返回第0行和第2行数据\n",
    "print(df6.iloc[2, 2])  # 获取第2行第2列的数据\n",
    "print(df6.iloc[0:2, 1:])  # 获取第0行,第1行,从第1列开始至最后1列的数据"
   ]
  },
  {
   "cell_type": "code",
   "execution_count": 12,
   "id": "42fe95f0-60ab-43b0-9b64-007aed26dcba",
   "metadata": {},
   "outputs": [],
   "source": [
    "# 2.2.3 DataFrame中的删除操作\n",
    "data = {'one': [1, 2, 3],'two': [4, 5, 6],'three': [7, 8, 9]}\n",
    "df7 = pd.DataFrame(data)"
   ]
  },
  {
   "cell_type": "code",
   "execution_count": null,
   "id": "6e6d409a-feea-4676-a8c8-871325063642",
   "metadata": {},
   "outputs": [],
   "source": []
  }
 ],
 "metadata": {
  "kernelspec": {
   "display_name": "Python 3 (ipykernel)",
   "language": "python",
   "name": "python3"
  },
  "language_info": {
   "codemirror_mode": {
    "name": "ipython",
    "version": 3
   },
   "file_extension": ".py",
   "mimetype": "text/x-python",
   "name": "python",
   "nbconvert_exporter": "python",
   "pygments_lexer": "ipython3",
   "version": "3.9.12"
  }
 },
 "nbformat": 4,
 "nbformat_minor": 5
}
